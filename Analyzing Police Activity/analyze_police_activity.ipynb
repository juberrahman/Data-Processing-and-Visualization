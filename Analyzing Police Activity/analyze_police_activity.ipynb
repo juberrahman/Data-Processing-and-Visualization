{
  "nbformat": 4,
  "nbformat_minor": 0,
  "metadata": {
    "colab": {
      "name": "analyze_police_activity.ipynb",
      "provenance": []
    },
    "kernelspec": {
      "name": "python3",
      "display_name": "Python 3"
    }
  },
  "cells": [
    {
      "cell_type": "code",
      "metadata": {
        "id": "_HeBMsYK3SYP",
        "colab_type": "code",
        "colab": {}
      },
      "source": [
        "import pandas as pd\n",
        "import numpy as np\n",
        "import matplotlib.pyplot as plt"
      ],
      "execution_count": 0,
      "outputs": []
    },
    {
      "cell_type": "code",
      "metadata": {
        "id": "ky84P108F1LG",
        "colab_type": "code",
        "outputId": "54b1ff4d-7e8a-4e25-e1fc-e71c9182f69c",
        "colab": {
          "base_uri": "https://localhost:8080/",
          "height": 887
        }
      },
      "source": [
        "# Import the pandas library as pd\n",
        "import pandas as pd\n",
        "\n",
        "# Read 'police.csv' into a DataFrame named ri\n",
        "ri = pd.read_csv('RI-clean.csv')\n",
        "\n",
        "# Examine the head of the DataFrame\n",
        "display(ri.head())\n",
        "\n",
        "# Count the number of missing values in each column\n",
        "print(ri.isnull().sum())"
      ],
      "execution_count": 1,
      "outputs": [
        {
          "output_type": "stream",
          "text": [
            "/usr/local/lib/python3.6/dist-packages/IPython/core/interactiveshell.py:2718: DtypeWarning: Columns (8) have mixed types.Specify dtype option on import or set low_memory=False.\n",
            "  interactivity=interactivity, compiler=compiler, result=result)\n"
          ],
          "name": "stderr"
        },
        {
          "output_type": "display_data",
          "data": {
            "text/html": [
              "<div>\n",
              "<style scoped>\n",
              "    .dataframe tbody tr th:only-of-type {\n",
              "        vertical-align: middle;\n",
              "    }\n",
              "\n",
              "    .dataframe tbody tr th {\n",
              "        vertical-align: top;\n",
              "    }\n",
              "\n",
              "    .dataframe thead th {\n",
              "        text-align: right;\n",
              "    }\n",
              "</style>\n",
              "<table border=\"1\" class=\"dataframe\">\n",
              "  <thead>\n",
              "    <tr style=\"text-align: right;\">\n",
              "      <th></th>\n",
              "      <th>id</th>\n",
              "      <th>state</th>\n",
              "      <th>stop_date</th>\n",
              "      <th>stop_time</th>\n",
              "      <th>location_raw</th>\n",
              "      <th>county_name</th>\n",
              "      <th>county_fips</th>\n",
              "      <th>fine_grained_location</th>\n",
              "      <th>police_department</th>\n",
              "      <th>driver_gender</th>\n",
              "      <th>driver_age_raw</th>\n",
              "      <th>driver_age</th>\n",
              "      <th>driver_race_raw</th>\n",
              "      <th>driver_race</th>\n",
              "      <th>violation_raw</th>\n",
              "      <th>violation</th>\n",
              "      <th>search_conducted</th>\n",
              "      <th>search_type_raw</th>\n",
              "      <th>search_type</th>\n",
              "      <th>contraband_found</th>\n",
              "      <th>stop_outcome</th>\n",
              "      <th>is_arrested</th>\n",
              "      <th>stop_duration</th>\n",
              "      <th>out_of_state</th>\n",
              "      <th>drugs_related_stop</th>\n",
              "      <th>district</th>\n",
              "    </tr>\n",
              "  </thead>\n",
              "  <tbody>\n",
              "    <tr>\n",
              "      <th>0</th>\n",
              "      <td>RI-2005-00001</td>\n",
              "      <td>RI</td>\n",
              "      <td>2005-01-02</td>\n",
              "      <td>01:55</td>\n",
              "      <td>Zone K1</td>\n",
              "      <td>NaN</td>\n",
              "      <td>NaN</td>\n",
              "      <td>NaN</td>\n",
              "      <td>600</td>\n",
              "      <td>M</td>\n",
              "      <td>1985.0</td>\n",
              "      <td>20.0</td>\n",
              "      <td>W</td>\n",
              "      <td>White</td>\n",
              "      <td>Speeding</td>\n",
              "      <td>Speeding</td>\n",
              "      <td>False</td>\n",
              "      <td>NaN</td>\n",
              "      <td>NaN</td>\n",
              "      <td>False</td>\n",
              "      <td>Citation</td>\n",
              "      <td>False</td>\n",
              "      <td>0-15 Min</td>\n",
              "      <td>False</td>\n",
              "      <td>False</td>\n",
              "      <td>Zone K1</td>\n",
              "    </tr>\n",
              "    <tr>\n",
              "      <th>1</th>\n",
              "      <td>RI-2005-00002</td>\n",
              "      <td>RI</td>\n",
              "      <td>2005-01-02</td>\n",
              "      <td>20:30</td>\n",
              "      <td>Zone X4</td>\n",
              "      <td>NaN</td>\n",
              "      <td>NaN</td>\n",
              "      <td>NaN</td>\n",
              "      <td>500</td>\n",
              "      <td>M</td>\n",
              "      <td>1987.0</td>\n",
              "      <td>18.0</td>\n",
              "      <td>W</td>\n",
              "      <td>White</td>\n",
              "      <td>Speeding</td>\n",
              "      <td>Speeding</td>\n",
              "      <td>False</td>\n",
              "      <td>NaN</td>\n",
              "      <td>NaN</td>\n",
              "      <td>False</td>\n",
              "      <td>Citation</td>\n",
              "      <td>False</td>\n",
              "      <td>16-30 Min</td>\n",
              "      <td>False</td>\n",
              "      <td>False</td>\n",
              "      <td>Zone X4</td>\n",
              "    </tr>\n",
              "    <tr>\n",
              "      <th>2</th>\n",
              "      <td>RI-2005-00003</td>\n",
              "      <td>RI</td>\n",
              "      <td>2005-01-04</td>\n",
              "      <td>11:30</td>\n",
              "      <td>Zone X1</td>\n",
              "      <td>NaN</td>\n",
              "      <td>NaN</td>\n",
              "      <td>NaN</td>\n",
              "      <td>0</td>\n",
              "      <td>NaN</td>\n",
              "      <td>NaN</td>\n",
              "      <td>NaN</td>\n",
              "      <td>NaN</td>\n",
              "      <td>NaN</td>\n",
              "      <td>NaN</td>\n",
              "      <td>NaN</td>\n",
              "      <td>False</td>\n",
              "      <td>NaN</td>\n",
              "      <td>NaN</td>\n",
              "      <td>False</td>\n",
              "      <td>NaN</td>\n",
              "      <td>NaN</td>\n",
              "      <td>NaN</td>\n",
              "      <td>NaN</td>\n",
              "      <td>False</td>\n",
              "      <td>Zone X1</td>\n",
              "    </tr>\n",
              "    <tr>\n",
              "      <th>3</th>\n",
              "      <td>RI-2005-00004</td>\n",
              "      <td>RI</td>\n",
              "      <td>2005-01-04</td>\n",
              "      <td>12:55</td>\n",
              "      <td>Zone X4</td>\n",
              "      <td>NaN</td>\n",
              "      <td>NaN</td>\n",
              "      <td>NaN</td>\n",
              "      <td>500</td>\n",
              "      <td>M</td>\n",
              "      <td>1986.0</td>\n",
              "      <td>19.0</td>\n",
              "      <td>W</td>\n",
              "      <td>White</td>\n",
              "      <td>Equipment/Inspection Violation</td>\n",
              "      <td>Equipment</td>\n",
              "      <td>False</td>\n",
              "      <td>NaN</td>\n",
              "      <td>NaN</td>\n",
              "      <td>False</td>\n",
              "      <td>Citation</td>\n",
              "      <td>False</td>\n",
              "      <td>0-15 Min</td>\n",
              "      <td>False</td>\n",
              "      <td>False</td>\n",
              "      <td>Zone X4</td>\n",
              "    </tr>\n",
              "    <tr>\n",
              "      <th>4</th>\n",
              "      <td>RI-2005-00005</td>\n",
              "      <td>RI</td>\n",
              "      <td>2005-01-06</td>\n",
              "      <td>01:30</td>\n",
              "      <td>Zone X4</td>\n",
              "      <td>NaN</td>\n",
              "      <td>NaN</td>\n",
              "      <td>NaN</td>\n",
              "      <td>500</td>\n",
              "      <td>M</td>\n",
              "      <td>1978.0</td>\n",
              "      <td>27.0</td>\n",
              "      <td>B</td>\n",
              "      <td>Black</td>\n",
              "      <td>Equipment/Inspection Violation</td>\n",
              "      <td>Equipment</td>\n",
              "      <td>False</td>\n",
              "      <td>NaN</td>\n",
              "      <td>NaN</td>\n",
              "      <td>False</td>\n",
              "      <td>Citation</td>\n",
              "      <td>False</td>\n",
              "      <td>0-15 Min</td>\n",
              "      <td>False</td>\n",
              "      <td>False</td>\n",
              "      <td>Zone X4</td>\n",
              "    </tr>\n",
              "  </tbody>\n",
              "</table>\n",
              "</div>"
            ],
            "text/plain": [
              "              id state   stop_date  ... out_of_state drugs_related_stop  district\n",
              "0  RI-2005-00001    RI  2005-01-02  ...        False              False   Zone K1\n",
              "1  RI-2005-00002    RI  2005-01-02  ...        False              False   Zone X4\n",
              "2  RI-2005-00003    RI  2005-01-04  ...          NaN              False   Zone X1\n",
              "3  RI-2005-00004    RI  2005-01-04  ...        False              False   Zone X4\n",
              "4  RI-2005-00005    RI  2005-01-06  ...        False              False   Zone X4\n",
              "\n",
              "[5 rows x 26 columns]"
            ]
          },
          "metadata": {
            "tags": []
          }
        },
        {
          "output_type": "stream",
          "text": [
            "id                           0\n",
            "state                        0\n",
            "stop_date                    0\n",
            "stop_time                    0\n",
            "location_raw                 0\n",
            "county_name              90332\n",
            "county_fips              90332\n",
            "fine_grained_location    90332\n",
            "police_department            0\n",
            "driver_gender             3824\n",
            "driver_age_raw            3796\n",
            "driver_age                4147\n",
            "driver_race_raw           3821\n",
            "driver_race               3821\n",
            "violation_raw             3821\n",
            "violation                 3821\n",
            "search_conducted             0\n",
            "search_type_raw          86886\n",
            "search_type              86886\n",
            "contraband_found             0\n",
            "stop_outcome              3821\n",
            "is_arrested               3821\n",
            "stop_duration             3821\n",
            "out_of_state              4117\n",
            "drugs_related_stop           0\n",
            "district                     0\n",
            "dtype: int64\n"
          ],
          "name": "stdout"
        }
      ]
    },
    {
      "cell_type": "code",
      "metadata": {
        "id": "N8fAWuEGGYMg",
        "colab_type": "code",
        "outputId": "40bcdbac-1b10-47bf-9aae-7ac8dc295f13",
        "colab": {
          "base_uri": "https://localhost:8080/",
          "height": 51
        }
      },
      "source": [
        "# Examine the shape of the DataFrame\n",
        "print(ri.shape)\n",
        "\n",
        "# Drop the 'county_name' and 'state' columns\n",
        "ri.drop(['county_name','state'], axis='columns', inplace=True)\n",
        "\n",
        "# Examine the shape of the DataFrame (again)\n",
        "print(ri.shape)"
      ],
      "execution_count": 2,
      "outputs": [
        {
          "output_type": "stream",
          "text": [
            "(90332, 26)\n",
            "(90332, 24)\n"
          ],
          "name": "stdout"
        }
      ]
    },
    {
      "cell_type": "code",
      "metadata": {
        "id": "BvZZewx6G7Nu",
        "colab_type": "code",
        "outputId": "f67b3935-e5d4-417f-dfb1-606ac91ea245",
        "colab": {
          "base_uri": "https://localhost:8080/",
          "height": 884
        }
      },
      "source": [
        "\n",
        "# Count the number of missing values in each column\n",
        "print(ri.isnull().sum())\n",
        "\n",
        "# Drop all rows that are missing 'driver_gender'\n",
        "ri.dropna(subset=['driver_gender'], inplace=True)\n",
        "\n",
        "# Count the number of missing values in each column (again)\n",
        "print(ri.isnull().sum())\n",
        "\n",
        "# Examine the shape of the DataFrame\n",
        "print(ri.shape)"
      ],
      "execution_count": 3,
      "outputs": [
        {
          "output_type": "stream",
          "text": [
            "id                           0\n",
            "stop_date                    0\n",
            "stop_time                    0\n",
            "location_raw                 0\n",
            "county_fips              90332\n",
            "fine_grained_location    90332\n",
            "police_department            0\n",
            "driver_gender             3824\n",
            "driver_age_raw            3796\n",
            "driver_age                4147\n",
            "driver_race_raw           3821\n",
            "driver_race               3821\n",
            "violation_raw             3821\n",
            "violation                 3821\n",
            "search_conducted             0\n",
            "search_type_raw          86886\n",
            "search_type              86886\n",
            "contraband_found             0\n",
            "stop_outcome              3821\n",
            "is_arrested               3821\n",
            "stop_duration             3821\n",
            "out_of_state              4117\n",
            "drugs_related_stop           0\n",
            "district                     0\n",
            "dtype: int64\n",
            "id                           0\n",
            "stop_date                    0\n",
            "stop_time                    0\n",
            "location_raw                 0\n",
            "county_fips              86508\n",
            "fine_grained_location    86508\n",
            "police_department            0\n",
            "driver_gender                0\n",
            "driver_age_raw               0\n",
            "driver_age                 344\n",
            "driver_race_raw              0\n",
            "driver_race                  0\n",
            "violation_raw                0\n",
            "violation                    0\n",
            "search_conducted             0\n",
            "search_type_raw          83062\n",
            "search_type              83062\n",
            "contraband_found             0\n",
            "stop_outcome                 0\n",
            "is_arrested                  0\n",
            "stop_duration                0\n",
            "out_of_state               296\n",
            "drugs_related_stop           0\n",
            "district                     0\n",
            "dtype: int64\n",
            "(86508, 24)\n"
          ],
          "name": "stdout"
        }
      ]
    },
    {
      "cell_type": "code",
      "metadata": {
        "id": "vZx0at4kGxxY",
        "colab_type": "code",
        "outputId": "314e528b-0e3c-4cd0-caa5-ad5394c8cb65",
        "colab": {
          "base_uri": "https://localhost:8080/",
          "height": 442
        }
      },
      "source": [
        "# check the columns data types\n",
        "ri.dtypes"
      ],
      "execution_count": 4,
      "outputs": [
        {
          "output_type": "execute_result",
          "data": {
            "text/plain": [
              "id                        object\n",
              "stop_date                 object\n",
              "stop_time                 object\n",
              "location_raw              object\n",
              "county_fips              float64\n",
              "fine_grained_location    float64\n",
              "police_department         object\n",
              "driver_gender             object\n",
              "driver_age_raw           float64\n",
              "driver_age               float64\n",
              "driver_race_raw           object\n",
              "driver_race               object\n",
              "violation_raw             object\n",
              "violation                 object\n",
              "search_conducted            bool\n",
              "search_type_raw           object\n",
              "search_type               object\n",
              "contraband_found            bool\n",
              "stop_outcome              object\n",
              "is_arrested               object\n",
              "stop_duration             object\n",
              "out_of_state              object\n",
              "drugs_related_stop          bool\n",
              "district                  object\n",
              "dtype: object"
            ]
          },
          "metadata": {
            "tags": []
          },
          "execution_count": 4
        }
      ]
    },
    {
      "cell_type": "code",
      "metadata": {
        "id": "buANAGcuIUeK",
        "colab_type": "code",
        "outputId": "79ad4bbd-c47e-4948-b991-ca96338f6039",
        "colab": {
          "base_uri": "https://localhost:8080/",
          "height": 51
        }
      },
      "source": [
        "# Examine the head of the 'is_arrested' column\n",
        "print(ri.is_arrested.dtypes)\n",
        "\n",
        "# Change the data type of 'is_arrested' to 'bool'\n",
        "ri['is_arrested'] = ri.is_arrested.astype('bool')\n",
        "\n",
        "# Check the data type of 'is_arrested' \n",
        "print(ri.is_arrested.dtypes)"
      ],
      "execution_count": 5,
      "outputs": [
        {
          "output_type": "stream",
          "text": [
            "object\n",
            "bool\n"
          ],
          "name": "stdout"
        }
      ]
    },
    {
      "cell_type": "code",
      "metadata": {
        "id": "Fu41MDAxI44o",
        "colab_type": "code",
        "outputId": "956a50c0-5ee1-4df3-eede-06fda2c8cd5a",
        "colab": {
          "base_uri": "https://localhost:8080/",
          "height": 459
        }
      },
      "source": [
        "# Concatenate 'stop_date' and 'stop_time' (separated by a space)\n",
        "combined = ri.stop_date.str.cat(ri.stop_time,sep=' ')\n",
        "\n",
        "# Convert 'combined' to datetime format\n",
        "ri['stop_datetime'] = pd.to_datetime(combined)\n",
        "\n",
        "# Examine the data types of the DataFrame\n",
        "print(ri.dtypes)"
      ],
      "execution_count": 6,
      "outputs": [
        {
          "output_type": "stream",
          "text": [
            "id                               object\n",
            "stop_date                        object\n",
            "stop_time                        object\n",
            "location_raw                     object\n",
            "county_fips                     float64\n",
            "fine_grained_location           float64\n",
            "police_department                object\n",
            "driver_gender                    object\n",
            "driver_age_raw                  float64\n",
            "driver_age                      float64\n",
            "driver_race_raw                  object\n",
            "driver_race                      object\n",
            "violation_raw                    object\n",
            "violation                        object\n",
            "search_conducted                   bool\n",
            "search_type_raw                  object\n",
            "search_type                      object\n",
            "contraband_found                   bool\n",
            "stop_outcome                     object\n",
            "is_arrested                        bool\n",
            "stop_duration                    object\n",
            "out_of_state                     object\n",
            "drugs_related_stop                 bool\n",
            "district                         object\n",
            "stop_datetime            datetime64[ns]\n",
            "dtype: object\n"
          ],
          "name": "stdout"
        }
      ]
    },
    {
      "cell_type": "code",
      "metadata": {
        "id": "VZG-nD5PKqqk",
        "colab_type": "code",
        "outputId": "617cc20f-ec24-4498-9314-55ad411dd973",
        "colab": {
          "base_uri": "https://localhost:8080/",
          "height": 340
        }
      },
      "source": [
        "# Set 'stop_datetime' as the index\n",
        "ri.set_index('stop_datetime', inplace=True)\n",
        "\n",
        "# Examine the index\n",
        "print(ri.index)\n",
        "\n",
        "# Examine the columns\n",
        "print(ri.columns)"
      ],
      "execution_count": 7,
      "outputs": [
        {
          "output_type": "stream",
          "text": [
            "DatetimeIndex(['2005-01-02 01:55:00', '2005-01-02 20:30:00',\n",
            "               '2005-01-04 12:55:00', '2005-01-06 01:30:00',\n",
            "               '2005-01-12 08:05:00', '2005-01-18 08:15:00',\n",
            "               '2005-01-18 17:13:00', '2005-01-23 23:15:00',\n",
            "               '2005-01-24 20:32:00', '2005-02-09 03:05:00',\n",
            "               ...\n",
            "               '2007-04-23 23:25:00', '2007-04-23 23:30:00',\n",
            "               '2007-04-23 23:30:00', '2007-04-23 23:30:00',\n",
            "               '2007-04-23 23:35:00', '2007-04-23 23:56:00',\n",
            "               '2007-04-24 00:02:00', '2007-04-24 00:05:00',\n",
            "               '2007-04-24 00:10:00', '2007-04-24 00:15:00'],\n",
            "              dtype='datetime64[ns]', name='stop_datetime', length=86508, freq=None)\n",
            "Index(['id', 'stop_date', 'stop_time', 'location_raw', 'county_fips',\n",
            "       'fine_grained_location', 'police_department', 'driver_gender',\n",
            "       'driver_age_raw', 'driver_age', 'driver_race_raw', 'driver_race',\n",
            "       'violation_raw', 'violation', 'search_conducted', 'search_type_raw',\n",
            "       'search_type', 'contraband_found', 'stop_outcome', 'is_arrested',\n",
            "       'stop_duration', 'out_of_state', 'drugs_related_stop', 'district'],\n",
            "      dtype='object')\n"
          ],
          "name": "stdout"
        }
      ]
    },
    {
      "cell_type": "code",
      "metadata": {
        "id": "4GpUUwCoK_7I",
        "colab_type": "code",
        "outputId": "da25da1b-c297-416f-b950-780d0f3b8ed3",
        "colab": {
          "base_uri": "https://localhost:8080/",
          "height": 136
        }
      },
      "source": [
        "# Count the unique values in 'violation'\n",
        "print(ri.violation.unique())\n",
        "\n",
        "# Express the counts as proportions\n",
        "print(ri.violation.value_counts(normalize=True))"
      ],
      "execution_count": 8,
      "outputs": [
        {
          "output_type": "stream",
          "text": [
            "['Speeding' 'Equipment' 'Other' 'Moving violation' 'Registration/plates']\n",
            "Speeding               0.766935\n",
            "Moving violation       0.122729\n",
            "Equipment              0.062584\n",
            "Registration/plates    0.029223\n",
            "Other                  0.018530\n",
            "Name: violation, dtype: float64\n"
          ],
          "name": "stdout"
        }
      ]
    },
    {
      "cell_type": "code",
      "metadata": {
        "id": "wDNkl6FRMWWR",
        "colab_type": "code",
        "outputId": "6cc2f554-4bfb-49e2-a8de-8fbc5c11fb77",
        "colab": {
          "base_uri": "https://localhost:8080/",
          "height": 221
        }
      },
      "source": [
        "\n",
        "# Create a DataFrame of female drivers\n",
        "female = ri[ri.driver_gender=='F']\n",
        "\n",
        "# Create a DataFrame of male drivers\n",
        "male = ri[ri.driver_gender=='M']\n",
        "\n",
        "# Compute the violations by female drivers (as proportions)\n",
        "print(female.violation.value_counts(normalize=True))\n",
        "\n",
        "# Compute the violations by male drivers (as proportions)\n",
        "print(male.violation.value_counts(normalize=True))"
      ],
      "execution_count": 9,
      "outputs": [
        {
          "output_type": "stream",
          "text": [
            "Speeding               0.822736\n",
            "Moving violation       0.090839\n",
            "Equipment              0.044582\n",
            "Registration/plates    0.025131\n",
            "Other                  0.016713\n",
            "Name: violation, dtype: float64\n",
            "Speeding               0.744922\n",
            "Moving violation       0.135309\n",
            "Equipment              0.069685\n",
            "Registration/plates    0.030837\n",
            "Other                  0.019247\n",
            "Name: violation, dtype: float64\n"
          ],
          "name": "stdout"
        }
      ]
    },
    {
      "cell_type": "code",
      "metadata": {
        "id": "iD9c8WvTNy46",
        "colab_type": "code",
        "outputId": "e5bdf830-c18e-405a-9c05-5e9063ee30ef",
        "colab": {
          "base_uri": "https://localhost:8080/",
          "height": 255
        }
      },
      "source": [
        "# Create a DataFrame of female drivers stopped for speeding\n",
        "female_and_speeding = ri[(ri.driver_gender=='F') & (ri.violation=='Speeding')]\n",
        "\n",
        "# Create a DataFrame of male drivers stopped for speeding\n",
        "male_and_speeding = ri[(ri.driver_gender=='M') & (ri.violation=='Speeding')]\n",
        "\n",
        "# Compute the stop outcomes for female drivers (as proportions)\n",
        "print(female_and_speeding.stop_outcome.value_counts(normalize=True))\n",
        "\n",
        "# Compute the stop outcomes for male drivers (as proportions)\n",
        "print(male_and_speeding.stop_outcome.value_counts(normalize=True))"
      ],
      "execution_count": 10,
      "outputs": [
        {
          "output_type": "stream",
          "text": [
            "Citation            0.977252\n",
            "Warning             0.010331\n",
            "Arrest Driver       0.007351\n",
            "N/D                 0.002831\n",
            "Arrest Passenger    0.001589\n",
            "No Action           0.000646\n",
            "Name: stop_outcome, dtype: float64\n",
            "Citation            0.962088\n",
            "Arrest Driver       0.023414\n",
            "Warning             0.008807\n",
            "N/D                 0.003116\n",
            "Arrest Passenger    0.001991\n",
            "No Action           0.000584\n",
            "Name: stop_outcome, dtype: float64\n"
          ],
          "name": "stdout"
        }
      ]
    },
    {
      "cell_type": "code",
      "metadata": {
        "id": "kxZI0o3oO-S-",
        "colab_type": "code",
        "outputId": "6cf03274-6a16-45e8-ee87-178fc67efaa0",
        "colab": {
          "base_uri": "https://localhost:8080/",
          "height": 102
        }
      },
      "source": [
        "# Check the data type of 'search_conducted'\n",
        "print(ri.search_conducted.dtypes)\n",
        "\n",
        "# Calculate the search rate by counting the values\n",
        "print(ri.search_conducted.value_counts(normalize=True))\n",
        "\n",
        "# Calculate the search rate by taking the mean\n",
        "print(ri.search_conducted.mean())"
      ],
      "execution_count": 11,
      "outputs": [
        {
          "output_type": "stream",
          "text": [
            "bool\n",
            "False    0.960166\n",
            "True     0.039834\n",
            "Name: search_conducted, dtype: float64\n",
            "0.03983446617653859\n"
          ],
          "name": "stdout"
        }
      ]
    },
    {
      "cell_type": "code",
      "metadata": {
        "id": "-FOmtOVoQxp8",
        "colab_type": "code",
        "outputId": "91e7ccfb-319d-4a57-8567-473c29a6f252",
        "colab": {
          "base_uri": "https://localhost:8080/",
          "height": 51
        }
      },
      "source": [
        "# Calculate the search rate for female drivers\n",
        "print(ri[ri.driver_gender=='F'].search_conducted.mean())\n",
        "# Calculate the search rate for male drivers\n",
        "print(ri[ri.driver_gender=='M'].search_conducted.mean())"
      ],
      "execution_count": 12,
      "outputs": [
        {
          "output_type": "stream",
          "text": [
            "0.018265773128473356\n",
            "0.0483428976723193\n"
          ],
          "name": "stdout"
        }
      ]
    },
    {
      "cell_type": "code",
      "metadata": {
        "id": "2bNblTadRYK8",
        "colab_type": "code",
        "outputId": "53c56601-5f46-4ce5-dd0f-fad7f5e2b022",
        "colab": {
          "base_uri": "https://localhost:8080/",
          "height": 85
        }
      },
      "source": [
        "# Calculate the search rate for both groups simultaneously\n",
        "ri.search_conducted=ri.search_conducted.astype('bool')\n",
        "print(ri.groupby('driver_gender').search_conducted.mean())"
      ],
      "execution_count": 13,
      "outputs": [
        {
          "output_type": "stream",
          "text": [
            "driver_gender\n",
            "F    0.018266\n",
            "M    0.048343\n",
            "Name: search_conducted, dtype: float64\n"
          ],
          "name": "stdout"
        }
      ]
    },
    {
      "cell_type": "code",
      "metadata": {
        "id": "LNmKsU7wQ-hy",
        "colab_type": "code",
        "outputId": "cc5d22a7-b733-4f23-c3cb-b2e31ae11895",
        "colab": {
          "base_uri": "https://localhost:8080/",
          "height": 221
        }
      },
      "source": [
        "# Calculate the search rate for each combination of gender and violation\n",
        "print(ri.groupby(['driver_gender','violation']).search_conducted.mean())"
      ],
      "execution_count": 14,
      "outputs": [
        {
          "output_type": "stream",
          "text": [
            "driver_gender  violation          \n",
            "F              Equipment              0.084326\n",
            "               Moving violation       0.051732\n",
            "               Other                  0.058680\n",
            "               Registration/plates    0.112195\n",
            "               Speeding               0.007301\n",
            "M              Equipment              0.120287\n",
            "               Moving violation       0.087443\n",
            "               Other                  0.146566\n",
            "               Registration/plates    0.166754\n",
            "               Speeding               0.027071\n",
            "Name: search_conducted, dtype: float64\n"
          ],
          "name": "stdout"
        }
      ]
    },
    {
      "cell_type": "code",
      "metadata": {
        "id": "3zh7Mq4Xkb8L",
        "colab_type": "code",
        "outputId": "1c1d516c-9b0a-4fc7-d110-b9e1f909f07a",
        "colab": {
          "base_uri": "https://localhost:8080/",
          "height": 221
        }
      },
      "source": [
        "# Reverse the ordering to group by violation before gender\n",
        "print(ri.groupby(['violation','driver_gender']).search_conducted.mean())"
      ],
      "execution_count": 15,
      "outputs": [
        {
          "output_type": "stream",
          "text": [
            "violation            driver_gender\n",
            "Equipment            F                0.084326\n",
            "                     M                0.120287\n",
            "Moving violation     F                0.051732\n",
            "                     M                0.087443\n",
            "Other                F                0.058680\n",
            "                     M                0.146566\n",
            "Registration/plates  F                0.112195\n",
            "                     M                0.166754\n",
            "Speeding             F                0.007301\n",
            "                     M                0.027071\n",
            "Name: search_conducted, dtype: float64\n"
          ],
          "name": "stdout"
        }
      ]
    },
    {
      "cell_type": "code",
      "metadata": {
        "id": "i0-0eFD0krG7",
        "colab_type": "code",
        "outputId": "7cb84c04-b684-4030-8c39-962a5fabfa8e",
        "colab": {
          "base_uri": "https://localhost:8080/",
          "height": 170
        }
      },
      "source": [
        "print(ri.groupby('violation').count())"
      ],
      "execution_count": 16,
      "outputs": [
        {
          "output_type": "stream",
          "text": [
            "                        id  stop_date  ...  drugs_related_stop  district\n",
            "violation                              ...                              \n",
            "Equipment             5414       5414  ...                5414      5414\n",
            "Moving violation     10617      10617  ...               10617     10617\n",
            "Other                 1603       1603  ...                1603      1603\n",
            "Registration/plates   2528       2528  ...                2528      2528\n",
            "Speeding             66346      66346  ...               66346     66346\n",
            "\n",
            "[5 rows x 23 columns]\n"
          ],
          "name": "stdout"
        }
      ]
    },
    {
      "cell_type": "code",
      "metadata": {
        "id": "0wQdNgORugot",
        "colab_type": "code",
        "outputId": "7402b483-dc8f-4543-dc3b-2cd2d246ee53",
        "colab": {
          "base_uri": "https://localhost:8080/",
          "height": 476
        }
      },
      "source": [
        "# Count the 'search_type' values\n",
        "print(ri.search_type.value_counts())\n",
        "\n",
        "# Check if 'search_type' contains the string 'Protective Frisk'\n",
        "ri['frisk'] = ri.search_type.str.contains('Protective Frisk', na=False)\n",
        "\n",
        "# Check the data type of 'frisk'\n",
        "print(ri.frisk.dtypes)\n",
        "\n",
        "# Take the sum of 'frisk'\n",
        "print(ri.frisk.sum())"
      ],
      "execution_count": 17,
      "outputs": [
        {
          "output_type": "stream",
          "text": [
            "Incident to Arrest                                          1576\n",
            "Probable Cause                                               486\n",
            "Protective Frisk                                             317\n",
            "Inventory                                                    207\n",
            "Incident to Arrest,Inventory                                 180\n",
            "Incident to Arrest,Probable Cause                            111\n",
            "Reasonable Suspicion                                         108\n",
            "Incident to Arrest,Protective Frisk                          105\n",
            "Probable Cause,Protective Frisk                               67\n",
            "Incident to Arrest,Inventory,Protective Frisk                 57\n",
            "Incident to Arrest,Inventory,Probable Cause                   43\n",
            "Incident to Arrest,Probable Cause,Protective Frisk            37\n",
            "Inventory,Protective Frisk                                    35\n",
            "Probable Cause,Reasonable Suspicion                           27\n",
            "Protective Frisk,Reasonable Suspicion                         26\n",
            "Inventory,Probable Cause                                      24\n",
            "Probable Cause,Protective Frisk,Reasonable Suspicion          11\n",
            "Incident to Arrest,Reasonable Suspicion                        7\n",
            "Incident to Arrest,Protective Frisk,Reasonable Suspicion       6\n",
            "Incident to Arrest,Probable Cause,Reasonable Suspicion         6\n",
            "Incident to Arrest,Inventory,Reasonable Suspicion              4\n",
            "Inventory,Probable Cause,Protective Frisk                      3\n",
            "Inventory,Reasonable Suspicion                                 2\n",
            "Inventory,Protective Frisk,Reasonable Suspicion                1\n",
            "Name: search_type, dtype: int64\n",
            "bool\n",
            "665\n"
          ],
          "name": "stdout"
        }
      ]
    },
    {
      "cell_type": "code",
      "metadata": {
        "id": "Gzk19F_dvRZS",
        "colab_type": "code",
        "outputId": "c17134d0-98c9-43b5-b417-fb1cea7e0c90",
        "colab": {
          "base_uri": "https://localhost:8080/",
          "height": 102
        }
      },
      "source": [
        "\n",
        "# Create a DataFrame of stops in which a search was conducted\n",
        "searched = ri[ri.search_conducted == True]\n",
        "\n",
        "# Calculate the overall frisk rate by taking the mean of 'frisk'\n",
        "print(searched.frisk.mean())\n",
        "\n",
        "# Calculate the frisk rate for each gender\n",
        "print(searched.groupby('driver_gender')['frisk'].mean())"
      ],
      "execution_count": 18,
      "outputs": [
        {
          "output_type": "stream",
          "text": [
            "0.1929773650609402\n",
            "driver_gender\n",
            "F    0.138702\n",
            "M    0.201067\n",
            "Name: frisk, dtype: float64\n"
          ],
          "name": "stdout"
        }
      ]
    },
    {
      "cell_type": "code",
      "metadata": {
        "id": "-QfqpBJixgRL",
        "colab_type": "code",
        "colab": {
          "base_uri": "https://localhost:8080/",
          "height": 221
        },
        "outputId": "d95265b1-60c9-4a7b-9255-877dd8b276c8"
      },
      "source": [
        "ri.index"
      ],
      "execution_count": 19,
      "outputs": [
        {
          "output_type": "execute_result",
          "data": {
            "text/plain": [
              "DatetimeIndex(['2005-01-02 01:55:00', '2005-01-02 20:30:00',\n",
              "               '2005-01-04 12:55:00', '2005-01-06 01:30:00',\n",
              "               '2005-01-12 08:05:00', '2005-01-18 08:15:00',\n",
              "               '2005-01-18 17:13:00', '2005-01-23 23:15:00',\n",
              "               '2005-01-24 20:32:00', '2005-02-09 03:05:00',\n",
              "               ...\n",
              "               '2007-04-23 23:25:00', '2007-04-23 23:30:00',\n",
              "               '2007-04-23 23:30:00', '2007-04-23 23:30:00',\n",
              "               '2007-04-23 23:35:00', '2007-04-23 23:56:00',\n",
              "               '2007-04-24 00:02:00', '2007-04-24 00:05:00',\n",
              "               '2007-04-24 00:10:00', '2007-04-24 00:15:00'],\n",
              "              dtype='datetime64[ns]', name='stop_datetime', length=86508, freq=None)"
            ]
          },
          "metadata": {
            "tags": []
          },
          "execution_count": 19
        }
      ]
    },
    {
      "cell_type": "code",
      "metadata": {
        "id": "wGSt5zpEvyOk",
        "colab_type": "code",
        "colab": {
          "base_uri": "https://localhost:8080/",
          "height": 476
        },
        "outputId": "0b0a42bc-9f98-4faa-bd03-72c1604dc15d"
      },
      "source": [
        "# Calculate the overall arrest rate\n",
        "print(ri.is_arrested.mean())\n",
        "\n",
        "# Calculate the hourly arrest rate\n",
        "print(ri.groupby(ri.index.hour).is_arrested.mean())\n",
        "\n",
        "# Save the hourly arrest rate\n",
        "hourly_arrest_rate = ri.groupby(ri.index.hour).is_arrested.mean()"
      ],
      "execution_count": 22,
      "outputs": [
        {
          "output_type": "stream",
          "text": [
            "0.04560271882369261\n",
            "stop_datetime\n",
            "0     0.075387\n",
            "1     0.090330\n",
            "2     0.099524\n",
            "3     0.080573\n",
            "4     0.080808\n",
            "5     0.041667\n",
            "6     0.018414\n",
            "7     0.018873\n",
            "8     0.024174\n",
            "9     0.028001\n",
            "10    0.029674\n",
            "11    0.025170\n",
            "12    0.036632\n",
            "13    0.032480\n",
            "14    0.033262\n",
            "15    0.038874\n",
            "16    0.041726\n",
            "17    0.049521\n",
            "18    0.052683\n",
            "19    0.050887\n",
            "20    0.052511\n",
            "21    0.089703\n",
            "22    0.067142\n",
            "23    0.056752\n",
            "Name: is_arrested, dtype: float64\n"
          ],
          "name": "stdout"
        }
      ]
    },
    {
      "cell_type": "code",
      "metadata": {
        "id": "xIpJgz2SyRRy",
        "colab_type": "code",
        "colab": {
          "base_uri": "https://localhost:8080/",
          "height": 295
        },
        "outputId": "d84e9bbe-759f-4174-d4bd-5dbb907708df"
      },
      "source": [
        "hourly_arrest_rate.plot()\n",
        "# Add the xlabel, ylabel, and title\n",
        "plt.xlabel('Hour')\n",
        "plt.ylabel('Arrest Rate')\n",
        "plt.title('Arrest Rate by Time of Day')\n",
        "\n",
        "# Display the plot\n",
        "plt.show()"
      ],
      "execution_count": 26,
      "outputs": [
        {
          "output_type": "display_data",
          "data": {
            "image/png": "[encoded data removed]",
            "text/plain": [
              "<Figure size 432x288 with 1 Axes>"
            ]
          },
          "metadata": {
            "tags": [],
            "needs_background": "light"
          }
        }
      ]
    },
    {
      "cell_type": "code",
      "metadata": {
        "id": "RjxQqG-R3JWn",
        "colab_type": "code",
        "colab": {
          "base_uri": "https://localhost:8080/",
          "height": 365
        },
        "outputId": "5b289ca9-3382-45a6-f129-5e799749f692"
      },
      "source": [
        "# Calculate the annual rate of drug-related stops\n",
        "print(ri.drugs_related_stop.resample('A').mean())\n",
        "\n",
        "# Save the annual rate of drug-related stops\n",
        "annual_drug_rate = ri.drugs_related_stop.resample('A').mean()\n",
        "\n",
        "# Create a line plot of 'annual_drug_rate'\n",
        "annual_drug_rate.plot()\n",
        "\n",
        "# Display the plot\n",
        "plt.show()"
      ],
      "execution_count": 28,
      "outputs": [
        {
          "output_type": "stream",
          "text": [
            "stop_datetime\n",
            "2005-12-31    0.008038\n",
            "2006-12-31    0.006624\n",
            "2007-12-31    0.006357\n",
            "Freq: A-DEC, Name: drugs_related_stop, dtype: float64\n"
          ],
          "name": "stdout"
        },
        {
          "output_type": "display_data",
          "data": {
            "image/png": "[encoded data removed]",
            "text/plain": [
              "<Figure size 432x288 with 1 Axes>"
            ]
          },
          "metadata": {
            "tags": [],
            "needs_background": "light"
          }
        }
      ]
    },
    {
      "cell_type": "code",
      "metadata": {
        "id": "ox3QONu45UOl",
        "colab_type": "code",
        "colab": {
          "base_uri": "https://localhost:8080/",
          "height": 270
        },
        "outputId": "78082410-9fee-4435-edf4-5c096f9a07bb"
      },
      "source": [
        "\n",
        "# Calculate and save the annual search rate\n",
        "annual_search_rate = ri.search_conducted.resample('A').mean()\n",
        "\n",
        "# Concatenate 'annual_drug_rate' and 'annual_search_rate'\n",
        "annual = pd.concat([annual_drug_rate,annual_search_rate], axis=1)\n",
        "\n",
        "# Create subplots from 'annual'\n",
        "annual.plot(subplots=True)\n",
        "\n",
        "# Display the subplots\n",
        "plt.show()"
      ],
      "execution_count": 29,
      "outputs": [
        {
          "output_type": "display_data",
          "data": {
            "image/png": "[encoded data removed]",
            "text/plain": [
              "<Figure size 432x288 with 2 Axes>"
            ]
          },
          "metadata": {
            "tags": [],
            "needs_background": "light"
          }
        }
      ]
    },
    {
      "cell_type": "code",
      "metadata": {
        "id": "CRBrFBI3516t",
        "colab_type": "code",
        "colab": {
          "base_uri": "https://localhost:8080/",
          "height": 255
        },
        "outputId": "2ab27c2a-d1a6-4712-8a72-8b8937231f37"
      },
      "source": [
        "# Create a frequency table of districts and violations\n",
        "print(pd.crosstab(ri['district'],ri['violation']))\n",
        "\n",
        "# Save the frequency table as 'all_zones'\n",
        "all_zones = pd.crosstab(ri['district'],ri['violation'])\n",
        "\n",
        "# Select rows 'Zone K1' through 'Zone K3'\n",
        "print(all_zones.loc['Zone K1':'Zone K3'])\n",
        "\n",
        "# Save the smaller table as 'k_zones'\n",
        "k_zones = all_zones.loc['Zone K1':'Zone K3']"
      ],
      "execution_count": 30,
      "outputs": [
        {
          "output_type": "stream",
          "text": [
            "violation  Equipment  Moving violation  Other  Registration/plates  Speeding\n",
            "district                                                                    \n",
            "Zon                0                 1      0                    0         0\n",
            "Zone K1          461               921     98                   90     10024\n",
            "Zone K2          815              1945    251                  433     13552\n",
            "Zone K3         1861              1961    423                  676     18984\n",
            "Zone X1          116               822     62                   10      1596\n",
            "Zone X3          531              1464    226                  224      9138\n",
            "Zone X4         1630              3503    543                 1095     13052\n",
            "violation  Equipment  Moving violation  Other  Registration/plates  Speeding\n",
            "district                                                                    \n",
            "Zone K1          461               921     98                   90     10024\n",
            "Zone K2          815              1945    251                  433     13552\n",
            "Zone K3         1861              1961    423                  676     18984\n"
          ],
          "name": "stdout"
        }
      ]
    },
    {
      "cell_type": "code",
      "metadata": {
        "id": "q1jW8JgB6fNI",
        "colab_type": "code",
        "colab": {
          "base_uri": "https://localhost:8080/",
          "height": 311
        },
        "outputId": "7455b8f5-f427-4a4e-f6c5-29d916337348"
      },
      "source": [
        "# Create a bar plot of 'k_zones'\n",
        "k_zones.plot(kind='bar')\n",
        "\n",
        "# Display the plot\n",
        "plt.show()"
      ],
      "execution_count": 31,
      "outputs": [
        {
          "output_type": "display_data",
          "data": {
            "image/png": "[encoded data removed]",
            "text/plain": [
              "<Figure size 432x288 with 1 Axes>"
            ]
          },
          "metadata": {
            "tags": [],
            "needs_background": "light"
          }
        }
      ]
    },
    {
      "cell_type": "code",
      "metadata": {
        "id": "IN0EtvYU6-Wn",
        "colab_type": "code",
        "colab": {
          "base_uri": "https://localhost:8080/",
          "height": 314
        },
        "outputId": "2c0ca999-764f-4ea0-a08d-8e7245b98afd"
      },
      "source": [
        "# Create a stacked bar plot of 'k_zones'\n",
        "k_zones.plot(kind='bar', stacked=True)\n",
        "\n",
        "# Display the plot\n",
        "plt.show()"
      ],
      "execution_count": 32,
      "outputs": [
        {
          "output_type": "display_data",
          "data": {
            "image/png": "[encoded data removed]",
            "text/plain": [
              "<Figure size 432x288 with 1 Axes>"
            ]
          },
          "metadata": {
            "tags": [],
            "needs_background": "light"
          }
        }
      ]
    },
    {
      "cell_type": "code",
      "metadata": {
        "id": "PiwxHQxp9G2q",
        "colab_type": "code",
        "colab": {
          "base_uri": "https://localhost:8080/",
          "height": 51
        },
        "outputId": "7cbef44b-967d-4ea6-cdd2-df5500bc5516"
      },
      "source": [
        "# Print the unique values in 'stop_duration'\n",
        "print(ri.stop_duration.unique())\n",
        "\n",
        "# Create a dictionary that maps strings to integers\n",
        "mapping = {'0-15 Min':8, '16-30 Min':23, '30+ Min':45}\n",
        "\n",
        "# Convert the 'stop_duration' strings to integers using the 'mapping'\n",
        "ri['stop_minutes'] = ri.stop_duration.map(mapping)\n",
        "\n",
        "# Print the unique values in 'stop_minutes'\n",
        "print(ri['stop_minutes'].unique())"
      ],
      "execution_count": 34,
      "outputs": [
        {
          "output_type": "stream",
          "text": [
            "['0-15 Min' '16-30 Min' '30+ Min']\n",
            "[ 8 23 45]\n"
          ],
          "name": "stdout"
        }
      ]
    },
    {
      "cell_type": "code",
      "metadata": {
        "id": "VYKCBbXU94CK",
        "colab_type": "code",
        "colab": {
          "base_uri": "https://localhost:8080/",
          "height": 486
        },
        "outputId": "a0980061-a211-421b-cc27-47dd0e897df2"
      },
      "source": [
        "\n",
        "# Calculate the mean 'stop_minutes' for each value in 'violation_raw'\n",
        "print(ri.groupby('violation_raw').stop_minutes.mean())\n",
        "\n",
        "# Save the resulting Series as 'stop_length'\n",
        "stop_length = ri.groupby('violation_raw').stop_minutes.mean()\n",
        "\n",
        "# Sort 'stop_length' by its values and create a horizontal bar plot\n",
        "stop_length.sort_values().plot(kind='barh',)\n",
        "\n",
        "# Display the plot\n",
        "plt.show()"
      ],
      "execution_count": 35,
      "outputs": [
        {
          "output_type": "stream",
          "text": [
            "violation_raw\n",
            "APB                                 26.147727\n",
            "Call for Service                    25.855040\n",
            "Equipment/Inspection Violation      13.381419\n",
            "Motorist Assist/Courtesy            16.887160\n",
            "Other Traffic Violation             13.955826\n",
            "Registration Violation              16.494066\n",
            "Special Detail/Directed Patrol      30.540741\n",
            "Speeding                             9.675474\n",
            "Suspicious Person                   21.704545\n",
            "Violation of City/Town Ordinance    10.428571\n",
            "Warrant                             22.523810\n",
            "Name: stop_minutes, dtype: float64\n"
          ],
          "name": "stdout"
        },
        {
          "output_type": "display_data",
          "data": {
            "image/png": "[encoded data removed]",
            "text/plain": [
              "<Figure size 432x288 with 1 Axes>"
            ]
          },
          "metadata": {
            "tags": [],
            "needs_background": "light"
          }
        }
      ]
    },
    {
      "cell_type": "code",
      "metadata": {
        "id": "y4dr1A_8-imY",
        "colab_type": "code",
        "colab": {
          "base_uri": "https://localhost:8080/",
          "height": 309
        },
        "outputId": "87c83ee4-a123-4f8c-af7b-5aa68dd1dbed"
      },
      "source": [
        "weather=pd.read_csv('weather.csv')\n",
        "weather.head()"
      ],
      "execution_count": 36,
      "outputs": [
        {
          "output_type": "execute_result",
          "data": {
            "text/html": [
              "<div>\n",
              "<style scoped>\n",
              "    .dataframe tbody tr th:only-of-type {\n",
              "        vertical-align: middle;\n",
              "    }\n",
              "\n",
              "    .dataframe tbody tr th {\n",
              "        vertical-align: top;\n",
              "    }\n",
              "\n",
              "    .dataframe thead th {\n",
              "        text-align: right;\n",
              "    }\n",
              "</style>\n",
              "<table border=\"1\" class=\"dataframe\">\n",
              "  <thead>\n",
              "    <tr style=\"text-align: right;\">\n",
              "      <th></th>\n",
              "      <th>STATION</th>\n",
              "      <th>DATE</th>\n",
              "      <th>AWND</th>\n",
              "      <th>TAVG</th>\n",
              "      <th>TMAX</th>\n",
              "      <th>TMIN</th>\n",
              "      <th>WT01</th>\n",
              "      <th>WT02</th>\n",
              "      <th>WT03</th>\n",
              "      <th>WT04</th>\n",
              "      <th>WT05</th>\n",
              "      <th>WT06</th>\n",
              "      <th>WT07</th>\n",
              "      <th>WT08</th>\n",
              "      <th>WT09</th>\n",
              "      <th>WT10</th>\n",
              "      <th>WT11</th>\n",
              "      <th>WT13</th>\n",
              "      <th>WT14</th>\n",
              "      <th>WT15</th>\n",
              "      <th>WT16</th>\n",
              "      <th>WT17</th>\n",
              "      <th>WT18</th>\n",
              "      <th>WT19</th>\n",
              "      <th>WT21</th>\n",
              "      <th>WT22</th>\n",
              "    </tr>\n",
              "  </thead>\n",
              "  <tbody>\n",
              "    <tr>\n",
              "      <th>0</th>\n",
              "      <td>USC00379423</td>\n",
              "      <td>2005-01-01</td>\n",
              "      <td>NaN</td>\n",
              "      <td>NaN</td>\n",
              "      <td>47.0</td>\n",
              "      <td>28.0</td>\n",
              "      <td>NaN</td>\n",
              "      <td>NaN</td>\n",
              "      <td>NaN</td>\n",
              "      <td>NaN</td>\n",
              "      <td>NaN</td>\n",
              "      <td>NaN</td>\n",
              "      <td>NaN</td>\n",
              "      <td>NaN</td>\n",
              "      <td>NaN</td>\n",
              "      <td>NaN</td>\n",
              "      <td>NaN</td>\n",
              "      <td>NaN</td>\n",
              "      <td>NaN</td>\n",
              "      <td>NaN</td>\n",
              "      <td>NaN</td>\n",
              "      <td>NaN</td>\n",
              "      <td>NaN</td>\n",
              "      <td>NaN</td>\n",
              "      <td>NaN</td>\n",
              "      <td>NaN</td>\n",
              "    </tr>\n",
              "    <tr>\n",
              "      <th>1</th>\n",
              "      <td>USC00379423</td>\n",
              "      <td>2005-01-02</td>\n",
              "      <td>NaN</td>\n",
              "      <td>NaN</td>\n",
              "      <td>52.0</td>\n",
              "      <td>24.0</td>\n",
              "      <td>NaN</td>\n",
              "      <td>NaN</td>\n",
              "      <td>NaN</td>\n",
              "      <td>NaN</td>\n",
              "      <td>NaN</td>\n",
              "      <td>NaN</td>\n",
              "      <td>NaN</td>\n",
              "      <td>NaN</td>\n",
              "      <td>NaN</td>\n",
              "      <td>NaN</td>\n",
              "      <td>NaN</td>\n",
              "      <td>NaN</td>\n",
              "      <td>NaN</td>\n",
              "      <td>NaN</td>\n",
              "      <td>NaN</td>\n",
              "      <td>NaN</td>\n",
              "      <td>NaN</td>\n",
              "      <td>NaN</td>\n",
              "      <td>NaN</td>\n",
              "      <td>NaN</td>\n",
              "    </tr>\n",
              "    <tr>\n",
              "      <th>2</th>\n",
              "      <td>USC00379423</td>\n",
              "      <td>2005-01-03</td>\n",
              "      <td>NaN</td>\n",
              "      <td>NaN</td>\n",
              "      <td>48.0</td>\n",
              "      <td>27.0</td>\n",
              "      <td>NaN</td>\n",
              "      <td>NaN</td>\n",
              "      <td>NaN</td>\n",
              "      <td>NaN</td>\n",
              "      <td>NaN</td>\n",
              "      <td>NaN</td>\n",
              "      <td>NaN</td>\n",
              "      <td>NaN</td>\n",
              "      <td>NaN</td>\n",
              "      <td>NaN</td>\n",
              "      <td>NaN</td>\n",
              "      <td>NaN</td>\n",
              "      <td>NaN</td>\n",
              "      <td>NaN</td>\n",
              "      <td>NaN</td>\n",
              "      <td>NaN</td>\n",
              "      <td>NaN</td>\n",
              "      <td>NaN</td>\n",
              "      <td>NaN</td>\n",
              "      <td>NaN</td>\n",
              "    </tr>\n",
              "    <tr>\n",
              "      <th>3</th>\n",
              "      <td>USC00379423</td>\n",
              "      <td>2005-01-04</td>\n",
              "      <td>NaN</td>\n",
              "      <td>NaN</td>\n",
              "      <td>54.0</td>\n",
              "      <td>40.0</td>\n",
              "      <td>NaN</td>\n",
              "      <td>NaN</td>\n",
              "      <td>NaN</td>\n",
              "      <td>NaN</td>\n",
              "      <td>NaN</td>\n",
              "      <td>NaN</td>\n",
              "      <td>NaN</td>\n",
              "      <td>NaN</td>\n",
              "      <td>NaN</td>\n",
              "      <td>NaN</td>\n",
              "      <td>NaN</td>\n",
              "      <td>NaN</td>\n",
              "      <td>NaN</td>\n",
              "      <td>NaN</td>\n",
              "      <td>NaN</td>\n",
              "      <td>NaN</td>\n",
              "      <td>NaN</td>\n",
              "      <td>NaN</td>\n",
              "      <td>NaN</td>\n",
              "      <td>NaN</td>\n",
              "    </tr>\n",
              "    <tr>\n",
              "      <th>4</th>\n",
              "      <td>USC00379423</td>\n",
              "      <td>2005-01-05</td>\n",
              "      <td>NaN</td>\n",
              "      <td>NaN</td>\n",
              "      <td>44.0</td>\n",
              "      <td>31.0</td>\n",
              "      <td>NaN</td>\n",
              "      <td>NaN</td>\n",
              "      <td>NaN</td>\n",
              "      <td>NaN</td>\n",
              "      <td>NaN</td>\n",
              "      <td>NaN</td>\n",
              "      <td>NaN</td>\n",
              "      <td>NaN</td>\n",
              "      <td>NaN</td>\n",
              "      <td>NaN</td>\n",
              "      <td>NaN</td>\n",
              "      <td>NaN</td>\n",
              "      <td>NaN</td>\n",
              "      <td>NaN</td>\n",
              "      <td>NaN</td>\n",
              "      <td>NaN</td>\n",
              "      <td>NaN</td>\n",
              "      <td>NaN</td>\n",
              "      <td>NaN</td>\n",
              "      <td>NaN</td>\n",
              "    </tr>\n",
              "  </tbody>\n",
              "</table>\n",
              "</div>"
            ],
            "text/plain": [
              "       STATION        DATE  AWND  TAVG  TMAX  ...  WT17  WT18  WT19  WT21  WT22\n",
              "0  USC00379423  2005-01-01   NaN   NaN  47.0  ...   NaN   NaN   NaN   NaN   NaN\n",
              "1  USC00379423  2005-01-02   NaN   NaN  52.0  ...   NaN   NaN   NaN   NaN   NaN\n",
              "2  USC00379423  2005-01-03   NaN   NaN  48.0  ...   NaN   NaN   NaN   NaN   NaN\n",
              "3  USC00379423  2005-01-04   NaN   NaN  54.0  ...   NaN   NaN   NaN   NaN   NaN\n",
              "4  USC00379423  2005-01-05   NaN   NaN  44.0  ...   NaN   NaN   NaN   NaN   NaN\n",
              "\n",
              "[5 rows x 26 columns]"
            ]
          },
          "metadata": {
            "tags": []
          },
          "execution_count": 36
        }
      ]
    },
    {
      "cell_type": "code",
      "metadata": {
        "id": "RlE9y6FpWreQ",
        "colab_type": "code",
        "colab": {
          "base_uri": "https://localhost:8080/",
          "height": 418
        },
        "outputId": "b81fba5f-0147-4a3e-cd38-d6fe466b6412"
      },
      "source": [
        "# Describe the temperature columns\n",
        "print(weather[['TAVG','TMAX','TMIN']].describe())\n",
        "\n",
        "# Create a box plot of the temperature columns\n",
        "weather[['TAVG','TMAX','TMIN']].plot(kind='box')\n",
        "\n",
        "# Display the plot\n",
        "plt.show()"
      ],
      "execution_count": 39,
      "outputs": [
        {
          "output_type": "stream",
          "text": [
            "              TAVG         TMAX         TMIN\n",
            "count  1217.000000  8005.000000  7996.000000\n",
            "mean     52.493016    61.247096    42.099425\n",
            "std      17.829792    18.495043    17.386667\n",
            "min       6.000000    13.000000   -10.000000\n",
            "25%      39.000000    46.000000    29.000000\n",
            "50%      54.000000    62.000000    42.000000\n",
            "75%      68.000000    77.000000    57.000000\n",
            "max      86.000000   102.000000    77.000000\n"
          ],
          "name": "stdout"
        },
        {
          "output_type": "display_data",
          "data": {
            "image/png": "[encoded data removed]",
            "text/plain": [
              "<Figure size 432x288 with 1 Axes>"
            ]
          },
          "metadata": {
            "tags": [],
            "needs_background": "light"
          }
        }
      ]
    },
    {
      "cell_type": "code",
      "metadata": {
        "id": "zkH-oZ2hZ-11",
        "colab_type": "code",
        "colab": {
          "base_uri": "https://localhost:8080/",
          "height": 418
        },
        "outputId": "026e39ad-5206-4202-b2e8-3a91f18ac058"
      },
      "source": [
        "\n",
        "# Create a 'TDIFF' column that represents temperature difference\n",
        "weather['TDIFF']=weather.TMAX-weather.TMIN\n",
        "\n",
        "# Describe the 'TDIFF' column\n",
        "print(weather.TDIFF.describe())\n",
        "\n",
        "# Create a histogram with 20 bins to visualize 'TDIFF'\n",
        "weather.TDIFF.plot(kind='hist')\n",
        "\n",
        "# Display the plot\n",
        "\n",
        "plt.show()"
      ],
      "execution_count": 40,
      "outputs": [
        {
          "output_type": "stream",
          "text": [
            "count    7994.000000\n",
            "mean       19.149237\n",
            "std         7.009716\n",
            "min       -25.000000\n",
            "25%        14.000000\n",
            "50%        19.000000\n",
            "75%        24.000000\n",
            "max        48.000000\n",
            "Name: TDIFF, dtype: float64\n"
          ],
          "name": "stdout"
        },
        {
          "output_type": "display_data",
          "data": {
            "image/png": "[encoded data removed]",
            "text/plain": [
              "<Figure size 432x288 with 1 Axes>"
            ]
          },
          "metadata": {
            "tags": [],
            "needs_background": "light"
          }
        }
      ]
    },
    {
      "cell_type": "code",
      "metadata": {
        "id": "2cILZ1i4XiqA",
        "colab_type": "code",
        "colab": {
          "base_uri": "https://localhost:8080/",
          "height": 268
        },
        "outputId": "bc7f8469-18ae-471b-86fa-67f86e983eba"
      },
      "source": [
        "# Copy 'WT01' through 'WT22' to a new DataFrame\n",
        "WT = weather.loc[:,'WT01':'WT22']\n",
        "\n",
        "# Calculate the sum of each row in 'WT'\n",
        "weather['bad_conditions'] = WT.sum(axis=1)\n",
        "\n",
        "# Replace missing values in 'bad_conditions' with '0'\n",
        "weather['bad_conditions'] = weather.bad_conditions.fillna(0).astype('int')\n",
        "\n",
        "# Create a histogram to visualize 'bad_conditions'\n",
        "weather.bad_conditions.plot(kind='hist')\n",
        "\n",
        "# Display the plot\n",
        "plt.show()"
      ],
      "execution_count": 41,
      "outputs": [
        {
          "output_type": "display_data",
          "data": {
            "image/png": "[encoded data removed]",
            "text/plain": [
              "<Figure size 432x288 with 1 Axes>"
            ]
          },
          "metadata": {
            "tags": [],
            "needs_background": "light"
          }
        }
      ]
    },
    {
      "cell_type": "code",
      "metadata": {
        "id": "ekWtY6Blc81S",
        "colab_type": "code",
        "colab": {
          "base_uri": "https://localhost:8080/",
          "height": 272
        },
        "outputId": "e583d974-9c6c-485f-cf51-492a85d4ed99"
      },
      "source": [
        "# Count the unique values in 'bad_conditions' and sort the index\n",
        "print(weather.bad_conditions.value_counts().sort_index())\n",
        "\n",
        "# Create a dictionary that maps integers to strings\n",
        "mapping = {0:'good', 1:'bad', 2:'bad', 3:'bad', 4:'bad', 5:'worse', 6:'worse', 7:'worse', 8:'worse', 9:'worse'}\n",
        "\n",
        "# Convert the 'bad_conditions' integers to strings using the 'mapping'\n",
        "weather['rating'] = weather.bad_conditions.map(mapping)\n",
        "\n",
        "# Count the unique values in 'rating'\n",
        "print(weather.rating.value_counts())"
      ],
      "execution_count": 42,
      "outputs": [
        {
          "output_type": "stream",
          "text": [
            "0    5738\n",
            "1     628\n",
            "2     368\n",
            "3     380\n",
            "4     476\n",
            "5     282\n",
            "6     101\n",
            "7      41\n",
            "8       4\n",
            "9       4\n",
            "Name: bad_conditions, dtype: int64\n",
            "good     5738\n",
            "bad      1852\n",
            "worse     432\n",
            "Name: rating, dtype: int64\n"
          ],
          "name": "stdout"
        }
      ]
    },
    {
      "cell_type": "code",
      "metadata": {
        "id": "MxhPynWzdhp-",
        "colab_type": "code",
        "colab": {
          "base_uri": "https://localhost:8080/",
          "height": 136
        },
        "outputId": "3ca66987-f3fd-456a-b4a3-d4d6127b799e"
      },
      "source": [
        "# Create a list of weather ratings in logical order\n",
        "\n",
        "cats=['good', 'bad', 'worse']\n",
        "# Change the data type of 'rating' to category\n",
        "weather['rating'] = weather.rating.astype('category')\n",
        "\n",
        "# Examine the head of 'rating'\n",
        "print(weather['rating'].head())"
      ],
      "execution_count": 48,
      "outputs": [
        {
          "output_type": "stream",
          "text": [
            "0    good\n",
            "1    good\n",
            "2    good\n",
            "3    good\n",
            "4    good\n",
            "Name: rating, dtype: category\n",
            "Categories (3, object): [bad, good, worse]\n"
          ],
          "name": "stdout"
        }
      ]
    },
    {
      "cell_type": "code",
      "metadata": {
        "id": "7abKBjRuf7Zr",
        "colab_type": "code",
        "colab": {
          "base_uri": "https://localhost:8080/",
          "height": 255
        },
        "outputId": "a6c2f300-69d2-42af-ffc9-03d877506fe5"
      },
      "source": [
        "# Reset the index of 'ri'\n",
        "ri.reset_index(inplace=True)\n",
        "\n",
        "# Examine the head of 'ri'\n",
        "print(ri.head())\n",
        "\n",
        "# Create a DataFrame from the 'DATE' and 'rating' columns\n",
        "weather_rating=weather[['DATE','rating']]\n",
        "\n",
        "# Examine the head of 'weather_rating'\n",
        "print(weather_rating.head())"
      ],
      "execution_count": 49,
      "outputs": [
        {
          "output_type": "stream",
          "text": [
            "        stop_datetime             id   stop_date  ... district  frisk  stop_minutes\n",
            "0 2005-01-02 01:55:00  RI-2005-00001  2005-01-02  ...  Zone K1  False             8\n",
            "1 2005-01-02 20:30:00  RI-2005-00002  2005-01-02  ...  Zone X4  False            23\n",
            "2 2005-01-04 12:55:00  RI-2005-00004  2005-01-04  ...  Zone X4  False             8\n",
            "3 2005-01-06 01:30:00  RI-2005-00005  2005-01-06  ...  Zone X4  False             8\n",
            "4 2005-01-12 08:05:00  RI-2005-00006  2005-01-12  ...  Zone X1  False            45\n",
            "\n",
            "[5 rows x 27 columns]\n",
            "         DATE rating\n",
            "0  2005-01-01   good\n",
            "1  2005-01-02   good\n",
            "2  2005-01-03   good\n",
            "3  2005-01-04   good\n",
            "4  2005-01-05   good\n"
          ],
          "name": "stdout"
        }
      ]
    },
    {
      "cell_type": "code",
      "metadata": {
        "id": "kyvKeTtwhDhD",
        "colab_type": "code",
        "colab": {
          "base_uri": "https://localhost:8080/",
          "height": 51
        },
        "outputId": "cf22d0d6-af4c-47d8-be65-c437d2a1bbda"
      },
      "source": [
        "\n",
        "# Examine the shape of 'ri'\n",
        "print(ri.shape)\n",
        "\n",
        "# Merge 'ri' and 'weather_rating' using a left join\n",
        "ri_weather = pd.merge(left=ri, right=weather_rating, left_on='stop_date', right_on='DATE', how='left')\n",
        "\n",
        "# Examine the shape of 'ri_weather'\n",
        "print(ri_weather.shape)\n",
        "\n",
        "# Set 'stop_datetime' as the index of 'ri_weather'\n",
        "ri_weather.set_index('stop_datetime', inplace=True)"
      ],
      "execution_count": 52,
      "outputs": [
        {
          "output_type": "stream",
          "text": [
            "(86508, 27)\n",
            "(172400, 29)\n"
          ],
          "name": "stdout"
        }
      ]
    },
    {
      "cell_type": "code",
      "metadata": {
        "id": "8NeWjnxOihc7",
        "colab_type": "code",
        "colab": {
          "base_uri": "https://localhost:8080/",
          "height": 34
        },
        "outputId": "330b6c4f-0ae7-4d43-e3e3-1758e86fdee4"
      },
      "source": [
        "# Calculate the overall arrest rate\n",
        "print(ri_weather.is_arrested.mean())"
      ],
      "execution_count": 53,
      "outputs": [
        {
          "output_type": "stream",
          "text": [
            "0.04567285382830626\n"
          ],
          "name": "stdout"
        }
      ]
    },
    {
      "cell_type": "code",
      "metadata": {
        "id": "7LbNkduFiuFd",
        "colab_type": "code",
        "colab": {
          "base_uri": "https://localhost:8080/",
          "height": 102
        },
        "outputId": "6a9ee7ed-894a-436c-a992-b0bcae40d570"
      },
      "source": [
        "# Calculate the arrest rate for each 'rating'\n",
        "print(ri_weather.groupby('rating').is_arrested.mean())"
      ],
      "execution_count": 55,
      "outputs": [
        {
          "output_type": "stream",
          "text": [
            "rating\n",
            "bad      0.046148\n",
            "good     0.045148\n",
            "worse    0.051388\n",
            "Name: is_arrested, dtype: float64\n"
          ],
          "name": "stdout"
        }
      ]
    },
    {
      "cell_type": "code",
      "metadata": {
        "id": "X5MHXyGWjEmS",
        "colab_type": "code",
        "colab": {
          "base_uri": "https://localhost:8080/",
          "height": 306
        },
        "outputId": "032b566f-38f4-44d2-9d72-bf3c6354a698"
      },
      "source": [
        "\n",
        "# Calculate the arrest rate for each 'violation' and 'rating'\n",
        "print(ri_weather.groupby(['violation','rating']).is_arrested.mean())"
      ],
      "execution_count": 56,
      "outputs": [
        {
          "output_type": "stream",
          "text": [
            "violation            rating\n",
            "Equipment            bad       0.113166\n",
            "                     good      0.110235\n",
            "                     worse     0.130909\n",
            "Moving violation     bad       0.108970\n",
            "                     good      0.105770\n",
            "                     worse     0.117526\n",
            "Other                bad       0.251225\n",
            "                     good      0.251470\n",
            "                     worse     0.254438\n",
            "Registration/plates  bad       0.193182\n",
            "                     good      0.172542\n",
            "                     worse     0.147059\n",
            "Speeding             bad       0.019259\n",
            "                     good      0.020771\n",
            "                     worse     0.021743\n",
            "Name: is_arrested, dtype: float64\n"
          ],
          "name": "stdout"
        }
      ]
    },
    {
      "cell_type": "code",
      "metadata": {
        "id": "8POUYKKyi84m",
        "colab_type": "code",
        "colab": {
          "base_uri": "https://localhost:8080/",
          "height": 425
        },
        "outputId": "7748cede-963e-4822-a165-4e9e6b583bb5"
      },
      "source": [
        "\n",
        "# Save the output of the groupby operation from the last exercise\n",
        "arrest_rate = ri_weather.groupby(['violation', 'rating']).is_arrested.mean()\n",
        "\n",
        "# Print the 'arrest_rate' Series\n",
        "print(arrest_rate)\n",
        "\n",
        "# Print the arrest rate for moving violations in bad weather\n",
        "print(print(arrest_rate.loc['Moving violation', 'bad']))\n",
        "\n",
        "# Print the arrest rates for speeding violations in all three weather conditions\n",
        "print(arrest_rate.loc['Speeding'])"
      ],
      "execution_count": 57,
      "outputs": [
        {
          "output_type": "stream",
          "text": [
            "violation            rating\n",
            "Equipment            bad       0.113166\n",
            "                     good      0.110235\n",
            "                     worse     0.130909\n",
            "Moving violation     bad       0.108970\n",
            "                     good      0.105770\n",
            "                     worse     0.117526\n",
            "Other                bad       0.251225\n",
            "                     good      0.251470\n",
            "                     worse     0.254438\n",
            "Registration/plates  bad       0.193182\n",
            "                     good      0.172542\n",
            "                     worse     0.147059\n",
            "Speeding             bad       0.019259\n",
            "                     good      0.020771\n",
            "                     worse     0.021743\n",
            "Name: is_arrested, dtype: float64\n",
            "0.10896974063400576\n",
            "None\n",
            "rating\n",
            "bad      0.019259\n",
            "good     0.020771\n",
            "worse    0.021743\n",
            "Name: is_arrested, dtype: float64\n"
          ],
          "name": "stdout"
        }
      ]
    },
    {
      "cell_type": "code",
      "metadata": {
        "id": "EG4V0X5Gle8p",
        "colab_type": "code",
        "colab": {
          "base_uri": "https://localhost:8080/",
          "height": 255
        },
        "outputId": "f82ca29e-38ec-410a-e3d3-aff03371bc2d"
      },
      "source": [
        "# Unstack the 'arrest_rate' Series into a DataFrame\n",
        "print(arrest_rate.unstack())\n",
        "\n",
        "# Create the same DataFrame using a pivot table\n",
        "print(ri_weather.pivot_table(index='violation', columns='rating', values='is_arrested'))"
      ],
      "execution_count": 58,
      "outputs": [
        {
          "output_type": "stream",
          "text": [
            "rating                    bad      good     worse\n",
            "violation                                        \n",
            "Equipment            0.113166  0.110235  0.130909\n",
            "Moving violation     0.108970  0.105770  0.117526\n",
            "Other                0.251225  0.251470  0.254438\n",
            "Registration/plates  0.193182  0.172542  0.147059\n",
            "Speeding             0.019259  0.020771  0.021743\n",
            "rating                    bad      good     worse\n",
            "violation                                        \n",
            "Equipment            0.113166  0.110235  0.130909\n",
            "Moving violation     0.108970  0.105770  0.117526\n",
            "Other                0.251225  0.251470  0.254438\n",
            "Registration/plates  0.193182  0.172542  0.147059\n",
            "Speeding             0.019259  0.020771  0.021743\n"
          ],
          "name": "stdout"
        }
      ]
    }
  ]
}