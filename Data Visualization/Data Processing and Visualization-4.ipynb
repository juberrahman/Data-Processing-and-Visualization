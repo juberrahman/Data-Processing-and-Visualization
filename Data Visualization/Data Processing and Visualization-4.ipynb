{
 "cells": [
  {
   "cell_type": "code",
   "execution_count": 1,
   "metadata": {},
   "outputs": [
    {
     "data": {
      "text/html": [
       "<table>\n",
       "<thead><tr><th scope=col>g</th><th scope=col>x</th></tr></thead>\n",
       "<tbody>\n",
       "\t<tr><td>A</td><td>1</td></tr>\n",
       "\t<tr><td>B</td><td>2</td></tr>\n",
       "\t<tr><td>C</td><td>3</td></tr>\n",
       "</tbody>\n",
       "</table>\n"
      ],
      "text/latex": [
       "\\begin{tabular}{r|ll}\n",
       " g & x\\\\\n",
       "\\hline\n",
       "\t A & 1\\\\\n",
       "\t B & 2\\\\\n",
       "\t C & 3\\\\\n",
       "\\end{tabular}\n"
      ],
      "text/markdown": [
       "\n",
       "g | x | \n",
       "|---|---|---|\n",
       "| A | 1 | \n",
       "| B | 2 | \n",
       "| C | 3 | \n",
       "\n",
       "\n"
      ],
      "text/plain": [
       "  g x\n",
       "1 A 1\n",
       "2 B 2\n",
       "3 C 3"
      ]
     },
     "metadata": {},
     "output_type": "display_data"
    }
   ],
   "source": [
    "#creating a data frame\n",
    "g<-c(\"A\",\"B\",\"C\")\n",
    "x<-1:3\n",
    "dat<-data.frame(g,x)\n",
    "dat"
   ]
  },
  {
   "cell_type": "code",
   "execution_count": null,
   "metadata": {},
   "outputs": [],
   "source": []
  },
  {
   "cell_type": "code",
   "execution_count": 4,
   "metadata": {},
   "outputs": [
    {
     "data": {
      "text/html": [
       "<dl>\n",
       "\t<dt>$group</dt>\n",
       "\t\t<dd><ol class=list-inline>\n",
       "\t<li>'A'</li>\n",
       "\t<li>'B'</li>\n",
       "\t<li>'C'</li>\n",
       "</ol>\n",
       "</dd>\n",
       "\t<dt>$value</dt>\n",
       "\t\t<dd><ol class=list-inline>\n",
       "\t<li>1</li>\n",
       "\t<li>2</li>\n",
       "\t<li>3</li>\n",
       "</ol>\n",
       "</dd>\n",
       "</dl>\n"
      ],
      "text/latex": [
       "\\begin{description}\n",
       "\\item[\\$group] \\begin{enumerate*}\n",
       "\\item 'A'\n",
       "\\item 'B'\n",
       "\\item 'C'\n",
       "\\end{enumerate*}\n",
       "\n",
       "\\item[\\$value] \\begin{enumerate*}\n",
       "\\item 1\n",
       "\\item 2\n",
       "\\item 3\n",
       "\\end{enumerate*}\n",
       "\n",
       "\\end{description}\n"
      ],
      "text/markdown": [
       "$group\n",
       ":   1. 'A'\n",
       "2. 'B'\n",
       "3. 'C'\n",
       "\n",
       "\n",
       "\n",
       "$value\n",
       ":   1. 1\n",
       "2. 2\n",
       "3. 3\n",
       "\n",
       "\n",
       "\n",
       "\n",
       "\n"
      ],
      "text/plain": [
       "$group\n",
       "[1] \"A\" \"B\" \"C\"\n",
       "\n",
       "$value\n",
       "[1] 1 2 3\n"
      ]
     },
     "metadata": {},
     "output_type": "display_data"
    },
    {
     "data": {
      "text/html": [
       "<table>\n",
       "<thead><tr><th scope=col>group</th><th scope=col>value</th></tr></thead>\n",
       "<tbody>\n",
       "\t<tr><td>A</td><td>1</td></tr>\n",
       "\t<tr><td>B</td><td>2</td></tr>\n",
       "\t<tr><td>C</td><td>3</td></tr>\n",
       "</tbody>\n",
       "</table>\n"
      ],
      "text/latex": [
       "\\begin{tabular}{r|ll}\n",
       " group & value\\\\\n",
       "\\hline\n",
       "\t A & 1\\\\\n",
       "\t B & 2\\\\\n",
       "\t C & 3\\\\\n",
       "\\end{tabular}\n"
      ],
      "text/markdown": [
       "\n",
       "group | value | \n",
       "|---|---|---|\n",
       "| A | 1 | \n",
       "| B | 2 | \n",
       "| C | 3 | \n",
       "\n",
       "\n"
      ],
      "text/plain": [
       "  group value\n",
       "1 A     1    \n",
       "2 B     2    \n",
       "3 C     3    "
      ]
     },
     "metadata": {},
     "output_type": "display_data"
    }
   ],
   "source": [
    "lst<-list(group=g,value=x)\n",
    "lst\n",
    "dat<-as.data.frame(lst)\n",
    "dat"
   ]
  },
  {
   "cell_type": "code",
   "execution_count": 6,
   "metadata": {},
   "outputs": [
    {
     "name": "stdout",
     "output_type": "stream",
     "text": [
      "'data.frame':\t60 obs. of  3 variables:\n",
      " $ len : num  4.2 11.5 7.3 5.8 6.4 10 11.2 11.2 5.2 7 ...\n",
      " $ supp: Factor w/ 2 levels \"OJ\",\"VC\": 2 2 2 2 2 2 2 2 2 2 ...\n",
      " $ dose: num  0.5 0.5 0.5 0.5 0.5 0.5 0.5 0.5 0.5 0.5 ...\n"
     ]
    }
   ],
   "source": [
    "# getting info about a data structure\n",
    "str(ToothGrowth)"
   ]
  },
  {
   "cell_type": "code",
   "execution_count": 7,
   "metadata": {},
   "outputs": [
    {
     "name": "stdout",
     "output_type": "stream",
     "text": [
      "'data.frame':\t60 obs. of  3 variables:\n",
      " $ len : num  4.2 11.5 7.3 5.8 6.4 10 11.2 11.2 5.2 7 ...\n",
      " $ supp: chr  \"VC\" \"VC\" \"VC\" \"VC\" ...\n",
      " $ dose: num  0.5 0.5 0.5 0.5 0.5 0.5 0.5 0.5 0.5 0.5 ...\n"
     ]
    }
   ],
   "source": [
    "#change data type\n",
    "tg<-ToothGrowth\n",
    "tg$supp<-as.character(tg$supp)\n",
    "str(tg)"
   ]
  },
  {
   "cell_type": "code",
   "execution_count": 12,
   "metadata": {},
   "outputs": [
    {
     "data": {
      "text/html": [
       "<table>\n",
       "<thead><tr><th scope=col>len</th><th scope=col>supp</th><th scope=col>dose</th><th scope=col>newcol</th></tr></thead>\n",
       "<tbody>\n",
       "\t<tr><td> 4.2</td><td>VC  </td><td>0.5 </td><td>1   </td></tr>\n",
       "\t<tr><td>11.5</td><td>VC  </td><td>0.5 </td><td>1   </td></tr>\n",
       "\t<tr><td> 7.3</td><td>VC  </td><td>0.5 </td><td>1   </td></tr>\n",
       "\t<tr><td> 5.8</td><td>VC  </td><td>0.5 </td><td>1   </td></tr>\n",
       "\t<tr><td> 6.4</td><td>VC  </td><td>0.5 </td><td>1   </td></tr>\n",
       "\t<tr><td>10.0</td><td>VC  </td><td>0.5 </td><td>1   </td></tr>\n",
       "</tbody>\n",
       "</table>\n"
      ],
      "text/latex": [
       "\\begin{tabular}{r|llll}\n",
       " len & supp & dose & newcol\\\\\n",
       "\\hline\n",
       "\t  4.2 & VC   & 0.5  & 1   \\\\\n",
       "\t 11.5 & VC   & 0.5  & 1   \\\\\n",
       "\t  7.3 & VC   & 0.5  & 1   \\\\\n",
       "\t  5.8 & VC   & 0.5  & 1   \\\\\n",
       "\t  6.4 & VC   & 0.5  & 1   \\\\\n",
       "\t 10.0 & VC   & 0.5  & 1   \\\\\n",
       "\\end{tabular}\n"
      ],
      "text/markdown": [
       "\n",
       "len | supp | dose | newcol | \n",
       "|---|---|---|---|---|---|\n",
       "|  4.2 | VC   | 0.5  | 1    | \n",
       "| 11.5 | VC   | 0.5  | 1    | \n",
       "|  7.3 | VC   | 0.5  | 1    | \n",
       "|  5.8 | VC   | 0.5  | 1    | \n",
       "|  6.4 | VC   | 0.5  | 1    | \n",
       "| 10.0 | VC   | 0.5  | 1    | \n",
       "\n",
       "\n"
      ],
      "text/plain": [
       "  len  supp dose newcol\n",
       "1  4.2 VC   0.5  1     \n",
       "2 11.5 VC   0.5  1     \n",
       "3  7.3 VC   0.5  1     \n",
       "4  5.8 VC   0.5  1     \n",
       "5  6.4 VC   0.5  1     \n",
       "6 10.0 VC   0.5  1     "
      ]
     },
     "metadata": {},
     "output_type": "display_data"
    },
    {
     "data": {
      "text/html": [
       "<table>\n",
       "<thead><tr><th scope=col>len</th><th scope=col>supp</th><th scope=col>dose</th><th scope=col>newcol</th></tr></thead>\n",
       "<tbody>\n",
       "\t<tr><td> 4.2</td><td>VC  </td><td>0.5 </td><td>1   </td></tr>\n",
       "\t<tr><td>11.5</td><td>VC  </td><td>0.5 </td><td>2   </td></tr>\n",
       "\t<tr><td> 7.3</td><td>VC  </td><td>0.5 </td><td>3   </td></tr>\n",
       "\t<tr><td> 5.8</td><td>VC  </td><td>0.5 </td><td>4   </td></tr>\n",
       "\t<tr><td> 6.4</td><td>VC  </td><td>0.5 </td><td>5   </td></tr>\n",
       "\t<tr><td>10.0</td><td>VC  </td><td>0.5 </td><td>1   </td></tr>\n",
       "</tbody>\n",
       "</table>\n"
      ],
      "text/latex": [
       "\\begin{tabular}{r|llll}\n",
       " len & supp & dose & newcol\\\\\n",
       "\\hline\n",
       "\t  4.2 & VC   & 0.5  & 1   \\\\\n",
       "\t 11.5 & VC   & 0.5  & 2   \\\\\n",
       "\t  7.3 & VC   & 0.5  & 3   \\\\\n",
       "\t  5.8 & VC   & 0.5  & 4   \\\\\n",
       "\t  6.4 & VC   & 0.5  & 5   \\\\\n",
       "\t 10.0 & VC   & 0.5  & 1   \\\\\n",
       "\\end{tabular}\n"
      ],
      "text/markdown": [
       "\n",
       "len | supp | dose | newcol | \n",
       "|---|---|---|---|---|---|\n",
       "|  4.2 | VC   | 0.5  | 1    | \n",
       "| 11.5 | VC   | 0.5  | 2    | \n",
       "|  7.3 | VC   | 0.5  | 3    | \n",
       "|  5.8 | VC   | 0.5  | 4    | \n",
       "|  6.4 | VC   | 0.5  | 5    | \n",
       "| 10.0 | VC   | 0.5  | 1    | \n",
       "\n",
       "\n"
      ],
      "text/plain": [
       "  len  supp dose newcol\n",
       "1  4.2 VC   0.5  1     \n",
       "2 11.5 VC   0.5  2     \n",
       "3  7.3 VC   0.5  3     \n",
       "4  5.8 VC   0.5  4     \n",
       "5  6.4 VC   0.5  5     \n",
       "6 10.0 VC   0.5  1     "
      ]
     },
     "metadata": {},
     "output_type": "display_data"
    }
   ],
   "source": [
    "# add a column\n",
    "tg$newcol<-1\n",
    "head(tg)\n",
    "tg$newcol<-1:5\n",
    "head(tg)"
   ]
  },
  {
   "cell_type": "code",
   "execution_count": 18,
   "metadata": {},
   "outputs": [
    {
     "data": {
      "text/html": [
       "<table>\n",
       "<thead><tr><th scope=col>len</th><th scope=col>supp</th><th scope=col>dose</th></tr></thead>\n",
       "<tbody>\n",
       "\t<tr><td> 4.2</td><td>VC  </td><td>0.5 </td></tr>\n",
       "\t<tr><td>11.5</td><td>VC  </td><td>0.5 </td></tr>\n",
       "\t<tr><td> 7.3</td><td>VC  </td><td>0.5 </td></tr>\n",
       "\t<tr><td> 5.8</td><td>VC  </td><td>0.5 </td></tr>\n",
       "\t<tr><td> 6.4</td><td>VC  </td><td>0.5 </td></tr>\n",
       "\t<tr><td>10.0</td><td>VC  </td><td>0.5 </td></tr>\n",
       "</tbody>\n",
       "</table>\n"
      ],
      "text/latex": [
       "\\begin{tabular}{r|lll}\n",
       " len & supp & dose\\\\\n",
       "\\hline\n",
       "\t  4.2 & VC   & 0.5 \\\\\n",
       "\t 11.5 & VC   & 0.5 \\\\\n",
       "\t  7.3 & VC   & 0.5 \\\\\n",
       "\t  5.8 & VC   & 0.5 \\\\\n",
       "\t  6.4 & VC   & 0.5 \\\\\n",
       "\t 10.0 & VC   & 0.5 \\\\\n",
       "\\end{tabular}\n"
      ],
      "text/markdown": [
       "\n",
       "len | supp | dose | \n",
       "|---|---|---|---|---|---|\n",
       "|  4.2 | VC   | 0.5  | \n",
       "| 11.5 | VC   | 0.5  | \n",
       "|  7.3 | VC   | 0.5  | \n",
       "|  5.8 | VC   | 0.5  | \n",
       "|  6.4 | VC   | 0.5  | \n",
       "| 10.0 | VC   | 0.5  | \n",
       "\n",
       "\n"
      ],
      "text/plain": [
       "  len  supp dose\n",
       "1  4.2 VC   0.5 \n",
       "2 11.5 VC   0.5 \n",
       "3  7.3 VC   0.5 \n",
       "4  5.8 VC   0.5 \n",
       "5  6.4 VC   0.5 \n",
       "6 10.0 VC   0.5 "
      ]
     },
     "metadata": {},
     "output_type": "display_data"
    },
    {
     "data": {
      "text/html": [
       "<table>\n",
       "<thead><tr><th scope=col>len</th><th scope=col>supp</th></tr></thead>\n",
       "<tbody>\n",
       "\t<tr><td> 4.2</td><td>VC  </td></tr>\n",
       "\t<tr><td>11.5</td><td>VC  </td></tr>\n",
       "\t<tr><td> 7.3</td><td>VC  </td></tr>\n",
       "\t<tr><td> 5.8</td><td>VC  </td></tr>\n",
       "\t<tr><td> 6.4</td><td>VC  </td></tr>\n",
       "\t<tr><td>10.0</td><td>VC  </td></tr>\n",
       "</tbody>\n",
       "</table>\n"
      ],
      "text/latex": [
       "\\begin{tabular}{r|ll}\n",
       " len & supp\\\\\n",
       "\\hline\n",
       "\t  4.2 & VC  \\\\\n",
       "\t 11.5 & VC  \\\\\n",
       "\t  7.3 & VC  \\\\\n",
       "\t  5.8 & VC  \\\\\n",
       "\t  6.4 & VC  \\\\\n",
       "\t 10.0 & VC  \\\\\n",
       "\\end{tabular}\n"
      ],
      "text/markdown": [
       "\n",
       "len | supp | \n",
       "|---|---|---|---|---|---|\n",
       "|  4.2 | VC   | \n",
       "| 11.5 | VC   | \n",
       "|  7.3 | VC   | \n",
       "|  5.8 | VC   | \n",
       "|  6.4 | VC   | \n",
       "| 10.0 | VC   | \n",
       "\n",
       "\n"
      ],
      "text/plain": [
       "  len  supp\n",
       "1  4.2 VC  \n",
       "2 11.5 VC  \n",
       "3  7.3 VC  \n",
       "4  5.8 VC  \n",
       "5  6.4 VC  \n",
       "6 10.0 VC  "
      ]
     },
     "metadata": {},
     "output_type": "display_data"
    },
    {
     "data": {
      "text/html": [
       "<table>\n",
       "<thead><tr><th scope=col>supp</th></tr></thead>\n",
       "<tbody>\n",
       "\t<tr><td>VC</td></tr>\n",
       "\t<tr><td>VC</td></tr>\n",
       "\t<tr><td>VC</td></tr>\n",
       "\t<tr><td>VC</td></tr>\n",
       "\t<tr><td>VC</td></tr>\n",
       "\t<tr><td>VC</td></tr>\n",
       "</tbody>\n",
       "</table>\n"
      ],
      "text/latex": [
       "\\begin{tabular}{r|l}\n",
       " supp\\\\\n",
       "\\hline\n",
       "\t VC\\\\\n",
       "\t VC\\\\\n",
       "\t VC\\\\\n",
       "\t VC\\\\\n",
       "\t VC\\\\\n",
       "\t VC\\\\\n",
       "\\end{tabular}\n"
      ],
      "text/markdown": [
       "\n",
       "supp | \n",
       "|---|---|---|---|---|---|\n",
       "| VC | \n",
       "| VC | \n",
       "| VC | \n",
       "| VC | \n",
       "| VC | \n",
       "| VC | \n",
       "\n",
       "\n"
      ],
      "text/plain": [
       "  supp\n",
       "1 VC  \n",
       "2 VC  \n",
       "3 VC  \n",
       "4 VC  \n",
       "5 VC  \n",
       "6 VC  "
      ]
     },
     "metadata": {},
     "output_type": "display_data"
    }
   ],
   "source": [
    "# delete a column\n",
    "tg$newcol<-NULL\n",
    "head(tg)\n",
    "data<-subset(tg,select=c(len,supp))\n",
    "head(data)\n",
    "data2<-subset(tg,select=c(-len,-dose))\n",
    "head(data2)"
   ]
  },
  {
   "cell_type": "code",
   "execution_count": 24,
   "metadata": {},
   "outputs": [
    {
     "data": {
      "text/html": [
       "<table>\n",
       "<thead><tr><th scope=col>length</th><th scope=col>supplement</th><th scope=col>dosage</th></tr></thead>\n",
       "<tbody>\n",
       "\t<tr><td> 4.2</td><td>VC  </td><td>0.5 </td></tr>\n",
       "\t<tr><td>11.5</td><td>VC  </td><td>0.5 </td></tr>\n",
       "\t<tr><td> 7.3</td><td>VC  </td><td>0.5 </td></tr>\n",
       "\t<tr><td> 5.8</td><td>VC  </td><td>0.5 </td></tr>\n",
       "\t<tr><td> 6.4</td><td>VC  </td><td>0.5 </td></tr>\n",
       "\t<tr><td>10.0</td><td>VC  </td><td>0.5 </td></tr>\n",
       "</tbody>\n",
       "</table>\n"
      ],
      "text/latex": [
       "\\begin{tabular}{r|lll}\n",
       " length & supplement & dosage\\\\\n",
       "\\hline\n",
       "\t  4.2 & VC   & 0.5 \\\\\n",
       "\t 11.5 & VC   & 0.5 \\\\\n",
       "\t  7.3 & VC   & 0.5 \\\\\n",
       "\t  5.8 & VC   & 0.5 \\\\\n",
       "\t  6.4 & VC   & 0.5 \\\\\n",
       "\t 10.0 & VC   & 0.5 \\\\\n",
       "\\end{tabular}\n"
      ],
      "text/markdown": [
       "\n",
       "length | supplement | dosage | \n",
       "|---|---|---|---|---|---|\n",
       "|  4.2 | VC   | 0.5  | \n",
       "| 11.5 | VC   | 0.5  | \n",
       "|  7.3 | VC   | 0.5  | \n",
       "|  5.8 | VC   | 0.5  | \n",
       "|  6.4 | VC   | 0.5  | \n",
       "| 10.0 | VC   | 0.5  | \n",
       "\n",
       "\n"
      ],
      "text/plain": [
       "  length supplement dosage\n",
       "1  4.2   VC         0.5   \n",
       "2 11.5   VC         0.5   \n",
       "3  7.3   VC         0.5   \n",
       "4  5.8   VC         0.5   \n",
       "5  6.4   VC         0.5   \n",
       "6 10.0   VC         0.5   "
      ]
     },
     "metadata": {},
     "output_type": "display_data"
    },
    {
     "data": {
      "text/html": [
       "<table>\n",
       "<thead><tr><th scope=col>len</th><th scope=col>supp</th><th scope=col>dose</th></tr></thead>\n",
       "<tbody>\n",
       "\t<tr><td> 4.2</td><td>VC  </td><td>0.5 </td></tr>\n",
       "\t<tr><td>11.5</td><td>VC  </td><td>0.5 </td></tr>\n",
       "\t<tr><td> 7.3</td><td>VC  </td><td>0.5 </td></tr>\n",
       "\t<tr><td> 5.8</td><td>VC  </td><td>0.5 </td></tr>\n",
       "\t<tr><td> 6.4</td><td>VC  </td><td>0.5 </td></tr>\n",
       "\t<tr><td>10.0</td><td>VC  </td><td>0.5 </td></tr>\n",
       "</tbody>\n",
       "</table>\n"
      ],
      "text/latex": [
       "\\begin{tabular}{r|lll}\n",
       " len & supp & dose\\\\\n",
       "\\hline\n",
       "\t  4.2 & VC   & 0.5 \\\\\n",
       "\t 11.5 & VC   & 0.5 \\\\\n",
       "\t  7.3 & VC   & 0.5 \\\\\n",
       "\t  5.8 & VC   & 0.5 \\\\\n",
       "\t  6.4 & VC   & 0.5 \\\\\n",
       "\t 10.0 & VC   & 0.5 \\\\\n",
       "\\end{tabular}\n"
      ],
      "text/markdown": [
       "\n",
       "len | supp | dose | \n",
       "|---|---|---|---|---|---|\n",
       "|  4.2 | VC   | 0.5  | \n",
       "| 11.5 | VC   | 0.5  | \n",
       "|  7.3 | VC   | 0.5  | \n",
       "|  5.8 | VC   | 0.5  | \n",
       "|  6.4 | VC   | 0.5  | \n",
       "| 10.0 | VC   | 0.5  | \n",
       "\n",
       "\n"
      ],
      "text/plain": [
       "  len  supp dose\n",
       "1  4.2 VC   0.5 \n",
       "2 11.5 VC   0.5 \n",
       "3  7.3 VC   0.5 \n",
       "4  5.8 VC   0.5 \n",
       "5  6.4 VC   0.5 \n",
       "6 10.0 VC   0.5 "
      ]
     },
     "metadata": {},
     "output_type": "display_data"
    }
   ],
   "source": [
    "#rename columns\n",
    "names(tg)<-c(\"length\",\"supplement\",\"dosage\")\n",
    "head(tg)\n",
    "names(tg)<-c(\"len\",\"supp\",\"dose\")\n",
    "head(tg)"
   ]
  },
  {
   "cell_type": "code",
   "execution_count": 27,
   "metadata": {},
   "outputs": [
    {
     "data": {
      "text/html": [
       "<ol class=list-inline>\n",
       "\t<li>'angle'</li>\n",
       "\t<li>'experiment'</li>\n",
       "\t<li>'control'</li>\n",
       "</ol>\n"
      ],
      "text/latex": [
       "\\begin{enumerate*}\n",
       "\\item 'angle'\n",
       "\\item 'experiment'\n",
       "\\item 'control'\n",
       "\\end{enumerate*}\n"
      ],
      "text/markdown": [
       "1. 'angle'\n",
       "2. 'experiment'\n",
       "3. 'control'\n",
       "\n",
       "\n"
      ],
      "text/plain": [
       "[1] \"angle\"      \"experiment\" \"control\"   "
      ]
     },
     "metadata": {},
     "output_type": "display_data"
    },
    {
     "data": {
      "text/html": [
       "<ol class=list-inline>\n",
       "\t<li>'angle'</li>\n",
       "\t<li>'experiment'</li>\n",
       "\t<li>'control'</li>\n",
       "</ol>\n"
      ],
      "text/latex": [
       "\\begin{enumerate*}\n",
       "\\item 'angle'\n",
       "\\item 'experiment'\n",
       "\\item 'control'\n",
       "\\end{enumerate*}\n"
      ],
      "text/markdown": [
       "1. 'angle'\n",
       "2. 'experiment'\n",
       "3. 'control'\n",
       "\n",
       "\n"
      ],
      "text/plain": [
       "[1] \"angle\"      \"experiment\" \"control\"   "
      ]
     },
     "metadata": {},
     "output_type": "display_data"
    }
   ],
   "source": [
    "library(gcookbook)\n",
    "names(anthoming)\n",
    "names(anthoming)[names(anthoming)==\"ctrl\"]<-c(\"control\")\n",
    "names(anthoming)[names(anthoming)==\"expt\"]<-c(\"experiment\")\n",
    "names(anthoming)"
   ]
  },
  {
   "cell_type": "code",
   "execution_count": 29,
   "metadata": {},
   "outputs": [
    {
     "data": {
      "text/html": [
       "<ol class=list-inline>\n",
       "\t<li>'Angle'</li>\n",
       "\t<li>'experiment'</li>\n",
       "\t<li>'control'</li>\n",
       "</ol>\n"
      ],
      "text/latex": [
       "\\begin{enumerate*}\n",
       "\\item 'Angle'\n",
       "\\item 'experiment'\n",
       "\\item 'control'\n",
       "\\end{enumerate*}\n"
      ],
      "text/markdown": [
       "1. 'Angle'\n",
       "2. 'experiment'\n",
       "3. 'control'\n",
       "\n",
       "\n"
      ],
      "text/plain": [
       "[1] \"Angle\"      \"experiment\" \"control\"   "
      ]
     },
     "metadata": {},
     "output_type": "display_data"
    }
   ],
   "source": [
    "names(anthoming)[1]<-c(\"Angle\")\n",
    "names(anthoming)"
   ]
  },
  {
   "cell_type": "code",
   "execution_count": 30,
   "metadata": {},
   "outputs": [
    {
     "data": {
      "text/html": [
       "<table>\n",
       "<thead><tr><th scope=col>len</th><th scope=col>dose</th><th scope=col>supp</th></tr></thead>\n",
       "<tbody>\n",
       "\t<tr><td> 4.2</td><td>0.5 </td><td>VC  </td></tr>\n",
       "\t<tr><td>11.5</td><td>0.5 </td><td>VC  </td></tr>\n",
       "\t<tr><td> 7.3</td><td>0.5 </td><td>VC  </td></tr>\n",
       "\t<tr><td> 5.8</td><td>0.5 </td><td>VC  </td></tr>\n",
       "\t<tr><td> 6.4</td><td>0.5 </td><td>VC  </td></tr>\n",
       "\t<tr><td>10.0</td><td>0.5 </td><td>VC  </td></tr>\n",
       "</tbody>\n",
       "</table>\n"
      ],
      "text/latex": [
       "\\begin{tabular}{r|lll}\n",
       " len & dose & supp\\\\\n",
       "\\hline\n",
       "\t  4.2 & 0.5  & VC  \\\\\n",
       "\t 11.5 & 0.5  & VC  \\\\\n",
       "\t  7.3 & 0.5  & VC  \\\\\n",
       "\t  5.8 & 0.5  & VC  \\\\\n",
       "\t  6.4 & 0.5  & VC  \\\\\n",
       "\t 10.0 & 0.5  & VC  \\\\\n",
       "\\end{tabular}\n"
      ],
      "text/markdown": [
       "\n",
       "len | dose | supp | \n",
       "|---|---|---|---|---|---|\n",
       "|  4.2 | 0.5  | VC   | \n",
       "| 11.5 | 0.5  | VC   | \n",
       "|  7.3 | 0.5  | VC   | \n",
       "|  5.8 | 0.5  | VC   | \n",
       "|  6.4 | 0.5  | VC   | \n",
       "| 10.0 | 0.5  | VC   | \n",
       "\n",
       "\n"
      ],
      "text/plain": [
       "  len  dose supp\n",
       "1  4.2 0.5  VC  \n",
       "2 11.5 0.5  VC  \n",
       "3  7.3 0.5  VC  \n",
       "4  5.8 0.5  VC  \n",
       "5  6.4 0.5  VC  \n",
       "6 10.0 0.5  VC  "
      ]
     },
     "metadata": {},
     "output_type": "display_data"
    }
   ],
   "source": [
    "#reordering columns\n",
    "tg<-tg[c(1,3,2)]\n",
    "head(tg)"
   ]
  },
  {
   "cell_type": "code",
   "execution_count": 32,
   "metadata": {},
   "outputs": [
    {
     "data": {
      "text/html": [
       "<table>\n",
       "<thead><tr><th scope=col>len</th><th scope=col>supp</th><th scope=col>dose</th></tr></thead>\n",
       "<tbody>\n",
       "\t<tr><td> 4.2</td><td>VC  </td><td>0.5 </td></tr>\n",
       "\t<tr><td>11.5</td><td>VC  </td><td>0.5 </td></tr>\n",
       "\t<tr><td> 7.3</td><td>VC  </td><td>0.5 </td></tr>\n",
       "\t<tr><td> 5.8</td><td>VC  </td><td>0.5 </td></tr>\n",
       "\t<tr><td> 6.4</td><td>VC  </td><td>0.5 </td></tr>\n",
       "\t<tr><td>10.0</td><td>VC  </td><td>0.5 </td></tr>\n",
       "</tbody>\n",
       "</table>\n"
      ],
      "text/latex": [
       "\\begin{tabular}{r|lll}\n",
       " len & supp & dose\\\\\n",
       "\\hline\n",
       "\t  4.2 & VC   & 0.5 \\\\\n",
       "\t 11.5 & VC   & 0.5 \\\\\n",
       "\t  7.3 & VC   & 0.5 \\\\\n",
       "\t  5.8 & VC   & 0.5 \\\\\n",
       "\t  6.4 & VC   & 0.5 \\\\\n",
       "\t 10.0 & VC   & 0.5 \\\\\n",
       "\\end{tabular}\n"
      ],
      "text/markdown": [
       "\n",
       "len | supp | dose | \n",
       "|---|---|---|---|---|---|\n",
       "|  4.2 | VC   | 0.5  | \n",
       "| 11.5 | VC   | 0.5  | \n",
       "|  7.3 | VC   | 0.5  | \n",
       "|  5.8 | VC   | 0.5  | \n",
       "|  6.4 | VC   | 0.5  | \n",
       "| 10.0 | VC   | 0.5  | \n",
       "\n",
       "\n"
      ],
      "text/plain": [
       "  len  supp dose\n",
       "1  4.2 VC   0.5 \n",
       "2 11.5 VC   0.5 \n",
       "3  7.3 VC   0.5 \n",
       "4  5.8 VC   0.5 \n",
       "5  6.4 VC   0.5 \n",
       "6 10.0 VC   0.5 "
      ]
     },
     "metadata": {},
     "output_type": "display_data"
    }
   ],
   "source": [
    "#reordering columns\n",
    "tg<-tg[c(\"len\",\"supp\",\"dose\")]\n",
    "head(tg)"
   ]
  },
  {
   "cell_type": "code",
   "execution_count": 36,
   "metadata": {},
   "outputs": [
    {
     "data": {
      "text/html": [
       "<table>\n",
       "<thead><tr><th></th><th scope=col>Source</th><th scope=col>Year</th><th scope=col>Anomaly1y</th><th scope=col>Anomaly5y</th><th scope=col>Anomaly10y</th><th scope=col>Unc10y</th></tr></thead>\n",
       "<tbody>\n",
       "\t<tr><th scope=row>1</th><td>Berkeley</td><td>1800    </td><td>    NA  </td><td>NA      </td><td>-0.4350 </td><td>0.505   </td></tr>\n",
       "\t<tr><th scope=row>2</th><td>Berkeley</td><td>1801    </td><td>    NA  </td><td>NA      </td><td>-0.4530 </td><td>0.493   </td></tr>\n",
       "\t<tr><th scope=row>3</th><td>Berkeley</td><td>1802    </td><td>    NA  </td><td>NA      </td><td>-0.4600 </td><td>0.486   </td></tr>\n",
       "\t<tr><th scope=row>4</th><td>Berkeley</td><td>1803    </td><td>    NA  </td><td>NA      </td><td>-0.4930 </td><td>0.489   </td></tr>\n",
       "\t<tr><th scope=row>5</th><td>Berkeley</td><td>1804    </td><td>    NA  </td><td>NA      </td><td>-0.5360 </td><td>0.483   </td></tr>\n",
       "\t<tr><th scope=row>6</th><td>Berkeley</td><td>1805    </td><td>    NA  </td><td>NA      </td><td>-0.5410 </td><td>0.475   </td></tr>\n",
       "\t<tr><th scope=row>494</th><td>CRUTEM3 </td><td>2006    </td><td>0.7613  </td><td>NA      </td><td> 0.7345 </td><td>   NA   </td></tr>\n",
       "\t<tr><th scope=row>495</th><td>CRUTEM3 </td><td>2007    </td><td>0.7703  </td><td>NA      </td><td>     NA </td><td>   NA   </td></tr>\n",
       "\t<tr><th scope=row>496</th><td>CRUTEM3 </td><td>2008    </td><td>0.6203  </td><td>NA      </td><td>     NA </td><td>   NA   </td></tr>\n",
       "\t<tr><th scope=row>497</th><td>CRUTEM3 </td><td>2009    </td><td>0.7343  </td><td>NA      </td><td>     NA </td><td>   NA   </td></tr>\n",
       "\t<tr><th scope=row>498</th><td>CRUTEM3 </td><td>2010    </td><td>0.8023  </td><td>NA      </td><td>     NA </td><td>   NA   </td></tr>\n",
       "\t<tr><th scope=row>499</th><td>CRUTEM3 </td><td>2011    </td><td>0.6193  </td><td>NA      </td><td>     NA </td><td>   NA   </td></tr>\n",
       "</tbody>\n",
       "</table>\n"
      ],
      "text/latex": [
       "\\begin{tabular}{r|llllll}\n",
       "  & Source & Year & Anomaly1y & Anomaly5y & Anomaly10y & Unc10y\\\\\n",
       "\\hline\n",
       "\t1 & Berkeley & 1800     &     NA   & NA       & -0.4350  & 0.505   \\\\\n",
       "\t2 & Berkeley & 1801     &     NA   & NA       & -0.4530  & 0.493   \\\\\n",
       "\t3 & Berkeley & 1802     &     NA   & NA       & -0.4600  & 0.486   \\\\\n",
       "\t4 & Berkeley & 1803     &     NA   & NA       & -0.4930  & 0.489   \\\\\n",
       "\t5 & Berkeley & 1804     &     NA   & NA       & -0.5360  & 0.483   \\\\\n",
       "\t6 & Berkeley & 1805     &     NA   & NA       & -0.5410  & 0.475   \\\\\n",
       "\t494 & CRUTEM3  & 2006     & 0.7613   & NA       &  0.7345  &    NA   \\\\\n",
       "\t495 & CRUTEM3  & 2007     & 0.7703   & NA       &      NA  &    NA   \\\\\n",
       "\t496 & CRUTEM3  & 2008     & 0.6203   & NA       &      NA  &    NA   \\\\\n",
       "\t497 & CRUTEM3  & 2009     & 0.7343   & NA       &      NA  &    NA   \\\\\n",
       "\t498 & CRUTEM3  & 2010     & 0.8023   & NA       &      NA  &    NA   \\\\\n",
       "\t499 & CRUTEM3  & 2011     & 0.6193   & NA       &      NA  &    NA   \\\\\n",
       "\\end{tabular}\n"
      ],
      "text/markdown": [
       "\n",
       "| <!--/--> | Source | Year | Anomaly1y | Anomaly5y | Anomaly10y | Unc10y | \n",
       "|---|---|---|---|---|---|---|---|---|---|---|---|\n",
       "| 1 | Berkeley | 1800     |     NA   | NA       | -0.4350  | 0.505    | \n",
       "| 2 | Berkeley | 1801     |     NA   | NA       | -0.4530  | 0.493    | \n",
       "| 3 | Berkeley | 1802     |     NA   | NA       | -0.4600  | 0.486    | \n",
       "| 4 | Berkeley | 1803     |     NA   | NA       | -0.4930  | 0.489    | \n",
       "| 5 | Berkeley | 1804     |     NA   | NA       | -0.5360  | 0.483    | \n",
       "| 6 | Berkeley | 1805     |     NA   | NA       | -0.5410  | 0.475    | \n",
       "| 494 | CRUTEM3  | 2006     | 0.7613   | NA       |  0.7345  |    NA    | \n",
       "| 495 | CRUTEM3  | 2007     | 0.7703   | NA       |      NA  |    NA    | \n",
       "| 496 | CRUTEM3  | 2008     | 0.6203   | NA       |      NA  |    NA    | \n",
       "| 497 | CRUTEM3  | 2009     | 0.7343   | NA       |      NA  |    NA    | \n",
       "| 498 | CRUTEM3  | 2010     | 0.8023   | NA       |      NA  |    NA    | \n",
       "| 499 | CRUTEM3  | 2011     | 0.6193   | NA       |      NA  |    NA    | \n",
       "\n",
       "\n"
      ],
      "text/plain": [
       "    Source   Year Anomaly1y Anomaly5y Anomaly10y Unc10y\n",
       "1   Berkeley 1800     NA    NA        -0.4350    0.505 \n",
       "2   Berkeley 1801     NA    NA        -0.4530    0.493 \n",
       "3   Berkeley 1802     NA    NA        -0.4600    0.486 \n",
       "4   Berkeley 1803     NA    NA        -0.4930    0.489 \n",
       "5   Berkeley 1804     NA    NA        -0.5360    0.483 \n",
       "6   Berkeley 1805     NA    NA        -0.5410    0.475 \n",
       "494 CRUTEM3  2006 0.7613    NA         0.7345       NA \n",
       "495 CRUTEM3  2007 0.7703    NA             NA       NA \n",
       "496 CRUTEM3  2008 0.6203    NA             NA       NA \n",
       "497 CRUTEM3  2009 0.7343    NA             NA       NA \n",
       "498 CRUTEM3  2010 0.8023    NA             NA       NA \n",
       "499 CRUTEM3  2011 0.6193    NA             NA       NA "
      ]
     },
     "metadata": {},
     "output_type": "display_data"
    },
    {
     "data": {
      "text/html": [
       "<table>\n",
       "<thead><tr><th scope=col>Year</th><th scope=col>Source</th></tr></thead>\n",
       "<tbody>\n",
       "\t<tr><td>1800    </td><td>Berkeley</td></tr>\n",
       "\t<tr><td>1801    </td><td>Berkeley</td></tr>\n",
       "\t<tr><td>1802    </td><td>Berkeley</td></tr>\n",
       "\t<tr><td>1803    </td><td>Berkeley</td></tr>\n",
       "\t<tr><td>1804    </td><td>Berkeley</td></tr>\n",
       "\t<tr><td>1805    </td><td>Berkeley</td></tr>\n",
       "\t<tr><td>1806    </td><td>Berkeley</td></tr>\n",
       "\t<tr><td>1807    </td><td>Berkeley</td></tr>\n",
       "\t<tr><td>1808    </td><td>Berkeley</td></tr>\n",
       "\t<tr><td>1809    </td><td>Berkeley</td></tr>\n",
       "\t<tr><td>1810    </td><td>Berkeley</td></tr>\n",
       "\t<tr><td>1811    </td><td>Berkeley</td></tr>\n",
       "\t<tr><td>1812    </td><td>Berkeley</td></tr>\n",
       "\t<tr><td>1813    </td><td>Berkeley</td></tr>\n",
       "\t<tr><td>1814    </td><td>Berkeley</td></tr>\n",
       "\t<tr><td>1815    </td><td>Berkeley</td></tr>\n",
       "\t<tr><td>1816    </td><td>Berkeley</td></tr>\n",
       "\t<tr><td>1817    </td><td>Berkeley</td></tr>\n",
       "\t<tr><td>1818    </td><td>Berkeley</td></tr>\n",
       "\t<tr><td>1819    </td><td>Berkeley</td></tr>\n",
       "\t<tr><td>1820    </td><td>Berkeley</td></tr>\n",
       "\t<tr><td>1821    </td><td>Berkeley</td></tr>\n",
       "\t<tr><td>1822    </td><td>Berkeley</td></tr>\n",
       "\t<tr><td>1823    </td><td>Berkeley</td></tr>\n",
       "\t<tr><td>1824    </td><td>Berkeley</td></tr>\n",
       "\t<tr><td>1825    </td><td>Berkeley</td></tr>\n",
       "\t<tr><td>1826    </td><td>Berkeley</td></tr>\n",
       "\t<tr><td>1827    </td><td>Berkeley</td></tr>\n",
       "\t<tr><td>1828    </td><td>Berkeley</td></tr>\n",
       "\t<tr><td>1829    </td><td>Berkeley</td></tr>\n",
       "\t<tr><td>...</td><td>...</td></tr>\n",
       "\t<tr><td>1975    </td><td>Berkeley</td></tr>\n",
       "\t<tr><td>1976    </td><td>Berkeley</td></tr>\n",
       "\t<tr><td>1977    </td><td>Berkeley</td></tr>\n",
       "\t<tr><td>1978    </td><td>Berkeley</td></tr>\n",
       "\t<tr><td>1979    </td><td>Berkeley</td></tr>\n",
       "\t<tr><td>1980    </td><td>Berkeley</td></tr>\n",
       "\t<tr><td>1981    </td><td>Berkeley</td></tr>\n",
       "\t<tr><td>1982    </td><td>Berkeley</td></tr>\n",
       "\t<tr><td>1983    </td><td>Berkeley</td></tr>\n",
       "\t<tr><td>1984    </td><td>Berkeley</td></tr>\n",
       "\t<tr><td>1985    </td><td>Berkeley</td></tr>\n",
       "\t<tr><td>1986    </td><td>Berkeley</td></tr>\n",
       "\t<tr><td>1987    </td><td>Berkeley</td></tr>\n",
       "\t<tr><td>1988    </td><td>Berkeley</td></tr>\n",
       "\t<tr><td>1989    </td><td>Berkeley</td></tr>\n",
       "\t<tr><td>1990    </td><td>Berkeley</td></tr>\n",
       "\t<tr><td>1991    </td><td>Berkeley</td></tr>\n",
       "\t<tr><td>1992    </td><td>Berkeley</td></tr>\n",
       "\t<tr><td>1993    </td><td>Berkeley</td></tr>\n",
       "\t<tr><td>1994    </td><td>Berkeley</td></tr>\n",
       "\t<tr><td>1995    </td><td>Berkeley</td></tr>\n",
       "\t<tr><td>1996    </td><td>Berkeley</td></tr>\n",
       "\t<tr><td>1997    </td><td>Berkeley</td></tr>\n",
       "\t<tr><td>1998    </td><td>Berkeley</td></tr>\n",
       "\t<tr><td>1999    </td><td>Berkeley</td></tr>\n",
       "\t<tr><td>2000    </td><td>Berkeley</td></tr>\n",
       "\t<tr><td>2001    </td><td>Berkeley</td></tr>\n",
       "\t<tr><td>2002    </td><td>Berkeley</td></tr>\n",
       "\t<tr><td>2003    </td><td>Berkeley</td></tr>\n",
       "\t<tr><td>2004    </td><td>Berkeley</td></tr>\n",
       "</tbody>\n",
       "</table>\n"
      ],
      "text/latex": [
       "\\begin{tabular}{r|ll}\n",
       " Year & Source\\\\\n",
       "\\hline\n",
       "\t 1800     & Berkeley\\\\\n",
       "\t 1801     & Berkeley\\\\\n",
       "\t 1802     & Berkeley\\\\\n",
       "\t 1803     & Berkeley\\\\\n",
       "\t 1804     & Berkeley\\\\\n",
       "\t 1805     & Berkeley\\\\\n",
       "\t 1806     & Berkeley\\\\\n",
       "\t 1807     & Berkeley\\\\\n",
       "\t 1808     & Berkeley\\\\\n",
       "\t 1809     & Berkeley\\\\\n",
       "\t 1810     & Berkeley\\\\\n",
       "\t 1811     & Berkeley\\\\\n",
       "\t 1812     & Berkeley\\\\\n",
       "\t 1813     & Berkeley\\\\\n",
       "\t 1814     & Berkeley\\\\\n",
       "\t 1815     & Berkeley\\\\\n",
       "\t 1816     & Berkeley\\\\\n",
       "\t 1817     & Berkeley\\\\\n",
       "\t 1818     & Berkeley\\\\\n",
       "\t 1819     & Berkeley\\\\\n",
       "\t 1820     & Berkeley\\\\\n",
       "\t 1821     & Berkeley\\\\\n",
       "\t 1822     & Berkeley\\\\\n",
       "\t 1823     & Berkeley\\\\\n",
       "\t 1824     & Berkeley\\\\\n",
       "\t 1825     & Berkeley\\\\\n",
       "\t 1826     & Berkeley\\\\\n",
       "\t 1827     & Berkeley\\\\\n",
       "\t 1828     & Berkeley\\\\\n",
       "\t 1829     & Berkeley\\\\\n",
       "\t ... & ...\\\\\n",
       "\t 1975     & Berkeley\\\\\n",
       "\t 1976     & Berkeley\\\\\n",
       "\t 1977     & Berkeley\\\\\n",
       "\t 1978     & Berkeley\\\\\n",
       "\t 1979     & Berkeley\\\\\n",
       "\t 1980     & Berkeley\\\\\n",
       "\t 1981     & Berkeley\\\\\n",
       "\t 1982     & Berkeley\\\\\n",
       "\t 1983     & Berkeley\\\\\n",
       "\t 1984     & Berkeley\\\\\n",
       "\t 1985     & Berkeley\\\\\n",
       "\t 1986     & Berkeley\\\\\n",
       "\t 1987     & Berkeley\\\\\n",
       "\t 1988     & Berkeley\\\\\n",
       "\t 1989     & Berkeley\\\\\n",
       "\t 1990     & Berkeley\\\\\n",
       "\t 1991     & Berkeley\\\\\n",
       "\t 1992     & Berkeley\\\\\n",
       "\t 1993     & Berkeley\\\\\n",
       "\t 1994     & Berkeley\\\\\n",
       "\t 1995     & Berkeley\\\\\n",
       "\t 1996     & Berkeley\\\\\n",
       "\t 1997     & Berkeley\\\\\n",
       "\t 1998     & Berkeley\\\\\n",
       "\t 1999     & Berkeley\\\\\n",
       "\t 2000     & Berkeley\\\\\n",
       "\t 2001     & Berkeley\\\\\n",
       "\t 2002     & Berkeley\\\\\n",
       "\t 2003     & Berkeley\\\\\n",
       "\t 2004     & Berkeley\\\\\n",
       "\\end{tabular}\n"
      ],
      "text/markdown": [
       "\n",
       "Year | Source | \n",
       "|---|---|---|---|---|---|---|---|---|---|---|---|---|---|---|---|---|---|---|---|---|---|---|---|---|---|---|---|---|---|---|---|---|---|---|---|---|---|---|---|---|---|---|---|---|---|---|---|---|---|---|---|---|---|---|---|---|---|---|---|---|\n",
       "| 1800     | Berkeley | \n",
       "| 1801     | Berkeley | \n",
       "| 1802     | Berkeley | \n",
       "| 1803     | Berkeley | \n",
       "| 1804     | Berkeley | \n",
       "| 1805     | Berkeley | \n",
       "| 1806     | Berkeley | \n",
       "| 1807     | Berkeley | \n",
       "| 1808     | Berkeley | \n",
       "| 1809     | Berkeley | \n",
       "| 1810     | Berkeley | \n",
       "| 1811     | Berkeley | \n",
       "| 1812     | Berkeley | \n",
       "| 1813     | Berkeley | \n",
       "| 1814     | Berkeley | \n",
       "| 1815     | Berkeley | \n",
       "| 1816     | Berkeley | \n",
       "| 1817     | Berkeley | \n",
       "| 1818     | Berkeley | \n",
       "| 1819     | Berkeley | \n",
       "| 1820     | Berkeley | \n",
       "| 1821     | Berkeley | \n",
       "| 1822     | Berkeley | \n",
       "| 1823     | Berkeley | \n",
       "| 1824     | Berkeley | \n",
       "| 1825     | Berkeley | \n",
       "| 1826     | Berkeley | \n",
       "| 1827     | Berkeley | \n",
       "| 1828     | Berkeley | \n",
       "| 1829     | Berkeley | \n",
       "| ... | ... | \n",
       "| 1975     | Berkeley | \n",
       "| 1976     | Berkeley | \n",
       "| 1977     | Berkeley | \n",
       "| 1978     | Berkeley | \n",
       "| 1979     | Berkeley | \n",
       "| 1980     | Berkeley | \n",
       "| 1981     | Berkeley | \n",
       "| 1982     | Berkeley | \n",
       "| 1983     | Berkeley | \n",
       "| 1984     | Berkeley | \n",
       "| 1985     | Berkeley | \n",
       "| 1986     | Berkeley | \n",
       "| 1987     | Berkeley | \n",
       "| 1988     | Berkeley | \n",
       "| 1989     | Berkeley | \n",
       "| 1990     | Berkeley | \n",
       "| 1991     | Berkeley | \n",
       "| 1992     | Berkeley | \n",
       "| 1993     | Berkeley | \n",
       "| 1994     | Berkeley | \n",
       "| 1995     | Berkeley | \n",
       "| 1996     | Berkeley | \n",
       "| 1997     | Berkeley | \n",
       "| 1998     | Berkeley | \n",
       "| 1999     | Berkeley | \n",
       "| 2000     | Berkeley | \n",
       "| 2001     | Berkeley | \n",
       "| 2002     | Berkeley | \n",
       "| 2003     | Berkeley | \n",
       "| 2004     | Berkeley | \n",
       "\n",
       "\n"
      ],
      "text/plain": [
       "    Year Source  \n",
       "1   1800 Berkeley\n",
       "2   1801 Berkeley\n",
       "3   1802 Berkeley\n",
       "4   1803 Berkeley\n",
       "5   1804 Berkeley\n",
       "6   1805 Berkeley\n",
       "7   1806 Berkeley\n",
       "8   1807 Berkeley\n",
       "9   1808 Berkeley\n",
       "10  1809 Berkeley\n",
       "11  1810 Berkeley\n",
       "12  1811 Berkeley\n",
       "13  1812 Berkeley\n",
       "14  1813 Berkeley\n",
       "15  1814 Berkeley\n",
       "16  1815 Berkeley\n",
       "17  1816 Berkeley\n",
       "18  1817 Berkeley\n",
       "19  1818 Berkeley\n",
       "20  1819 Berkeley\n",
       "21  1820 Berkeley\n",
       "22  1821 Berkeley\n",
       "23  1822 Berkeley\n",
       "24  1823 Berkeley\n",
       "25  1824 Berkeley\n",
       "26  1825 Berkeley\n",
       "27  1826 Berkeley\n",
       "28  1827 Berkeley\n",
       "29  1828 Berkeley\n",
       "30  1829 Berkeley\n",
       "... ...  ...     \n",
       "176 1975 Berkeley\n",
       "177 1976 Berkeley\n",
       "178 1977 Berkeley\n",
       "179 1978 Berkeley\n",
       "180 1979 Berkeley\n",
       "181 1980 Berkeley\n",
       "182 1981 Berkeley\n",
       "183 1982 Berkeley\n",
       "184 1983 Berkeley\n",
       "185 1984 Berkeley\n",
       "186 1985 Berkeley\n",
       "187 1986 Berkeley\n",
       "188 1987 Berkeley\n",
       "189 1988 Berkeley\n",
       "190 1989 Berkeley\n",
       "191 1990 Berkeley\n",
       "192 1991 Berkeley\n",
       "193 1992 Berkeley\n",
       "194 1993 Berkeley\n",
       "195 1994 Berkeley\n",
       "196 1995 Berkeley\n",
       "197 1996 Berkeley\n",
       "198 1997 Berkeley\n",
       "199 1998 Berkeley\n",
       "200 1999 Berkeley\n",
       "201 2000 Berkeley\n",
       "202 2001 Berkeley\n",
       "203 2002 Berkeley\n",
       "204 2003 Berkeley\n",
       "205 2004 Berkeley"
      ]
     },
     "metadata": {},
     "output_type": "display_data"
    }
   ],
   "source": [
    "rbind(head(climate),tail(climate))\n",
    "subset(climate,Source==\"Berkeley\",select=c(\"Year\",\"Source\"))"
   ]
  },
  {
   "cell_type": "code",
   "execution_count": 38,
   "metadata": {},
   "outputs": [
    {
     "data": {
      "text/html": [
       "<table>\n",
       "<thead><tr><th scope=col>Year</th><th scope=col>Anomaly1y</th><th scope=col>Anomaly5y</th><th scope=col>Anomaly10y</th></tr></thead>\n",
       "<tbody>\n",
       "\t<tr><td>1800  </td><td>NA    </td><td>NA    </td><td>-0.435</td></tr>\n",
       "\t<tr><td>1801  </td><td>NA    </td><td>NA    </td><td>-0.453</td></tr>\n",
       "\t<tr><td>1802  </td><td>NA    </td><td>NA    </td><td>-0.460</td></tr>\n",
       "\t<tr><td>1803  </td><td>NA    </td><td>NA    </td><td>-0.493</td></tr>\n",
       "\t<tr><td>1804  </td><td>NA    </td><td>NA    </td><td>-0.536</td></tr>\n",
       "\t<tr><td>1805  </td><td>NA    </td><td>NA    </td><td>-0.541</td></tr>\n",
       "\t<tr><td>1806  </td><td>NA    </td><td>NA    </td><td>-0.590</td></tr>\n",
       "\t<tr><td>1807  </td><td>NA    </td><td>NA    </td><td>-0.695</td></tr>\n",
       "\t<tr><td>1808  </td><td>NA    </td><td>NA    </td><td>-0.763</td></tr>\n",
       "\t<tr><td>1809  </td><td>NA    </td><td>NA    </td><td>-0.818</td></tr>\n",
       "\t<tr><td>1810  </td><td>NA    </td><td>NA    </td><td>-0.842</td></tr>\n",
       "\t<tr><td>1811  </td><td>NA    </td><td>NA    </td><td>-0.912</td></tr>\n",
       "\t<tr><td>1812  </td><td>NA    </td><td>NA    </td><td>-0.963</td></tr>\n",
       "\t<tr><td>1813  </td><td>NA    </td><td>NA    </td><td>-1.015</td></tr>\n",
       "\t<tr><td>1814  </td><td>NA    </td><td>NA    </td><td>-0.949</td></tr>\n",
       "\t<tr><td>1815  </td><td>NA    </td><td>NA    </td><td>-0.935</td></tr>\n",
       "\t<tr><td>1816  </td><td>NA    </td><td>NA    </td><td>-0.918</td></tr>\n",
       "\t<tr><td>1817  </td><td>NA    </td><td>NA    </td><td>-0.802</td></tr>\n",
       "\t<tr><td>1818  </td><td>NA    </td><td>NA    </td><td>-0.743</td></tr>\n",
       "\t<tr><td>1819  </td><td>NA    </td><td>NA    </td><td>-0.703</td></tr>\n",
       "\t<tr><td>1820  </td><td>NA    </td><td>NA    </td><td>-0.625</td></tr>\n",
       "\t<tr><td>1821  </td><td>NA    </td><td>NA    </td><td>-0.527</td></tr>\n",
       "\t<tr><td>1822  </td><td>NA    </td><td>NA    </td><td>-0.392</td></tr>\n",
       "\t<tr><td>1823  </td><td>NA    </td><td>NA    </td><td>-0.332</td></tr>\n",
       "\t<tr><td>1824  </td><td>NA    </td><td>NA    </td><td>-0.321</td></tr>\n",
       "\t<tr><td>1825  </td><td>NA    </td><td>NA    </td><td>-0.278</td></tr>\n",
       "\t<tr><td>1826  </td><td>NA    </td><td>NA    </td><td>-0.270</td></tr>\n",
       "\t<tr><td>1827  </td><td>NA    </td><td>NA    </td><td>-0.378</td></tr>\n",
       "\t<tr><td>1828  </td><td>NA    </td><td>NA    </td><td>-0.398</td></tr>\n",
       "\t<tr><td>1829  </td><td>NA    </td><td>NA    </td><td>-0.388</td></tr>\n",
       "\t<tr><td>...</td><td>...</td><td>...</td><td>...</td></tr>\n",
       "\t<tr><td>1870  </td><td>NA    </td><td>NA    </td><td>-0.233</td></tr>\n",
       "\t<tr><td>1871  </td><td>NA    </td><td>NA    </td><td>-0.255</td></tr>\n",
       "\t<tr><td>1872  </td><td>NA    </td><td>NA    </td><td>-0.271</td></tr>\n",
       "\t<tr><td>1873  </td><td>NA    </td><td>NA    </td><td>-0.247</td></tr>\n",
       "\t<tr><td>1874  </td><td>NA    </td><td>NA    </td><td>-0.248</td></tr>\n",
       "\t<tr><td>1875  </td><td>NA    </td><td>NA    </td><td>-0.271</td></tr>\n",
       "\t<tr><td>1876  </td><td>NA    </td><td>NA    </td><td>-0.252</td></tr>\n",
       "\t<tr><td>1877  </td><td>NA    </td><td>NA    </td><td>-0.235</td></tr>\n",
       "\t<tr><td>1878  </td><td>NA    </td><td>NA    </td><td>-0.257</td></tr>\n",
       "\t<tr><td>1879  </td><td>NA    </td><td>NA    </td><td>-0.297</td></tr>\n",
       "\t<tr><td>1880  </td><td>NA    </td><td>NA    </td><td>-0.321</td></tr>\n",
       "\t<tr><td>1881  </td><td>NA    </td><td>NA    </td><td>-0.314</td></tr>\n",
       "\t<tr><td>1882  </td><td>NA    </td><td>NA    </td><td>-0.325</td></tr>\n",
       "\t<tr><td>1883  </td><td>NA    </td><td>NA    </td><td>-0.376</td></tr>\n",
       "\t<tr><td>1884  </td><td>NA    </td><td>NA    </td><td>-0.373</td></tr>\n",
       "\t<tr><td>1885  </td><td>NA    </td><td>NA    </td><td>-0.368</td></tr>\n",
       "\t<tr><td>1886  </td><td>NA    </td><td>NA    </td><td>-0.386</td></tr>\n",
       "\t<tr><td>1887  </td><td>NA    </td><td>NA    </td><td>-0.397</td></tr>\n",
       "\t<tr><td>1888  </td><td>NA    </td><td>NA    </td><td>-0.394</td></tr>\n",
       "\t<tr><td>1889  </td><td>NA    </td><td>NA    </td><td>-0.364</td></tr>\n",
       "\t<tr><td>1890  </td><td>NA    </td><td>NA    </td><td>-0.342</td></tr>\n",
       "\t<tr><td>1891  </td><td>NA    </td><td>NA    </td><td>-0.323</td></tr>\n",
       "\t<tr><td>1892  </td><td>NA    </td><td>NA    </td><td>-0.298</td></tr>\n",
       "\t<tr><td>1893  </td><td>NA    </td><td>NA    </td><td>-0.273</td></tr>\n",
       "\t<tr><td>1894  </td><td>NA    </td><td>NA    </td><td>-0.286</td></tr>\n",
       "\t<tr><td>1895  </td><td>NA    </td><td>NA    </td><td>-0.251</td></tr>\n",
       "\t<tr><td>1896  </td><td>NA    </td><td>NA    </td><td>-0.201</td></tr>\n",
       "\t<tr><td>1897  </td><td>NA    </td><td>NA    </td><td>-0.176</td></tr>\n",
       "\t<tr><td>1898  </td><td>NA    </td><td>NA    </td><td>-0.153</td></tr>\n",
       "\t<tr><td>1899  </td><td>NA    </td><td>NA    </td><td>-0.174</td></tr>\n",
       "</tbody>\n",
       "</table>\n"
      ],
      "text/latex": [
       "\\begin{tabular}{r|llll}\n",
       " Year & Anomaly1y & Anomaly5y & Anomaly10y\\\\\n",
       "\\hline\n",
       "\t 1800   & NA     & NA     & -0.435\\\\\n",
       "\t 1801   & NA     & NA     & -0.453\\\\\n",
       "\t 1802   & NA     & NA     & -0.460\\\\\n",
       "\t 1803   & NA     & NA     & -0.493\\\\\n",
       "\t 1804   & NA     & NA     & -0.536\\\\\n",
       "\t 1805   & NA     & NA     & -0.541\\\\\n",
       "\t 1806   & NA     & NA     & -0.590\\\\\n",
       "\t 1807   & NA     & NA     & -0.695\\\\\n",
       "\t 1808   & NA     & NA     & -0.763\\\\\n",
       "\t 1809   & NA     & NA     & -0.818\\\\\n",
       "\t 1810   & NA     & NA     & -0.842\\\\\n",
       "\t 1811   & NA     & NA     & -0.912\\\\\n",
       "\t 1812   & NA     & NA     & -0.963\\\\\n",
       "\t 1813   & NA     & NA     & -1.015\\\\\n",
       "\t 1814   & NA     & NA     & -0.949\\\\\n",
       "\t 1815   & NA     & NA     & -0.935\\\\\n",
       "\t 1816   & NA     & NA     & -0.918\\\\\n",
       "\t 1817   & NA     & NA     & -0.802\\\\\n",
       "\t 1818   & NA     & NA     & -0.743\\\\\n",
       "\t 1819   & NA     & NA     & -0.703\\\\\n",
       "\t 1820   & NA     & NA     & -0.625\\\\\n",
       "\t 1821   & NA     & NA     & -0.527\\\\\n",
       "\t 1822   & NA     & NA     & -0.392\\\\\n",
       "\t 1823   & NA     & NA     & -0.332\\\\\n",
       "\t 1824   & NA     & NA     & -0.321\\\\\n",
       "\t 1825   & NA     & NA     & -0.278\\\\\n",
       "\t 1826   & NA     & NA     & -0.270\\\\\n",
       "\t 1827   & NA     & NA     & -0.378\\\\\n",
       "\t 1828   & NA     & NA     & -0.398\\\\\n",
       "\t 1829   & NA     & NA     & -0.388\\\\\n",
       "\t ... & ... & ... & ...\\\\\n",
       "\t 1870   & NA     & NA     & -0.233\\\\\n",
       "\t 1871   & NA     & NA     & -0.255\\\\\n",
       "\t 1872   & NA     & NA     & -0.271\\\\\n",
       "\t 1873   & NA     & NA     & -0.247\\\\\n",
       "\t 1874   & NA     & NA     & -0.248\\\\\n",
       "\t 1875   & NA     & NA     & -0.271\\\\\n",
       "\t 1876   & NA     & NA     & -0.252\\\\\n",
       "\t 1877   & NA     & NA     & -0.235\\\\\n",
       "\t 1878   & NA     & NA     & -0.257\\\\\n",
       "\t 1879   & NA     & NA     & -0.297\\\\\n",
       "\t 1880   & NA     & NA     & -0.321\\\\\n",
       "\t 1881   & NA     & NA     & -0.314\\\\\n",
       "\t 1882   & NA     & NA     & -0.325\\\\\n",
       "\t 1883   & NA     & NA     & -0.376\\\\\n",
       "\t 1884   & NA     & NA     & -0.373\\\\\n",
       "\t 1885   & NA     & NA     & -0.368\\\\\n",
       "\t 1886   & NA     & NA     & -0.386\\\\\n",
       "\t 1887   & NA     & NA     & -0.397\\\\\n",
       "\t 1888   & NA     & NA     & -0.394\\\\\n",
       "\t 1889   & NA     & NA     & -0.364\\\\\n",
       "\t 1890   & NA     & NA     & -0.342\\\\\n",
       "\t 1891   & NA     & NA     & -0.323\\\\\n",
       "\t 1892   & NA     & NA     & -0.298\\\\\n",
       "\t 1893   & NA     & NA     & -0.273\\\\\n",
       "\t 1894   & NA     & NA     & -0.286\\\\\n",
       "\t 1895   & NA     & NA     & -0.251\\\\\n",
       "\t 1896   & NA     & NA     & -0.201\\\\\n",
       "\t 1897   & NA     & NA     & -0.176\\\\\n",
       "\t 1898   & NA     & NA     & -0.153\\\\\n",
       "\t 1899   & NA     & NA     & -0.174\\\\\n",
       "\\end{tabular}\n"
      ],
      "text/markdown": [
       "\n",
       "Year | Anomaly1y | Anomaly5y | Anomaly10y | \n",
       "|---|---|---|---|---|---|---|---|---|---|---|---|---|---|---|---|---|---|---|---|---|---|---|---|---|---|---|---|---|---|---|---|---|---|---|---|---|---|---|---|---|---|---|---|---|---|---|---|---|---|---|---|---|---|---|---|---|---|---|---|---|\n",
       "| 1800   | NA     | NA     | -0.435 | \n",
       "| 1801   | NA     | NA     | -0.453 | \n",
       "| 1802   | NA     | NA     | -0.460 | \n",
       "| 1803   | NA     | NA     | -0.493 | \n",
       "| 1804   | NA     | NA     | -0.536 | \n",
       "| 1805   | NA     | NA     | -0.541 | \n",
       "| 1806   | NA     | NA     | -0.590 | \n",
       "| 1807   | NA     | NA     | -0.695 | \n",
       "| 1808   | NA     | NA     | -0.763 | \n",
       "| 1809   | NA     | NA     | -0.818 | \n",
       "| 1810   | NA     | NA     | -0.842 | \n",
       "| 1811   | NA     | NA     | -0.912 | \n",
       "| 1812   | NA     | NA     | -0.963 | \n",
       "| 1813   | NA     | NA     | -1.015 | \n",
       "| 1814   | NA     | NA     | -0.949 | \n",
       "| 1815   | NA     | NA     | -0.935 | \n",
       "| 1816   | NA     | NA     | -0.918 | \n",
       "| 1817   | NA     | NA     | -0.802 | \n",
       "| 1818   | NA     | NA     | -0.743 | \n",
       "| 1819   | NA     | NA     | -0.703 | \n",
       "| 1820   | NA     | NA     | -0.625 | \n",
       "| 1821   | NA     | NA     | -0.527 | \n",
       "| 1822   | NA     | NA     | -0.392 | \n",
       "| 1823   | NA     | NA     | -0.332 | \n",
       "| 1824   | NA     | NA     | -0.321 | \n",
       "| 1825   | NA     | NA     | -0.278 | \n",
       "| 1826   | NA     | NA     | -0.270 | \n",
       "| 1827   | NA     | NA     | -0.378 | \n",
       "| 1828   | NA     | NA     | -0.398 | \n",
       "| 1829   | NA     | NA     | -0.388 | \n",
       "| ... | ... | ... | ... | \n",
       "| 1870   | NA     | NA     | -0.233 | \n",
       "| 1871   | NA     | NA     | -0.255 | \n",
       "| 1872   | NA     | NA     | -0.271 | \n",
       "| 1873   | NA     | NA     | -0.247 | \n",
       "| 1874   | NA     | NA     | -0.248 | \n",
       "| 1875   | NA     | NA     | -0.271 | \n",
       "| 1876   | NA     | NA     | -0.252 | \n",
       "| 1877   | NA     | NA     | -0.235 | \n",
       "| 1878   | NA     | NA     | -0.257 | \n",
       "| 1879   | NA     | NA     | -0.297 | \n",
       "| 1880   | NA     | NA     | -0.321 | \n",
       "| 1881   | NA     | NA     | -0.314 | \n",
       "| 1882   | NA     | NA     | -0.325 | \n",
       "| 1883   | NA     | NA     | -0.376 | \n",
       "| 1884   | NA     | NA     | -0.373 | \n",
       "| 1885   | NA     | NA     | -0.368 | \n",
       "| 1886   | NA     | NA     | -0.386 | \n",
       "| 1887   | NA     | NA     | -0.397 | \n",
       "| 1888   | NA     | NA     | -0.394 | \n",
       "| 1889   | NA     | NA     | -0.364 | \n",
       "| 1890   | NA     | NA     | -0.342 | \n",
       "| 1891   | NA     | NA     | -0.323 | \n",
       "| 1892   | NA     | NA     | -0.298 | \n",
       "| 1893   | NA     | NA     | -0.273 | \n",
       "| 1894   | NA     | NA     | -0.286 | \n",
       "| 1895   | NA     | NA     | -0.251 | \n",
       "| 1896   | NA     | NA     | -0.201 | \n",
       "| 1897   | NA     | NA     | -0.176 | \n",
       "| 1898   | NA     | NA     | -0.153 | \n",
       "| 1899   | NA     | NA     | -0.174 | \n",
       "\n",
       "\n"
      ],
      "text/plain": [
       "    Year Anomaly1y Anomaly5y Anomaly10y\n",
       "1   1800 NA        NA        -0.435    \n",
       "2   1801 NA        NA        -0.453    \n",
       "3   1802 NA        NA        -0.460    \n",
       "4   1803 NA        NA        -0.493    \n",
       "5   1804 NA        NA        -0.536    \n",
       "6   1805 NA        NA        -0.541    \n",
       "7   1806 NA        NA        -0.590    \n",
       "8   1807 NA        NA        -0.695    \n",
       "9   1808 NA        NA        -0.763    \n",
       "10  1809 NA        NA        -0.818    \n",
       "11  1810 NA        NA        -0.842    \n",
       "12  1811 NA        NA        -0.912    \n",
       "13  1812 NA        NA        -0.963    \n",
       "14  1813 NA        NA        -1.015    \n",
       "15  1814 NA        NA        -0.949    \n",
       "16  1815 NA        NA        -0.935    \n",
       "17  1816 NA        NA        -0.918    \n",
       "18  1817 NA        NA        -0.802    \n",
       "19  1818 NA        NA        -0.743    \n",
       "20  1819 NA        NA        -0.703    \n",
       "21  1820 NA        NA        -0.625    \n",
       "22  1821 NA        NA        -0.527    \n",
       "23  1822 NA        NA        -0.392    \n",
       "24  1823 NA        NA        -0.332    \n",
       "25  1824 NA        NA        -0.321    \n",
       "26  1825 NA        NA        -0.278    \n",
       "27  1826 NA        NA        -0.270    \n",
       "28  1827 NA        NA        -0.378    \n",
       "29  1828 NA        NA        -0.398    \n",
       "30  1829 NA        NA        -0.388    \n",
       "... ...  ...       ...       ...       \n",
       "71  1870 NA        NA        -0.233    \n",
       "72  1871 NA        NA        -0.255    \n",
       "73  1872 NA        NA        -0.271    \n",
       "74  1873 NA        NA        -0.247    \n",
       "75  1874 NA        NA        -0.248    \n",
       "76  1875 NA        NA        -0.271    \n",
       "77  1876 NA        NA        -0.252    \n",
       "78  1877 NA        NA        -0.235    \n",
       "79  1878 NA        NA        -0.257    \n",
       "80  1879 NA        NA        -0.297    \n",
       "81  1880 NA        NA        -0.321    \n",
       "82  1881 NA        NA        -0.314    \n",
       "83  1882 NA        NA        -0.325    \n",
       "84  1883 NA        NA        -0.376    \n",
       "85  1884 NA        NA        -0.373    \n",
       "86  1885 NA        NA        -0.368    \n",
       "87  1886 NA        NA        -0.386    \n",
       "88  1887 NA        NA        -0.397    \n",
       "89  1888 NA        NA        -0.394    \n",
       "90  1889 NA        NA        -0.364    \n",
       "91  1890 NA        NA        -0.342    \n",
       "92  1891 NA        NA        -0.323    \n",
       "93  1892 NA        NA        -0.298    \n",
       "94  1893 NA        NA        -0.273    \n",
       "95  1894 NA        NA        -0.286    \n",
       "96  1895 NA        NA        -0.251    \n",
       "97  1896 NA        NA        -0.201    \n",
       "98  1897 NA        NA        -0.176    \n",
       "99  1898 NA        NA        -0.153    \n",
       "100 1899 NA        NA        -0.174    "
      ]
     },
     "metadata": {},
     "output_type": "display_data"
    }
   ],
   "source": [
    "climate[1:100,c(2:5)]"
   ]
  },
  {
   "cell_type": "code",
   "execution_count": 42,
   "metadata": {},
   "outputs": [
    {
     "name": "stdout",
     "output_type": "stream",
     "text": [
      " Factor w/ 3 levels \"large\",\"medium\",..: 3 1 1 3 2\n",
      " Factor w/ 3 levels \"small\",\"medium\",..: 1 3 3 1 2\n"
     ]
    }
   ],
   "source": [
    "#changing order of factor levels\n",
    "sizes<-factor(c(\"small\",\"large\",\"large\",\"small\",\"medium\"))\n",
    "str(sizes)\n",
    "sizes<-factor(sizes,levels=c(\"small\",\"medium\",\"large\"))\n",
    "str(sizes)"
   ]
  },
  {
   "cell_type": "code",
   "execution_count": 53,
   "metadata": {},
   "outputs": [
    {
     "data": {
      "text/html": [
       "<table>\n",
       "<thead><tr><th scope=col>count</th><th scope=col>spray</th></tr></thead>\n",
       "<tbody>\n",
       "\t<tr><td>10</td><td>A </td></tr>\n",
       "\t<tr><td> 7</td><td>A </td></tr>\n",
       "\t<tr><td>20</td><td>A </td></tr>\n",
       "\t<tr><td>14</td><td>A </td></tr>\n",
       "\t<tr><td>14</td><td>A </td></tr>\n",
       "\t<tr><td>12</td><td>A </td></tr>\n",
       "</tbody>\n",
       "</table>\n"
      ],
      "text/latex": [
       "\\begin{tabular}{r|ll}\n",
       " count & spray\\\\\n",
       "\\hline\n",
       "\t 10 & A \\\\\n",
       "\t  7 & A \\\\\n",
       "\t 20 & A \\\\\n",
       "\t 14 & A \\\\\n",
       "\t 14 & A \\\\\n",
       "\t 12 & A \\\\\n",
       "\\end{tabular}\n"
      ],
      "text/markdown": [
       "\n",
       "count | spray | \n",
       "|---|---|---|---|---|---|\n",
       "| 10 | A  | \n",
       "|  7 | A  | \n",
       "| 20 | A  | \n",
       "| 14 | A  | \n",
       "| 14 | A  | \n",
       "| 12 | A  | \n",
       "\n",
       "\n"
      ],
      "text/plain": [
       "  count spray\n",
       "1 10    A    \n",
       "2  7    A    \n",
       "3 20    A    \n",
       "4 14    A    \n",
       "5 14    A    \n",
       "6 12    A    "
      ]
     },
     "metadata": {},
     "output_type": "display_data"
    },
    {
     "data": {
      "text/html": [
       "<ol class=list-inline>\n",
       "\t<li>A</li>\n",
       "\t<li>A</li>\n",
       "\t<li>A</li>\n",
       "\t<li>A</li>\n",
       "\t<li>A</li>\n",
       "\t<li>A</li>\n",
       "\t<li>A</li>\n",
       "\t<li>A</li>\n",
       "\t<li>A</li>\n",
       "\t<li>A</li>\n",
       "\t<li>A</li>\n",
       "\t<li>A</li>\n",
       "\t<li>B</li>\n",
       "\t<li>B</li>\n",
       "\t<li>B</li>\n",
       "\t<li>B</li>\n",
       "\t<li>B</li>\n",
       "\t<li>B</li>\n",
       "\t<li>B</li>\n",
       "\t<li>B</li>\n",
       "\t<li>B</li>\n",
       "\t<li>B</li>\n",
       "\t<li>B</li>\n",
       "\t<li>B</li>\n",
       "\t<li>C</li>\n",
       "\t<li>C</li>\n",
       "\t<li>C</li>\n",
       "\t<li>C</li>\n",
       "\t<li>C</li>\n",
       "\t<li>C</li>\n",
       "\t<li>C</li>\n",
       "\t<li>C</li>\n",
       "\t<li>C</li>\n",
       "\t<li>C</li>\n",
       "\t<li>C</li>\n",
       "\t<li>C</li>\n",
       "\t<li>D</li>\n",
       "\t<li>D</li>\n",
       "\t<li>D</li>\n",
       "\t<li>D</li>\n",
       "\t<li>D</li>\n",
       "\t<li>D</li>\n",
       "\t<li>D</li>\n",
       "\t<li>D</li>\n",
       "\t<li>D</li>\n",
       "\t<li>D</li>\n",
       "\t<li>D</li>\n",
       "\t<li>D</li>\n",
       "\t<li>E</li>\n",
       "\t<li>E</li>\n",
       "\t<li>E</li>\n",
       "\t<li>E</li>\n",
       "\t<li>E</li>\n",
       "\t<li>E</li>\n",
       "\t<li>E</li>\n",
       "\t<li>E</li>\n",
       "\t<li>E</li>\n",
       "\t<li>E</li>\n",
       "\t<li>E</li>\n",
       "\t<li>E</li>\n",
       "\t<li>F</li>\n",
       "\t<li>F</li>\n",
       "\t<li>F</li>\n",
       "\t<li>F</li>\n",
       "\t<li>F</li>\n",
       "\t<li>F</li>\n",
       "\t<li>F</li>\n",
       "\t<li>F</li>\n",
       "\t<li>F</li>\n",
       "\t<li>F</li>\n",
       "\t<li>F</li>\n",
       "\t<li>F</li>\n",
       "</ol>\n"
      ],
      "text/latex": [
       "\\begin{enumerate*}\n",
       "\\item A\n",
       "\\item A\n",
       "\\item A\n",
       "\\item A\n",
       "\\item A\n",
       "\\item A\n",
       "\\item A\n",
       "\\item A\n",
       "\\item A\n",
       "\\item A\n",
       "\\item A\n",
       "\\item A\n",
       "\\item B\n",
       "\\item B\n",
       "\\item B\n",
       "\\item B\n",
       "\\item B\n",
       "\\item B\n",
       "\\item B\n",
       "\\item B\n",
       "\\item B\n",
       "\\item B\n",
       "\\item B\n",
       "\\item B\n",
       "\\item C\n",
       "\\item C\n",
       "\\item C\n",
       "\\item C\n",
       "\\item C\n",
       "\\item C\n",
       "\\item C\n",
       "\\item C\n",
       "\\item C\n",
       "\\item C\n",
       "\\item C\n",
       "\\item C\n",
       "\\item D\n",
       "\\item D\n",
       "\\item D\n",
       "\\item D\n",
       "\\item D\n",
       "\\item D\n",
       "\\item D\n",
       "\\item D\n",
       "\\item D\n",
       "\\item D\n",
       "\\item D\n",
       "\\item D\n",
       "\\item E\n",
       "\\item E\n",
       "\\item E\n",
       "\\item E\n",
       "\\item E\n",
       "\\item E\n",
       "\\item E\n",
       "\\item E\n",
       "\\item E\n",
       "\\item E\n",
       "\\item E\n",
       "\\item E\n",
       "\\item F\n",
       "\\item F\n",
       "\\item F\n",
       "\\item F\n",
       "\\item F\n",
       "\\item F\n",
       "\\item F\n",
       "\\item F\n",
       "\\item F\n",
       "\\item F\n",
       "\\item F\n",
       "\\item F\n",
       "\\end{enumerate*}\n"
      ],
      "text/markdown": [
       "1. A\n",
       "2. A\n",
       "3. A\n",
       "4. A\n",
       "5. A\n",
       "6. A\n",
       "7. A\n",
       "8. A\n",
       "9. A\n",
       "10. A\n",
       "11. A\n",
       "12. A\n",
       "13. B\n",
       "14. B\n",
       "15. B\n",
       "16. B\n",
       "17. B\n",
       "18. B\n",
       "19. B\n",
       "20. B\n",
       "21. B\n",
       "22. B\n",
       "23. B\n",
       "24. B\n",
       "25. C\n",
       "26. C\n",
       "27. C\n",
       "28. C\n",
       "29. C\n",
       "30. C\n",
       "31. C\n",
       "32. C\n",
       "33. C\n",
       "34. C\n",
       "35. C\n",
       "36. C\n",
       "37. D\n",
       "38. D\n",
       "39. D\n",
       "40. D\n",
       "41. D\n",
       "42. D\n",
       "43. D\n",
       "44. D\n",
       "45. D\n",
       "46. D\n",
       "47. D\n",
       "48. D\n",
       "49. E\n",
       "50. E\n",
       "51. E\n",
       "52. E\n",
       "53. E\n",
       "54. E\n",
       "55. E\n",
       "56. E\n",
       "57. E\n",
       "58. E\n",
       "59. E\n",
       "60. E\n",
       "61. F\n",
       "62. F\n",
       "63. F\n",
       "64. F\n",
       "65. F\n",
       "66. F\n",
       "67. F\n",
       "68. F\n",
       "69. F\n",
       "70. F\n",
       "71. F\n",
       "72. F\n",
       "\n",
       "\n"
      ],
      "text/plain": [
       " [1] A A A A A A A A A A A A B B B B B B B B B B B B C C C C C C C C C C C C D D\n",
       "[39] D D D D D D D D D D E E E E E E E E E E E E F F F F F F F F F F F F\n",
       "Levels: A B C D E F"
      ]
     },
     "metadata": {},
     "output_type": "display_data"
    },
    {
     "data": {
      "text/html": [
       "<ol class=list-inline>\n",
       "\t<li>A</li>\n",
       "\t<li>A</li>\n",
       "\t<li>A</li>\n",
       "\t<li>A</li>\n",
       "\t<li>A</li>\n",
       "\t<li>A</li>\n",
       "\t<li>A</li>\n",
       "\t<li>A</li>\n",
       "\t<li>A</li>\n",
       "\t<li>A</li>\n",
       "\t<li>A</li>\n",
       "\t<li>A</li>\n",
       "\t<li>B</li>\n",
       "\t<li>B</li>\n",
       "\t<li>B</li>\n",
       "\t<li>B</li>\n",
       "\t<li>B</li>\n",
       "\t<li>B</li>\n",
       "\t<li>B</li>\n",
       "\t<li>B</li>\n",
       "\t<li>B</li>\n",
       "\t<li>B</li>\n",
       "\t<li>B</li>\n",
       "\t<li>B</li>\n",
       "\t<li>C</li>\n",
       "\t<li>C</li>\n",
       "\t<li>C</li>\n",
       "\t<li>C</li>\n",
       "\t<li>C</li>\n",
       "\t<li>C</li>\n",
       "\t<li>C</li>\n",
       "\t<li>C</li>\n",
       "\t<li>C</li>\n",
       "\t<li>C</li>\n",
       "\t<li>C</li>\n",
       "\t<li>C</li>\n",
       "\t<li>D</li>\n",
       "\t<li>D</li>\n",
       "\t<li>D</li>\n",
       "\t<li>D</li>\n",
       "\t<li>D</li>\n",
       "\t<li>D</li>\n",
       "\t<li>D</li>\n",
       "\t<li>D</li>\n",
       "\t<li>D</li>\n",
       "\t<li>D</li>\n",
       "\t<li>D</li>\n",
       "\t<li>D</li>\n",
       "\t<li>E</li>\n",
       "\t<li>E</li>\n",
       "\t<li>E</li>\n",
       "\t<li>E</li>\n",
       "\t<li>E</li>\n",
       "\t<li>E</li>\n",
       "\t<li>E</li>\n",
       "\t<li>E</li>\n",
       "\t<li>E</li>\n",
       "\t<li>E</li>\n",
       "\t<li>E</li>\n",
       "\t<li>E</li>\n",
       "\t<li>F</li>\n",
       "\t<li>F</li>\n",
       "\t<li>F</li>\n",
       "\t<li>F</li>\n",
       "\t<li>F</li>\n",
       "\t<li>F</li>\n",
       "\t<li>F</li>\n",
       "\t<li>F</li>\n",
       "\t<li>F</li>\n",
       "\t<li>F</li>\n",
       "\t<li>F</li>\n",
       "\t<li>F</li>\n",
       "</ol>\n"
      ],
      "text/latex": [
       "\\begin{enumerate*}\n",
       "\\item A\n",
       "\\item A\n",
       "\\item A\n",
       "\\item A\n",
       "\\item A\n",
       "\\item A\n",
       "\\item A\n",
       "\\item A\n",
       "\\item A\n",
       "\\item A\n",
       "\\item A\n",
       "\\item A\n",
       "\\item B\n",
       "\\item B\n",
       "\\item B\n",
       "\\item B\n",
       "\\item B\n",
       "\\item B\n",
       "\\item B\n",
       "\\item B\n",
       "\\item B\n",
       "\\item B\n",
       "\\item B\n",
       "\\item B\n",
       "\\item C\n",
       "\\item C\n",
       "\\item C\n",
       "\\item C\n",
       "\\item C\n",
       "\\item C\n",
       "\\item C\n",
       "\\item C\n",
       "\\item C\n",
       "\\item C\n",
       "\\item C\n",
       "\\item C\n",
       "\\item D\n",
       "\\item D\n",
       "\\item D\n",
       "\\item D\n",
       "\\item D\n",
       "\\item D\n",
       "\\item D\n",
       "\\item D\n",
       "\\item D\n",
       "\\item D\n",
       "\\item D\n",
       "\\item D\n",
       "\\item E\n",
       "\\item E\n",
       "\\item E\n",
       "\\item E\n",
       "\\item E\n",
       "\\item E\n",
       "\\item E\n",
       "\\item E\n",
       "\\item E\n",
       "\\item E\n",
       "\\item E\n",
       "\\item E\n",
       "\\item F\n",
       "\\item F\n",
       "\\item F\n",
       "\\item F\n",
       "\\item F\n",
       "\\item F\n",
       "\\item F\n",
       "\\item F\n",
       "\\item F\n",
       "\\item F\n",
       "\\item F\n",
       "\\item F\n",
       "\\end{enumerate*}\n"
      ],
      "text/markdown": [
       "1. A\n",
       "2. A\n",
       "3. A\n",
       "4. A\n",
       "5. A\n",
       "6. A\n",
       "7. A\n",
       "8. A\n",
       "9. A\n",
       "10. A\n",
       "11. A\n",
       "12. A\n",
       "13. B\n",
       "14. B\n",
       "15. B\n",
       "16. B\n",
       "17. B\n",
       "18. B\n",
       "19. B\n",
       "20. B\n",
       "21. B\n",
       "22. B\n",
       "23. B\n",
       "24. B\n",
       "25. C\n",
       "26. C\n",
       "27. C\n",
       "28. C\n",
       "29. C\n",
       "30. C\n",
       "31. C\n",
       "32. C\n",
       "33. C\n",
       "34. C\n",
       "35. C\n",
       "36. C\n",
       "37. D\n",
       "38. D\n",
       "39. D\n",
       "40. D\n",
       "41. D\n",
       "42. D\n",
       "43. D\n",
       "44. D\n",
       "45. D\n",
       "46. D\n",
       "47. D\n",
       "48. D\n",
       "49. E\n",
       "50. E\n",
       "51. E\n",
       "52. E\n",
       "53. E\n",
       "54. E\n",
       "55. E\n",
       "56. E\n",
       "57. E\n",
       "58. E\n",
       "59. E\n",
       "60. E\n",
       "61. F\n",
       "62. F\n",
       "63. F\n",
       "64. F\n",
       "65. F\n",
       "66. F\n",
       "67. F\n",
       "68. F\n",
       "69. F\n",
       "70. F\n",
       "71. F\n",
       "72. F\n",
       "\n",
       "\n"
      ],
      "text/plain": [
       " [1] A A A A A A A A A A A A B B B B B B B B B B B B C C C C C C C C C C C C D D\n",
       "[39] D D D D D D D D D D E E E E E E E E E E E E F F F F F F F F F F F F\n",
       "attr(,\"scores\")\n",
       "        A         B         C         D         E         F \n",
       "14.500000 15.333333  2.083333  4.916667  3.500000 16.666667 \n",
       "Levels: C E D A B F"
      ]
     },
     "metadata": {},
     "output_type": "display_data"
    },
    {
     "data": {},
     "metadata": {},
     "output_type": "display_data"
    },
    {
     "data": {
      "image/png": "[encoded data removed]",
      "text/plain": [
       "plot without title"
      ]
     },
     "metadata": {},
     "output_type": "display_data"
    }
   ],
   "source": [
    "library(ggplot2)\n",
    "iss<-InsectSprays\n",
    "head(iss)\n",
    "iss$spray\n",
    "iss$spray<-reorder(iss$spray,iss$count,FUN=mean)\n",
    "iss$spray\n",
    "ggplot(InsectSprays,aes(x=spray,y=count))+geom_boxplot()\n",
    "\n"
   ]
  },
  {
   "cell_type": "code",
   "execution_count": 51,
   "metadata": {},
   "outputs": [
    {
     "data": {},
     "metadata": {},
     "output_type": "display_data"
    },
    {
     "data": {
      "image/png": "[encoded data removed]",
      "text/plain": [
       "plot without title"
      ]
     },
     "metadata": {},
     "output_type": "display_data"
    }
   ],
   "source": [
    "ggplot(iss,aes(x=spray,y=count))+geom_boxplot()"
   ]
  },
  {
   "cell_type": "code",
   "execution_count": 52,
   "metadata": {},
   "outputs": [
    {
     "data": {},
     "metadata": {},
     "output_type": "display_data"
    },
    {
     "data": {
      "image/png": "[encoded data removed]",
      "text/plain": [
       "plot without title"
      ]
     },
     "metadata": {},
     "output_type": "display_data"
    }
   ],
   "source": [
    "iss$spray<-reorder(iss$spray,iss$count,FUN=median)\n",
    "ggplot(iss,aes(x=spray,y=count))+geom_boxplot()"
   ]
  },
  {
   "cell_type": "code",
   "execution_count": 56,
   "metadata": {},
   "outputs": [
    {
     "name": "stderr",
     "output_type": "stream",
     "text": [
      "------------------------------------------------------------------------------\n",
      "You have loaded plyr after dplyr - this is likely to cause problems.\n",
      "If you need functions from both plyr and dplyr, please load plyr first, then dplyr:\n",
      "library(plyr); library(dplyr)\n",
      "------------------------------------------------------------------------------\n",
      "\n",
      "Attaching package: 'plyr'\n",
      "\n",
      "The following objects are masked from 'package:dplyr':\n",
      "\n",
      "    arrange, count, desc, failwith, id, mutate, rename, summarise,\n",
      "    summarize\n",
      "\n"
     ]
    },
    {
     "data": {
      "text/html": [
       "<ol class=list-inline>\n",
       "\t<li>small</li>\n",
       "\t<li>large</li>\n",
       "\t<li>large</li>\n",
       "\t<li>medium</li>\n",
       "</ol>\n"
      ],
      "text/latex": [
       "\\begin{enumerate*}\n",
       "\\item small\n",
       "\\item large\n",
       "\\item large\n",
       "\\item medium\n",
       "\\end{enumerate*}\n"
      ],
      "text/markdown": [
       "1. small\n",
       "2. large\n",
       "3. large\n",
       "4. medium\n",
       "\n",
       "\n"
      ],
      "text/plain": [
       "[1] small  large  large  medium\n",
       "Levels: large medium small"
      ]
     },
     "metadata": {},
     "output_type": "display_data"
    },
    {
     "data": {
      "text/html": [
       "<ol class=list-inline>\n",
       "\t<li>'large'</li>\n",
       "\t<li>'medium'</li>\n",
       "\t<li>'small'</li>\n",
       "</ol>\n"
      ],
      "text/latex": [
       "\\begin{enumerate*}\n",
       "\\item 'large'\n",
       "\\item 'medium'\n",
       "\\item 'small'\n",
       "\\end{enumerate*}\n"
      ],
      "text/markdown": [
       "1. 'large'\n",
       "2. 'medium'\n",
       "3. 'small'\n",
       "\n",
       "\n"
      ],
      "text/plain": [
       "[1] \"large\"  \"medium\" \"small\" "
      ]
     },
     "metadata": {},
     "output_type": "display_data"
    },
    {
     "data": {
      "text/html": [
       "<ol class=list-inline>\n",
       "\t<li>S</li>\n",
       "\t<li>L</li>\n",
       "\t<li>L</li>\n",
       "\t<li>M</li>\n",
       "</ol>\n"
      ],
      "text/latex": [
       "\\begin{enumerate*}\n",
       "\\item S\n",
       "\\item L\n",
       "\\item L\n",
       "\\item M\n",
       "\\end{enumerate*}\n"
      ],
      "text/markdown": [
       "1. S\n",
       "2. L\n",
       "3. L\n",
       "4. M\n",
       "\n",
       "\n"
      ],
      "text/plain": [
       "[1] S L L M\n",
       "Levels: L M S"
      ]
     },
     "metadata": {},
     "output_type": "display_data"
    },
    {
     "data": {
      "text/html": [
       "<ol class=list-inline>\n",
       "\t<li>small</li>\n",
       "\t<li>large</li>\n",
       "\t<li>large</li>\n",
       "\t<li>medium</li>\n",
       "</ol>\n"
      ],
      "text/latex": [
       "\\begin{enumerate*}\n",
       "\\item small\n",
       "\\item large\n",
       "\\item large\n",
       "\\item medium\n",
       "\\end{enumerate*}\n"
      ],
      "text/markdown": [
       "1. small\n",
       "2. large\n",
       "3. large\n",
       "4. medium\n",
       "\n",
       "\n"
      ],
      "text/plain": [
       "[1] small  large  large  medium\n",
       "Levels: large medium small"
      ]
     },
     "metadata": {},
     "output_type": "display_data"
    }
   ],
   "source": [
    "#changing names of factor level\n",
    "library(plyr)\n",
    "sizes<-factor(c(\"small\",\"large\",\"large\",\"medium\"))\n",
    "sizes\n",
    "levels(sizes)\n",
    "revalue(sizes,c(small=\"S\",large=\"L\",medium=\"M\"))\n",
    "sizes"
   ]
  },
  {
   "cell_type": "code",
   "execution_count": 57,
   "metadata": {},
   "outputs": [
    {
     "name": "stderr",
     "output_type": "stream",
     "text": [
      "\n",
      "Attaching package: 'MASS'\n",
      "\n",
      "The following object is masked from 'package:dplyr':\n",
      "\n",
      "    select\n",
      "\n"
     ]
    },
    {
     "data": {
      "text/html": [
       "<table>\n",
       "<thead><tr><th scope=col>Cult</th><th scope=col>Date</th><th scope=col>HeadWt</th><th scope=col>VitC</th></tr></thead>\n",
       "<tbody>\n",
       "\t<tr><td>c39</td><td>d16</td><td>2.5</td><td>51 </td></tr>\n",
       "\t<tr><td>c39</td><td>d16</td><td>2.2</td><td>55 </td></tr>\n",
       "\t<tr><td>c39</td><td>d16</td><td>3.1</td><td>45 </td></tr>\n",
       "\t<tr><td>c39</td><td>d16</td><td>4.3</td><td>42 </td></tr>\n",
       "\t<tr><td>c39</td><td>d16</td><td>2.5</td><td>53 </td></tr>\n",
       "\t<tr><td>c39</td><td>d16</td><td>4.3</td><td>50 </td></tr>\n",
       "</tbody>\n",
       "</table>\n"
      ],
      "text/latex": [
       "\\begin{tabular}{r|llll}\n",
       " Cult & Date & HeadWt & VitC\\\\\n",
       "\\hline\n",
       "\t c39 & d16 & 2.5 & 51 \\\\\n",
       "\t c39 & d16 & 2.2 & 55 \\\\\n",
       "\t c39 & d16 & 3.1 & 45 \\\\\n",
       "\t c39 & d16 & 4.3 & 42 \\\\\n",
       "\t c39 & d16 & 2.5 & 53 \\\\\n",
       "\t c39 & d16 & 4.3 & 50 \\\\\n",
       "\\end{tabular}\n"
      ],
      "text/markdown": [
       "\n",
       "Cult | Date | HeadWt | VitC | \n",
       "|---|---|---|---|---|---|\n",
       "| c39 | d16 | 2.5 | 51  | \n",
       "| c39 | d16 | 2.2 | 55  | \n",
       "| c39 | d16 | 3.1 | 45  | \n",
       "| c39 | d16 | 4.3 | 42  | \n",
       "| c39 | d16 | 2.5 | 53  | \n",
       "| c39 | d16 | 4.3 | 50  | \n",
       "\n",
       "\n"
      ],
      "text/plain": [
       "  Cult Date HeadWt VitC\n",
       "1 c39  d16  2.5    51  \n",
       "2 c39  d16  2.2    55  \n",
       "3 c39  d16  3.1    45  \n",
       "4 c39  d16  4.3    42  \n",
       "5 c39  d16  2.5    53  \n",
       "6 c39  d16  4.3    50  "
      ]
     },
     "metadata": {},
     "output_type": "display_data"
    }
   ],
   "source": [
    "# summarizing data by groups\n",
    "library(MASS)\n",
    "library(plyr)\n",
    "head(cabbages)\n"
   ]
  },
  {
   "cell_type": "code",
   "execution_count": 58,
   "metadata": {},
   "outputs": [
    {
     "data": {
      "text/html": [
       "<table>\n",
       "<thead><tr><th scope=col>Cult</th><th scope=col>Date</th><th scope=col>weight</th><th scope=col>VitC</th></tr></thead>\n",
       "<tbody>\n",
       "\t<tr><td>c39 </td><td>d16 </td><td>3.18</td><td>50.3</td></tr>\n",
       "\t<tr><td>c39 </td><td>d20 </td><td>2.80</td><td>49.4</td></tr>\n",
       "\t<tr><td>c39 </td><td>d21 </td><td>2.74</td><td>54.8</td></tr>\n",
       "\t<tr><td>c52 </td><td>d16 </td><td>2.26</td><td>62.5</td></tr>\n",
       "\t<tr><td>c52 </td><td>d20 </td><td>3.11</td><td>58.9</td></tr>\n",
       "\t<tr><td>c52 </td><td>d21 </td><td>1.47</td><td>71.8</td></tr>\n",
       "</tbody>\n",
       "</table>\n"
      ],
      "text/latex": [
       "\\begin{tabular}{r|llll}\n",
       " Cult & Date & weight & VitC\\\\\n",
       "\\hline\n",
       "\t c39  & d16  & 3.18 & 50.3\\\\\n",
       "\t c39  & d20  & 2.80 & 49.4\\\\\n",
       "\t c39  & d21  & 2.74 & 54.8\\\\\n",
       "\t c52  & d16  & 2.26 & 62.5\\\\\n",
       "\t c52  & d20  & 3.11 & 58.9\\\\\n",
       "\t c52  & d21  & 1.47 & 71.8\\\\\n",
       "\\end{tabular}\n"
      ],
      "text/markdown": [
       "\n",
       "Cult | Date | weight | VitC | \n",
       "|---|---|---|---|---|---|\n",
       "| c39  | d16  | 3.18 | 50.3 | \n",
       "| c39  | d20  | 2.80 | 49.4 | \n",
       "| c39  | d21  | 2.74 | 54.8 | \n",
       "| c52  | d16  | 2.26 | 62.5 | \n",
       "| c52  | d20  | 3.11 | 58.9 | \n",
       "| c52  | d21  | 1.47 | 71.8 | \n",
       "\n",
       "\n"
      ],
      "text/plain": [
       "  Cult Date weight VitC\n",
       "1 c39  d16  3.18   50.3\n",
       "2 c39  d20  2.80   49.4\n",
       "3 c39  d21  2.74   54.8\n",
       "4 c52  d16  2.26   62.5\n",
       "5 c52  d20  3.11   58.9\n",
       "6 c52  d21  1.47   71.8"
      ]
     },
     "metadata": {},
     "output_type": "display_data"
    }
   ],
   "source": [
    "ddply(cabbages,c(\"Cult\",\"Date\"),summarise,weight=mean(HeadWt),VitC=mean(VitC))"
   ]
  },
  {
   "cell_type": "code",
   "execution_count": 61,
   "metadata": {},
   "outputs": [
    {
     "data": {
      "text/html": [
       "<table>\n",
       "<thead><tr><th scope=col>Cult</th><th scope=col>Date</th><th scope=col>weight</th><th scope=col>sd</th><th scope=col>n</th></tr></thead>\n",
       "<tbody>\n",
       "\t<tr><td>c39      </td><td>d16      </td><td>3.18     </td><td>0.9566144</td><td>10       </td></tr>\n",
       "\t<tr><td>c39      </td><td>d20      </td><td>2.80     </td><td>0.2788867</td><td>10       </td></tr>\n",
       "\t<tr><td>c39      </td><td>d21      </td><td>2.74     </td><td>0.9834181</td><td>10       </td></tr>\n",
       "\t<tr><td>c52      </td><td>d16      </td><td>2.26     </td><td>0.4452215</td><td>10       </td></tr>\n",
       "\t<tr><td>c52      </td><td>d20      </td><td>3.11     </td><td>0.7908505</td><td>10       </td></tr>\n",
       "\t<tr><td>c52      </td><td>d21      </td><td>1.47     </td><td>0.2110819</td><td>10       </td></tr>\n",
       "</tbody>\n",
       "</table>\n"
      ],
      "text/latex": [
       "\\begin{tabular}{r|lllll}\n",
       " Cult & Date & weight & sd & n\\\\\n",
       "\\hline\n",
       "\t c39       & d16       & 3.18      & 0.9566144 & 10       \\\\\n",
       "\t c39       & d20       & 2.80      & 0.2788867 & 10       \\\\\n",
       "\t c39       & d21       & 2.74      & 0.9834181 & 10       \\\\\n",
       "\t c52       & d16       & 2.26      & 0.4452215 & 10       \\\\\n",
       "\t c52       & d20       & 3.11      & 0.7908505 & 10       \\\\\n",
       "\t c52       & d21       & 1.47      & 0.2110819 & 10       \\\\\n",
       "\\end{tabular}\n"
      ],
      "text/markdown": [
       "\n",
       "Cult | Date | weight | sd | n | \n",
       "|---|---|---|---|---|---|\n",
       "| c39       | d16       | 3.18      | 0.9566144 | 10        | \n",
       "| c39       | d20       | 2.80      | 0.2788867 | 10        | \n",
       "| c39       | d21       | 2.74      | 0.9834181 | 10        | \n",
       "| c52       | d16       | 2.26      | 0.4452215 | 10        | \n",
       "| c52       | d20       | 3.11      | 0.7908505 | 10        | \n",
       "| c52       | d21       | 1.47      | 0.2110819 | 10        | \n",
       "\n",
       "\n"
      ],
      "text/plain": [
       "  Cult Date weight sd        n \n",
       "1 c39  d16  3.18   0.9566144 10\n",
       "2 c39  d20  2.80   0.2788867 10\n",
       "3 c39  d21  2.74   0.9834181 10\n",
       "4 c52  d16  2.26   0.4452215 10\n",
       "5 c52  d20  3.11   0.7908505 10\n",
       "6 c52  d21  1.47   0.2110819 10"
      ]
     },
     "metadata": {},
     "output_type": "display_data"
    }
   ],
   "source": [
    "ddply(cabbages,c(\"Cult\",\"Date\"),summarise,weight=mean(HeadWt),sd=sd(HeadWt),n=length(HeadWt))"
   ]
  },
  {
   "cell_type": "code",
   "execution_count": 65,
   "metadata": {},
   "outputs": [
    {
     "data": {
      "text/html": [
       "<table>\n",
       "<thead><tr><th scope=col>Cult</th><th scope=col>Date</th><th scope=col>weight</th><th scope=col>sd</th><th scope=col>n</th></tr></thead>\n",
       "<tbody>\n",
       "\t<tr><td>c39      </td><td>d16      </td><td>  NA     </td><td>       NA</td><td>10       </td></tr>\n",
       "\t<tr><td>c39      </td><td>d20      </td><td>  NA     </td><td>       NA</td><td>10       </td></tr>\n",
       "\t<tr><td>c39      </td><td>d21      </td><td>2.74     </td><td>0.9834181</td><td>10       </td></tr>\n",
       "\t<tr><td>c52      </td><td>d16      </td><td>2.26     </td><td>0.4452215</td><td>10       </td></tr>\n",
       "\t<tr><td>c52      </td><td>d20      </td><td>  NA     </td><td>       NA</td><td>10       </td></tr>\n",
       "\t<tr><td>c52      </td><td>d21      </td><td>1.47     </td><td>0.2110819</td><td>10       </td></tr>\n",
       "</tbody>\n",
       "</table>\n"
      ],
      "text/latex": [
       "\\begin{tabular}{r|lllll}\n",
       " Cult & Date & weight & sd & n\\\\\n",
       "\\hline\n",
       "\t c39       & d16       &   NA      &        NA & 10       \\\\\n",
       "\t c39       & d20       &   NA      &        NA & 10       \\\\\n",
       "\t c39       & d21       & 2.74      & 0.9834181 & 10       \\\\\n",
       "\t c52       & d16       & 2.26      & 0.4452215 & 10       \\\\\n",
       "\t c52       & d20       &   NA      &        NA & 10       \\\\\n",
       "\t c52       & d21       & 1.47      & 0.2110819 & 10       \\\\\n",
       "\\end{tabular}\n"
      ],
      "text/markdown": [
       "\n",
       "Cult | Date | weight | sd | n | \n",
       "|---|---|---|---|---|---|\n",
       "| c39       | d16       |   NA      |        NA | 10        | \n",
       "| c39       | d20       |   NA      |        NA | 10        | \n",
       "| c39       | d21       | 2.74      | 0.9834181 | 10        | \n",
       "| c52       | d16       | 2.26      | 0.4452215 | 10        | \n",
       "| c52       | d20       |   NA      |        NA | 10        | \n",
       "| c52       | d21       | 1.47      | 0.2110819 | 10        | \n",
       "\n",
       "\n"
      ],
      "text/plain": [
       "  Cult Date weight sd        n \n",
       "1 c39  d16    NA          NA 10\n",
       "2 c39  d20    NA          NA 10\n",
       "3 c39  d21  2.74   0.9834181 10\n",
       "4 c52  d16  2.26   0.4452215 10\n",
       "5 c52  d20    NA          NA 10\n",
       "6 c52  d21  1.47   0.2110819 10"
      ]
     },
     "metadata": {},
     "output_type": "display_data"
    }
   ],
   "source": [
    "# problems with NA\n",
    "c1<-cabbages\n",
    "c1$HeadWt[c(1,20,45)]<-NA\n",
    "ddply(c1,c(\"Cult\",\"Date\"),summarise,weight=mean(HeadWt),sd=sd(HeadWt),n=length(HeadWt))\n"
   ]
  },
  {
   "cell_type": "code",
   "execution_count": 67,
   "metadata": {},
   "outputs": [
    {
     "data": {
      "text/html": [
       "<table>\n",
       "<thead><tr><th scope=col>Cult</th><th scope=col>Date</th><th scope=col>weight</th><th scope=col>sd</th><th scope=col>n</th></tr></thead>\n",
       "<tbody>\n",
       "\t<tr><td>c39      </td><td>d16      </td><td>3.255556 </td><td>0.9824855</td><td> 9       </td></tr>\n",
       "\t<tr><td>c39      </td><td>d20      </td><td>2.722222 </td><td>0.1394433</td><td> 9       </td></tr>\n",
       "\t<tr><td>c39      </td><td>d21      </td><td>2.740000 </td><td>0.9834181</td><td>10       </td></tr>\n",
       "\t<tr><td>c52      </td><td>d16      </td><td>2.260000 </td><td>0.4452215</td><td>10       </td></tr>\n",
       "\t<tr><td>c52      </td><td>d20      </td><td>3.044444 </td><td>0.8094923</td><td> 9       </td></tr>\n",
       "\t<tr><td>c52      </td><td>d21      </td><td>1.470000 </td><td>0.2110819</td><td>10       </td></tr>\n",
       "</tbody>\n",
       "</table>\n"
      ],
      "text/latex": [
       "\\begin{tabular}{r|lllll}\n",
       " Cult & Date & weight & sd & n\\\\\n",
       "\\hline\n",
       "\t c39       & d16       & 3.255556  & 0.9824855 &  9       \\\\\n",
       "\t c39       & d20       & 2.722222  & 0.1394433 &  9       \\\\\n",
       "\t c39       & d21       & 2.740000  & 0.9834181 & 10       \\\\\n",
       "\t c52       & d16       & 2.260000  & 0.4452215 & 10       \\\\\n",
       "\t c52       & d20       & 3.044444  & 0.8094923 &  9       \\\\\n",
       "\t c52       & d21       & 1.470000  & 0.2110819 & 10       \\\\\n",
       "\\end{tabular}\n"
      ],
      "text/markdown": [
       "\n",
       "Cult | Date | weight | sd | n | \n",
       "|---|---|---|---|---|---|\n",
       "| c39       | d16       | 3.255556  | 0.9824855 |  9        | \n",
       "| c39       | d20       | 2.722222  | 0.1394433 |  9        | \n",
       "| c39       | d21       | 2.740000  | 0.9834181 | 10        | \n",
       "| c52       | d16       | 2.260000  | 0.4452215 | 10        | \n",
       "| c52       | d20       | 3.044444  | 0.8094923 |  9        | \n",
       "| c52       | d21       | 1.470000  | 0.2110819 | 10        | \n",
       "\n",
       "\n"
      ],
      "text/plain": [
       "  Cult Date weight   sd        n \n",
       "1 c39  d16  3.255556 0.9824855  9\n",
       "2 c39  d20  2.722222 0.1394433  9\n",
       "3 c39  d21  2.740000 0.9834181 10\n",
       "4 c52  d16  2.260000 0.4452215 10\n",
       "5 c52  d20  3.044444 0.8094923  9\n",
       "6 c52  d21  1.470000 0.2110819 10"
      ]
     },
     "metadata": {},
     "output_type": "display_data"
    }
   ],
   "source": [
    "# How to deal with NA\n",
    "ddply(c1,c(\"Cult\",\"Date\"),summarise,weight=mean(HeadWt,na.rm=TRUE),sd=sd(HeadWt,na.rm=TRUE),n=sum(!is.na(HeadWt)))"
   ]
  },
  {
   "cell_type": "code",
   "execution_count": 68,
   "metadata": {},
   "outputs": [
    {
     "name": "stderr",
     "output_type": "stream",
     "text": [
      "`stat_bin()` using `bins = 30`. Pick better value with `binwidth`.\n"
     ]
    },
    {
     "data": {},
     "metadata": {},
     "output_type": "display_data"
    },
    {
     "data": {
      "image/png": "[encoded data removed]",
      "text/plain": [
       "plot without title"
      ]
     },
     "metadata": {},
     "output_type": "display_data"
    }
   ],
   "source": [
    "# histogram with color\n",
    "library(MASS)\n",
    "ggplot(birthwt,aes(x=bwt))+geom_histogram(fill=\"red\",color=\"black\")"
   ]
  },
  {
   "cell_type": "code",
   "execution_count": 69,
   "metadata": {},
   "outputs": [
    {
     "data": {},
     "metadata": {},
     "output_type": "display_data"
    },
    {
     "data": {
      "image/png": "[encoded data removed]",
      "text/plain": [
       "plot without title"
      ]
     },
     "metadata": {},
     "output_type": "display_data"
    }
   ],
   "source": [
    "#scatterplot with color\n",
    "ggplot(mtcars,aes(x=wt,y=mpg))+geom_point(colour=\"red\")"
   ]
  },
  {
   "cell_type": "code",
   "execution_count": 73,
   "metadata": {},
   "outputs": [
    {
     "data": {},
     "metadata": {},
     "output_type": "display_data"
    },
    {
     "data": {
      "image/png": "[encoded data removed]",
      "text/plain": [
       "plot without title"
      ]
     },
     "metadata": {},
     "output_type": "display_data"
    }
   ],
   "source": [
    "#mapping variables to color\n",
    "library(gcookbook)\n",
    "ggplot(cabbage_exp,aes(x=Date,y=Weight,fill=Cultivar))+geom_bar(position=\"dodge\",stat=\"identity\",colour=\"black\")"
   ]
  },
  {
   "cell_type": "code",
   "execution_count": 74,
   "metadata": {},
   "outputs": [
    {
     "data": {},
     "metadata": {},
     "output_type": "display_data"
    },
    {
     "data": {
      "image/png": "[encoded data removed]",
      "text/plain": [
       "plot without title"
      ]
     },
     "metadata": {},
     "output_type": "display_data"
    }
   ],
   "source": [
    "# scatterplot with gradient\n",
    "ggplot(mtcars,aes(x=wt,y=mpg,colour=cyl))+geom_point()"
   ]
  },
  {
   "cell_type": "code",
   "execution_count": 76,
   "metadata": {},
   "outputs": [
    {
     "data": {},
     "metadata": {},
     "output_type": "display_data"
    },
    {
     "data": {
      "image/png": "[encoded data removed]",
      "text/plain": [
       "plot without title"
      ]
     },
     "metadata": {},
     "output_type": "display_data"
    }
   ],
   "source": [
    "ggplot(mtcars,aes(x=wt,y=mpg,colour=factor(cyl)))+geom_point()"
   ]
  },
  {
   "cell_type": "code",
   "execution_count": 77,
   "metadata": {},
   "outputs": [
    {
     "data": {},
     "metadata": {},
     "output_type": "display_data"
    },
    {
     "data": {
      "image/png": "[encoded data removed]",
      "text/plain": [
       "plot without title"
      ]
     },
     "metadata": {},
     "output_type": "display_data"
    }
   ],
   "source": [
    "ggplot(uspopage,aes(x=Year,y=Thousands,fill=AgeGroup))+geom_area()"
   ]
  },
  {
   "cell_type": "code",
   "execution_count": 78,
   "metadata": {},
   "outputs": [
    {
     "data": {},
     "metadata": {},
     "output_type": "display_data"
    },
    {
     "data": {
      "image/png": "[encoded data removed]",
      "text/plain": [
       "plot without title"
      ]
     },
     "metadata": {},
     "output_type": "display_data"
    }
   ],
   "source": [
    "ggplot(uspopage,aes(x=Year,y=Thousands,fill=AgeGroup))+geom_area()+scale_fill_brewer()"
   ]
  },
  {
   "cell_type": "code",
   "execution_count": 80,
   "metadata": {},
   "outputs": [
    {
     "data": {
      "text/html": [
       "<table>\n",
       "<thead><tr><th scope=col>Source</th><th scope=col>Year</th><th scope=col>Anomaly1y</th><th scope=col>Anomaly5y</th><th scope=col>Anomaly10y</th><th scope=col>Unc10y</th><th scope=col>valence</th></tr></thead>\n",
       "<tbody>\n",
       "\t<tr><td>Berkeley</td><td>1800    </td><td>NA      </td><td>NA      </td><td>-0.435  </td><td>0.505   </td><td>neg     </td></tr>\n",
       "\t<tr><td>Berkeley</td><td>1801    </td><td>NA      </td><td>NA      </td><td>-0.453  </td><td>0.493   </td><td>neg     </td></tr>\n",
       "\t<tr><td>Berkeley</td><td>1802    </td><td>NA      </td><td>NA      </td><td>-0.460  </td><td>0.486   </td><td>neg     </td></tr>\n",
       "\t<tr><td>Berkeley</td><td>1803    </td><td>NA      </td><td>NA      </td><td>-0.493  </td><td>0.489   </td><td>neg     </td></tr>\n",
       "\t<tr><td>Berkeley</td><td>1804    </td><td>NA      </td><td>NA      </td><td>-0.536  </td><td>0.483   </td><td>neg     </td></tr>\n",
       "\t<tr><td>Berkeley</td><td>1805    </td><td>NA      </td><td>NA      </td><td>-0.541  </td><td>0.475   </td><td>neg     </td></tr>\n",
       "\t<tr><td>Berkeley</td><td>1806    </td><td>NA      </td><td>NA      </td><td>-0.590  </td><td>0.468   </td><td>neg     </td></tr>\n",
       "\t<tr><td>Berkeley</td><td>1807    </td><td>NA      </td><td>NA      </td><td>-0.695  </td><td>0.461   </td><td>neg     </td></tr>\n",
       "\t<tr><td>Berkeley</td><td>1808    </td><td>NA      </td><td>NA      </td><td>-0.763  </td><td>0.453   </td><td>neg     </td></tr>\n",
       "\t<tr><td>Berkeley</td><td>1809    </td><td>NA      </td><td>NA      </td><td>-0.818  </td><td>0.451   </td><td>neg     </td></tr>\n",
       "\t<tr><td>Berkeley</td><td>1810    </td><td>NA      </td><td>NA      </td><td>-0.842  </td><td>0.437   </td><td>neg     </td></tr>\n",
       "\t<tr><td>Berkeley</td><td>1811    </td><td>NA      </td><td>NA      </td><td>-0.912  </td><td>0.406   </td><td>neg     </td></tr>\n",
       "\t<tr><td>Berkeley</td><td>1812    </td><td>NA      </td><td>NA      </td><td>-0.963  </td><td>0.395   </td><td>neg     </td></tr>\n",
       "\t<tr><td>Berkeley</td><td>1813    </td><td>NA      </td><td>NA      </td><td>-1.015  </td><td>0.389   </td><td>neg     </td></tr>\n",
       "\t<tr><td>Berkeley</td><td>1814    </td><td>NA      </td><td>NA      </td><td>-0.949  </td><td>0.369   </td><td>neg     </td></tr>\n",
       "\t<tr><td>Berkeley</td><td>1815    </td><td>NA      </td><td>NA      </td><td>-0.935  </td><td>0.368   </td><td>neg     </td></tr>\n",
       "\t<tr><td>Berkeley</td><td>1816    </td><td>NA      </td><td>NA      </td><td>-0.918  </td><td>0.361   </td><td>neg     </td></tr>\n",
       "\t<tr><td>Berkeley</td><td>1817    </td><td>NA      </td><td>NA      </td><td>-0.802  </td><td>0.330   </td><td>neg     </td></tr>\n",
       "\t<tr><td>Berkeley</td><td>1818    </td><td>NA      </td><td>NA      </td><td>-0.743  </td><td>0.349   </td><td>neg     </td></tr>\n",
       "\t<tr><td>Berkeley</td><td>1819    </td><td>NA      </td><td>NA      </td><td>-0.703  </td><td>0.382   </td><td>neg     </td></tr>\n",
       "\t<tr><td>Berkeley</td><td>1820    </td><td>NA      </td><td>NA      </td><td>-0.625  </td><td>0.395   </td><td>neg     </td></tr>\n",
       "\t<tr><td>Berkeley</td><td>1821    </td><td>NA      </td><td>NA      </td><td>-0.527  </td><td>0.363   </td><td>neg     </td></tr>\n",
       "\t<tr><td>Berkeley</td><td>1822    </td><td>NA      </td><td>NA      </td><td>-0.392  </td><td>0.339   </td><td>neg     </td></tr>\n",
       "\t<tr><td>Berkeley</td><td>1823    </td><td>NA      </td><td>NA      </td><td>-0.332  </td><td>0.351   </td><td>neg     </td></tr>\n",
       "\t<tr><td>Berkeley</td><td>1824    </td><td>NA      </td><td>NA      </td><td>-0.321  </td><td>0.343   </td><td>neg     </td></tr>\n",
       "\t<tr><td>Berkeley</td><td>1825    </td><td>NA      </td><td>NA      </td><td>-0.278  </td><td>0.344   </td><td>neg     </td></tr>\n",
       "\t<tr><td>Berkeley</td><td>1826    </td><td>NA      </td><td>NA      </td><td>-0.270  </td><td>0.295   </td><td>neg     </td></tr>\n",
       "\t<tr><td>Berkeley</td><td>1827    </td><td>NA      </td><td>NA      </td><td>-0.378  </td><td>0.284   </td><td>neg     </td></tr>\n",
       "\t<tr><td>Berkeley</td><td>1828    </td><td>NA      </td><td>NA      </td><td>-0.398  </td><td>0.254   </td><td>neg     </td></tr>\n",
       "\t<tr><td>Berkeley</td><td>1829    </td><td>NA      </td><td>NA      </td><td>-0.388  </td><td>0.243   </td><td>neg     </td></tr>\n",
       "\t<tr><td>...</td><td>...</td><td>...</td><td>...</td><td>...</td><td>...</td><td>...</td></tr>\n",
       "\t<tr><td>Berkeley</td><td>1975    </td><td>NA      </td><td>NA      </td><td>0.068   </td><td>0.012   </td><td>pos     </td></tr>\n",
       "\t<tr><td>Berkeley</td><td>1976    </td><td>NA      </td><td>NA      </td><td>0.128   </td><td>0.011   </td><td>pos     </td></tr>\n",
       "\t<tr><td>Berkeley</td><td>1977    </td><td>NA      </td><td>NA      </td><td>0.158   </td><td>0.012   </td><td>pos     </td></tr>\n",
       "\t<tr><td>Berkeley</td><td>1978    </td><td>NA      </td><td>NA      </td><td>0.167   </td><td>0.013   </td><td>pos     </td></tr>\n",
       "\t<tr><td>Berkeley</td><td>1979    </td><td>NA      </td><td>NA      </td><td>0.193   </td><td>0.012   </td><td>pos     </td></tr>\n",
       "\t<tr><td>Berkeley</td><td>1980    </td><td>NA      </td><td>NA      </td><td>0.186   </td><td>0.016   </td><td>pos     </td></tr>\n",
       "\t<tr><td>Berkeley</td><td>1981    </td><td>NA      </td><td>NA      </td><td>0.217   </td><td>0.016   </td><td>pos     </td></tr>\n",
       "\t<tr><td>Berkeley</td><td>1982    </td><td>NA      </td><td>NA      </td><td>0.235   </td><td>0.014   </td><td>pos     </td></tr>\n",
       "\t<tr><td>Berkeley</td><td>1983    </td><td>NA      </td><td>NA      </td><td>0.270   </td><td>0.014   </td><td>pos     </td></tr>\n",
       "\t<tr><td>Berkeley</td><td>1984    </td><td>NA      </td><td>NA      </td><td>0.318   </td><td>0.014   </td><td>pos     </td></tr>\n",
       "\t<tr><td>Berkeley</td><td>1985    </td><td>NA      </td><td>NA      </td><td>0.344   </td><td>0.013   </td><td>pos     </td></tr>\n",
       "\t<tr><td>Berkeley</td><td>1986    </td><td>NA      </td><td>NA      </td><td>0.352   </td><td>0.012   </td><td>pos     </td></tr>\n",
       "\t<tr><td>Berkeley</td><td>1987    </td><td>NA      </td><td>NA      </td><td>0.380   </td><td>0.011   </td><td>pos     </td></tr>\n",
       "\t<tr><td>Berkeley</td><td>1988    </td><td>NA      </td><td>NA      </td><td>0.370   </td><td>0.013   </td><td>pos     </td></tr>\n",
       "\t<tr><td>Berkeley</td><td>1989    </td><td>NA      </td><td>NA      </td><td>0.366   </td><td>0.017   </td><td>pos     </td></tr>\n",
       "\t<tr><td>Berkeley</td><td>1990    </td><td>NA      </td><td>NA      </td><td>0.433   </td><td>0.019   </td><td>pos     </td></tr>\n",
       "\t<tr><td>Berkeley</td><td>1991    </td><td>NA      </td><td>NA      </td><td>0.467   </td><td>0.018   </td><td>pos     </td></tr>\n",
       "\t<tr><td>Berkeley</td><td>1992    </td><td>NA      </td><td>NA      </td><td>0.496   </td><td>0.017   </td><td>pos     </td></tr>\n",
       "\t<tr><td>Berkeley</td><td>1993    </td><td>NA      </td><td>NA      </td><td>0.526   </td><td>0.019   </td><td>pos     </td></tr>\n",
       "\t<tr><td>Berkeley</td><td>1994    </td><td>NA      </td><td>NA      </td><td>0.554   </td><td>0.020   </td><td>pos     </td></tr>\n",
       "\t<tr><td>Berkeley</td><td>1995    </td><td>NA      </td><td>NA      </td><td>0.563   </td><td>0.019   </td><td>pos     </td></tr>\n",
       "\t<tr><td>Berkeley</td><td>1996    </td><td>NA      </td><td>NA      </td><td>0.565   </td><td>0.022   </td><td>pos     </td></tr>\n",
       "\t<tr><td>Berkeley</td><td>1997    </td><td>NA      </td><td>NA      </td><td>0.618   </td><td>0.022   </td><td>pos     </td></tr>\n",
       "\t<tr><td>Berkeley</td><td>1998    </td><td>NA      </td><td>NA      </td><td>0.680   </td><td>0.023   </td><td>pos     </td></tr>\n",
       "\t<tr><td>Berkeley</td><td>1999    </td><td>NA      </td><td>NA      </td><td>0.734   </td><td>0.025   </td><td>pos     </td></tr>\n",
       "\t<tr><td>Berkeley</td><td>2000    </td><td>NA      </td><td>NA      </td><td>0.748   </td><td>0.026   </td><td>pos     </td></tr>\n",
       "\t<tr><td>Berkeley</td><td>2001    </td><td>NA      </td><td>NA      </td><td>0.793   </td><td>0.027   </td><td>pos     </td></tr>\n",
       "\t<tr><td>Berkeley</td><td>2002    </td><td>NA      </td><td>NA      </td><td>0.856   </td><td>0.028   </td><td>pos     </td></tr>\n",
       "\t<tr><td>Berkeley</td><td>2003    </td><td>NA      </td><td>NA      </td><td>0.869   </td><td>0.028   </td><td>pos     </td></tr>\n",
       "\t<tr><td>Berkeley</td><td>2004    </td><td>NA      </td><td>NA      </td><td>0.884   </td><td>0.029   </td><td>pos     </td></tr>\n",
       "</tbody>\n",
       "</table>\n"
      ],
      "text/latex": [
       "\\begin{tabular}{r|lllllll}\n",
       " Source & Year & Anomaly1y & Anomaly5y & Anomaly10y & Unc10y & valence\\\\\n",
       "\\hline\n",
       "\t Berkeley & 1800     & NA       & NA       & -0.435   & 0.505    & neg     \\\\\n",
       "\t Berkeley & 1801     & NA       & NA       & -0.453   & 0.493    & neg     \\\\\n",
       "\t Berkeley & 1802     & NA       & NA       & -0.460   & 0.486    & neg     \\\\\n",
       "\t Berkeley & 1803     & NA       & NA       & -0.493   & 0.489    & neg     \\\\\n",
       "\t Berkeley & 1804     & NA       & NA       & -0.536   & 0.483    & neg     \\\\\n",
       "\t Berkeley & 1805     & NA       & NA       & -0.541   & 0.475    & neg     \\\\\n",
       "\t Berkeley & 1806     & NA       & NA       & -0.590   & 0.468    & neg     \\\\\n",
       "\t Berkeley & 1807     & NA       & NA       & -0.695   & 0.461    & neg     \\\\\n",
       "\t Berkeley & 1808     & NA       & NA       & -0.763   & 0.453    & neg     \\\\\n",
       "\t Berkeley & 1809     & NA       & NA       & -0.818   & 0.451    & neg     \\\\\n",
       "\t Berkeley & 1810     & NA       & NA       & -0.842   & 0.437    & neg     \\\\\n",
       "\t Berkeley & 1811     & NA       & NA       & -0.912   & 0.406    & neg     \\\\\n",
       "\t Berkeley & 1812     & NA       & NA       & -0.963   & 0.395    & neg     \\\\\n",
       "\t Berkeley & 1813     & NA       & NA       & -1.015   & 0.389    & neg     \\\\\n",
       "\t Berkeley & 1814     & NA       & NA       & -0.949   & 0.369    & neg     \\\\\n",
       "\t Berkeley & 1815     & NA       & NA       & -0.935   & 0.368    & neg     \\\\\n",
       "\t Berkeley & 1816     & NA       & NA       & -0.918   & 0.361    & neg     \\\\\n",
       "\t Berkeley & 1817     & NA       & NA       & -0.802   & 0.330    & neg     \\\\\n",
       "\t Berkeley & 1818     & NA       & NA       & -0.743   & 0.349    & neg     \\\\\n",
       "\t Berkeley & 1819     & NA       & NA       & -0.703   & 0.382    & neg     \\\\\n",
       "\t Berkeley & 1820     & NA       & NA       & -0.625   & 0.395    & neg     \\\\\n",
       "\t Berkeley & 1821     & NA       & NA       & -0.527   & 0.363    & neg     \\\\\n",
       "\t Berkeley & 1822     & NA       & NA       & -0.392   & 0.339    & neg     \\\\\n",
       "\t Berkeley & 1823     & NA       & NA       & -0.332   & 0.351    & neg     \\\\\n",
       "\t Berkeley & 1824     & NA       & NA       & -0.321   & 0.343    & neg     \\\\\n",
       "\t Berkeley & 1825     & NA       & NA       & -0.278   & 0.344    & neg     \\\\\n",
       "\t Berkeley & 1826     & NA       & NA       & -0.270   & 0.295    & neg     \\\\\n",
       "\t Berkeley & 1827     & NA       & NA       & -0.378   & 0.284    & neg     \\\\\n",
       "\t Berkeley & 1828     & NA       & NA       & -0.398   & 0.254    & neg     \\\\\n",
       "\t Berkeley & 1829     & NA       & NA       & -0.388   & 0.243    & neg     \\\\\n",
       "\t ... & ... & ... & ... & ... & ... & ...\\\\\n",
       "\t Berkeley & 1975     & NA       & NA       & 0.068    & 0.012    & pos     \\\\\n",
       "\t Berkeley & 1976     & NA       & NA       & 0.128    & 0.011    & pos     \\\\\n",
       "\t Berkeley & 1977     & NA       & NA       & 0.158    & 0.012    & pos     \\\\\n",
       "\t Berkeley & 1978     & NA       & NA       & 0.167    & 0.013    & pos     \\\\\n",
       "\t Berkeley & 1979     & NA       & NA       & 0.193    & 0.012    & pos     \\\\\n",
       "\t Berkeley & 1980     & NA       & NA       & 0.186    & 0.016    & pos     \\\\\n",
       "\t Berkeley & 1981     & NA       & NA       & 0.217    & 0.016    & pos     \\\\\n",
       "\t Berkeley & 1982     & NA       & NA       & 0.235    & 0.014    & pos     \\\\\n",
       "\t Berkeley & 1983     & NA       & NA       & 0.270    & 0.014    & pos     \\\\\n",
       "\t Berkeley & 1984     & NA       & NA       & 0.318    & 0.014    & pos     \\\\\n",
       "\t Berkeley & 1985     & NA       & NA       & 0.344    & 0.013    & pos     \\\\\n",
       "\t Berkeley & 1986     & NA       & NA       & 0.352    & 0.012    & pos     \\\\\n",
       "\t Berkeley & 1987     & NA       & NA       & 0.380    & 0.011    & pos     \\\\\n",
       "\t Berkeley & 1988     & NA       & NA       & 0.370    & 0.013    & pos     \\\\\n",
       "\t Berkeley & 1989     & NA       & NA       & 0.366    & 0.017    & pos     \\\\\n",
       "\t Berkeley & 1990     & NA       & NA       & 0.433    & 0.019    & pos     \\\\\n",
       "\t Berkeley & 1991     & NA       & NA       & 0.467    & 0.018    & pos     \\\\\n",
       "\t Berkeley & 1992     & NA       & NA       & 0.496    & 0.017    & pos     \\\\\n",
       "\t Berkeley & 1993     & NA       & NA       & 0.526    & 0.019    & pos     \\\\\n",
       "\t Berkeley & 1994     & NA       & NA       & 0.554    & 0.020    & pos     \\\\\n",
       "\t Berkeley & 1995     & NA       & NA       & 0.563    & 0.019    & pos     \\\\\n",
       "\t Berkeley & 1996     & NA       & NA       & 0.565    & 0.022    & pos     \\\\\n",
       "\t Berkeley & 1997     & NA       & NA       & 0.618    & 0.022    & pos     \\\\\n",
       "\t Berkeley & 1998     & NA       & NA       & 0.680    & 0.023    & pos     \\\\\n",
       "\t Berkeley & 1999     & NA       & NA       & 0.734    & 0.025    & pos     \\\\\n",
       "\t Berkeley & 2000     & NA       & NA       & 0.748    & 0.026    & pos     \\\\\n",
       "\t Berkeley & 2001     & NA       & NA       & 0.793    & 0.027    & pos     \\\\\n",
       "\t Berkeley & 2002     & NA       & NA       & 0.856    & 0.028    & pos     \\\\\n",
       "\t Berkeley & 2003     & NA       & NA       & 0.869    & 0.028    & pos     \\\\\n",
       "\t Berkeley & 2004     & NA       & NA       & 0.884    & 0.029    & pos     \\\\\n",
       "\\end{tabular}\n"
      ],
      "text/markdown": [
       "\n",
       "Source | Year | Anomaly1y | Anomaly5y | Anomaly10y | Unc10y | valence | \n",
       "|---|---|---|---|---|---|---|---|---|---|---|---|---|---|---|---|---|---|---|---|---|---|---|---|---|---|---|---|---|---|---|---|---|---|---|---|---|---|---|---|---|---|---|---|---|---|---|---|---|---|---|---|---|---|---|---|---|---|---|---|---|\n",
       "| Berkeley | 1800     | NA       | NA       | -0.435   | 0.505    | neg      | \n",
       "| Berkeley | 1801     | NA       | NA       | -0.453   | 0.493    | neg      | \n",
       "| Berkeley | 1802     | NA       | NA       | -0.460   | 0.486    | neg      | \n",
       "| Berkeley | 1803     | NA       | NA       | -0.493   | 0.489    | neg      | \n",
       "| Berkeley | 1804     | NA       | NA       | -0.536   | 0.483    | neg      | \n",
       "| Berkeley | 1805     | NA       | NA       | -0.541   | 0.475    | neg      | \n",
       "| Berkeley | 1806     | NA       | NA       | -0.590   | 0.468    | neg      | \n",
       "| Berkeley | 1807     | NA       | NA       | -0.695   | 0.461    | neg      | \n",
       "| Berkeley | 1808     | NA       | NA       | -0.763   | 0.453    | neg      | \n",
       "| Berkeley | 1809     | NA       | NA       | -0.818   | 0.451    | neg      | \n",
       "| Berkeley | 1810     | NA       | NA       | -0.842   | 0.437    | neg      | \n",
       "| Berkeley | 1811     | NA       | NA       | -0.912   | 0.406    | neg      | \n",
       "| Berkeley | 1812     | NA       | NA       | -0.963   | 0.395    | neg      | \n",
       "| Berkeley | 1813     | NA       | NA       | -1.015   | 0.389    | neg      | \n",
       "| Berkeley | 1814     | NA       | NA       | -0.949   | 0.369    | neg      | \n",
       "| Berkeley | 1815     | NA       | NA       | -0.935   | 0.368    | neg      | \n",
       "| Berkeley | 1816     | NA       | NA       | -0.918   | 0.361    | neg      | \n",
       "| Berkeley | 1817     | NA       | NA       | -0.802   | 0.330    | neg      | \n",
       "| Berkeley | 1818     | NA       | NA       | -0.743   | 0.349    | neg      | \n",
       "| Berkeley | 1819     | NA       | NA       | -0.703   | 0.382    | neg      | \n",
       "| Berkeley | 1820     | NA       | NA       | -0.625   | 0.395    | neg      | \n",
       "| Berkeley | 1821     | NA       | NA       | -0.527   | 0.363    | neg      | \n",
       "| Berkeley | 1822     | NA       | NA       | -0.392   | 0.339    | neg      | \n",
       "| Berkeley | 1823     | NA       | NA       | -0.332   | 0.351    | neg      | \n",
       "| Berkeley | 1824     | NA       | NA       | -0.321   | 0.343    | neg      | \n",
       "| Berkeley | 1825     | NA       | NA       | -0.278   | 0.344    | neg      | \n",
       "| Berkeley | 1826     | NA       | NA       | -0.270   | 0.295    | neg      | \n",
       "| Berkeley | 1827     | NA       | NA       | -0.378   | 0.284    | neg      | \n",
       "| Berkeley | 1828     | NA       | NA       | -0.398   | 0.254    | neg      | \n",
       "| Berkeley | 1829     | NA       | NA       | -0.388   | 0.243    | neg      | \n",
       "| ... | ... | ... | ... | ... | ... | ... | \n",
       "| Berkeley | 1975     | NA       | NA       | 0.068    | 0.012    | pos      | \n",
       "| Berkeley | 1976     | NA       | NA       | 0.128    | 0.011    | pos      | \n",
       "| Berkeley | 1977     | NA       | NA       | 0.158    | 0.012    | pos      | \n",
       "| Berkeley | 1978     | NA       | NA       | 0.167    | 0.013    | pos      | \n",
       "| Berkeley | 1979     | NA       | NA       | 0.193    | 0.012    | pos      | \n",
       "| Berkeley | 1980     | NA       | NA       | 0.186    | 0.016    | pos      | \n",
       "| Berkeley | 1981     | NA       | NA       | 0.217    | 0.016    | pos      | \n",
       "| Berkeley | 1982     | NA       | NA       | 0.235    | 0.014    | pos      | \n",
       "| Berkeley | 1983     | NA       | NA       | 0.270    | 0.014    | pos      | \n",
       "| Berkeley | 1984     | NA       | NA       | 0.318    | 0.014    | pos      | \n",
       "| Berkeley | 1985     | NA       | NA       | 0.344    | 0.013    | pos      | \n",
       "| Berkeley | 1986     | NA       | NA       | 0.352    | 0.012    | pos      | \n",
       "| Berkeley | 1987     | NA       | NA       | 0.380    | 0.011    | pos      | \n",
       "| Berkeley | 1988     | NA       | NA       | 0.370    | 0.013    | pos      | \n",
       "| Berkeley | 1989     | NA       | NA       | 0.366    | 0.017    | pos      | \n",
       "| Berkeley | 1990     | NA       | NA       | 0.433    | 0.019    | pos      | \n",
       "| Berkeley | 1991     | NA       | NA       | 0.467    | 0.018    | pos      | \n",
       "| Berkeley | 1992     | NA       | NA       | 0.496    | 0.017    | pos      | \n",
       "| Berkeley | 1993     | NA       | NA       | 0.526    | 0.019    | pos      | \n",
       "| Berkeley | 1994     | NA       | NA       | 0.554    | 0.020    | pos      | \n",
       "| Berkeley | 1995     | NA       | NA       | 0.563    | 0.019    | pos      | \n",
       "| Berkeley | 1996     | NA       | NA       | 0.565    | 0.022    | pos      | \n",
       "| Berkeley | 1997     | NA       | NA       | 0.618    | 0.022    | pos      | \n",
       "| Berkeley | 1998     | NA       | NA       | 0.680    | 0.023    | pos      | \n",
       "| Berkeley | 1999     | NA       | NA       | 0.734    | 0.025    | pos      | \n",
       "| Berkeley | 2000     | NA       | NA       | 0.748    | 0.026    | pos      | \n",
       "| Berkeley | 2001     | NA       | NA       | 0.793    | 0.027    | pos      | \n",
       "| Berkeley | 2002     | NA       | NA       | 0.856    | 0.028    | pos      | \n",
       "| Berkeley | 2003     | NA       | NA       | 0.869    | 0.028    | pos      | \n",
       "| Berkeley | 2004     | NA       | NA       | 0.884    | 0.029    | pos      | \n",
       "\n",
       "\n"
      ],
      "text/plain": [
       "    Source   Year Anomaly1y Anomaly5y Anomaly10y Unc10y valence\n",
       "1   Berkeley 1800 NA        NA        -0.435     0.505  neg    \n",
       "2   Berkeley 1801 NA        NA        -0.453     0.493  neg    \n",
       "3   Berkeley 1802 NA        NA        -0.460     0.486  neg    \n",
       "4   Berkeley 1803 NA        NA        -0.493     0.489  neg    \n",
       "5   Berkeley 1804 NA        NA        -0.536     0.483  neg    \n",
       "6   Berkeley 1805 NA        NA        -0.541     0.475  neg    \n",
       "7   Berkeley 1806 NA        NA        -0.590     0.468  neg    \n",
       "8   Berkeley 1807 NA        NA        -0.695     0.461  neg    \n",
       "9   Berkeley 1808 NA        NA        -0.763     0.453  neg    \n",
       "10  Berkeley 1809 NA        NA        -0.818     0.451  neg    \n",
       "11  Berkeley 1810 NA        NA        -0.842     0.437  neg    \n",
       "12  Berkeley 1811 NA        NA        -0.912     0.406  neg    \n",
       "13  Berkeley 1812 NA        NA        -0.963     0.395  neg    \n",
       "14  Berkeley 1813 NA        NA        -1.015     0.389  neg    \n",
       "15  Berkeley 1814 NA        NA        -0.949     0.369  neg    \n",
       "16  Berkeley 1815 NA        NA        -0.935     0.368  neg    \n",
       "17  Berkeley 1816 NA        NA        -0.918     0.361  neg    \n",
       "18  Berkeley 1817 NA        NA        -0.802     0.330  neg    \n",
       "19  Berkeley 1818 NA        NA        -0.743     0.349  neg    \n",
       "20  Berkeley 1819 NA        NA        -0.703     0.382  neg    \n",
       "21  Berkeley 1820 NA        NA        -0.625     0.395  neg    \n",
       "22  Berkeley 1821 NA        NA        -0.527     0.363  neg    \n",
       "23  Berkeley 1822 NA        NA        -0.392     0.339  neg    \n",
       "24  Berkeley 1823 NA        NA        -0.332     0.351  neg    \n",
       "25  Berkeley 1824 NA        NA        -0.321     0.343  neg    \n",
       "26  Berkeley 1825 NA        NA        -0.278     0.344  neg    \n",
       "27  Berkeley 1826 NA        NA        -0.270     0.295  neg    \n",
       "28  Berkeley 1827 NA        NA        -0.378     0.284  neg    \n",
       "29  Berkeley 1828 NA        NA        -0.398     0.254  neg    \n",
       "30  Berkeley 1829 NA        NA        -0.388     0.243  neg    \n",
       "... ...      ...  ...       ...       ...        ...    ...    \n",
       "176 Berkeley 1975 NA        NA        0.068      0.012  pos    \n",
       "177 Berkeley 1976 NA        NA        0.128      0.011  pos    \n",
       "178 Berkeley 1977 NA        NA        0.158      0.012  pos    \n",
       "179 Berkeley 1978 NA        NA        0.167      0.013  pos    \n",
       "180 Berkeley 1979 NA        NA        0.193      0.012  pos    \n",
       "181 Berkeley 1980 NA        NA        0.186      0.016  pos    \n",
       "182 Berkeley 1981 NA        NA        0.217      0.016  pos    \n",
       "183 Berkeley 1982 NA        NA        0.235      0.014  pos    \n",
       "184 Berkeley 1983 NA        NA        0.270      0.014  pos    \n",
       "185 Berkeley 1984 NA        NA        0.318      0.014  pos    \n",
       "186 Berkeley 1985 NA        NA        0.344      0.013  pos    \n",
       "187 Berkeley 1986 NA        NA        0.352      0.012  pos    \n",
       "188 Berkeley 1987 NA        NA        0.380      0.011  pos    \n",
       "189 Berkeley 1988 NA        NA        0.370      0.013  pos    \n",
       "190 Berkeley 1989 NA        NA        0.366      0.017  pos    \n",
       "191 Berkeley 1990 NA        NA        0.433      0.019  pos    \n",
       "192 Berkeley 1991 NA        NA        0.467      0.018  pos    \n",
       "193 Berkeley 1992 NA        NA        0.496      0.017  pos    \n",
       "194 Berkeley 1993 NA        NA        0.526      0.019  pos    \n",
       "195 Berkeley 1994 NA        NA        0.554      0.020  pos    \n",
       "196 Berkeley 1995 NA        NA        0.563      0.019  pos    \n",
       "197 Berkeley 1996 NA        NA        0.565      0.022  pos    \n",
       "198 Berkeley 1997 NA        NA        0.618      0.022  pos    \n",
       "199 Berkeley 1998 NA        NA        0.680      0.023  pos    \n",
       "200 Berkeley 1999 NA        NA        0.734      0.025  pos    \n",
       "201 Berkeley 2000 NA        NA        0.748      0.026  pos    \n",
       "202 Berkeley 2001 NA        NA        0.793      0.027  pos    \n",
       "203 Berkeley 2002 NA        NA        0.856      0.028  pos    \n",
       "204 Berkeley 2003 NA        NA        0.869      0.028  pos    \n",
       "205 Berkeley 2004 NA        NA        0.884      0.029  pos    "
      ]
     },
     "metadata": {},
     "output_type": "display_data"
    }
   ],
   "source": [
    "library(gcookbook)\n",
    "cb<-subset(climate,Source==\"Berkeley\")\n",
    "cb$valence[cb$Anomaly10y>=0]<-\"pos\"\n",
    "cb$valence[cb$Anomaly10y<0]<-\"neg\"\n",
    "cb"
   ]
  },
  {
   "cell_type": "code",
   "execution_count": 83,
   "metadata": {},
   "outputs": [
    {
     "data": {},
     "metadata": {},
     "output_type": "display_data"
    },
    {
     "data": {
      "image/png": "[encoded data removed]",
      "text/plain": [
       "plot without title"
      ]
     },
     "metadata": {},
     "output_type": "display_data"
    }
   ],
   "source": [
    "ggplot(cb,aes(x=Year,y=Anomaly10y))+geom_area(aes(fill=valence))+geom_line()+geom_hline(yintercept=0)"
   ]
  },
  {
   "cell_type": "code",
   "execution_count": 87,
   "metadata": {},
   "outputs": [
    {
     "data": {
      "text/html": [
       "<table>\n",
       "<thead><tr><th scope=col>manufacturer</th><th scope=col>model</th><th scope=col>displ</th><th scope=col>year</th><th scope=col>cyl</th><th scope=col>trans</th><th scope=col>drv</th><th scope=col>cty</th><th scope=col>hwy</th><th scope=col>fl</th><th scope=col>class</th></tr></thead>\n",
       "<tbody>\n",
       "\t<tr><td>audi      </td><td>a4        </td><td>1.8       </td><td>1999      </td><td>4         </td><td>auto(l5)  </td><td>f         </td><td>18        </td><td>29        </td><td>p         </td><td>compact   </td></tr>\n",
       "\t<tr><td>audi      </td><td>a4        </td><td>1.8       </td><td>1999      </td><td>4         </td><td>manual(m5)</td><td>f         </td><td>21        </td><td>29        </td><td>p         </td><td>compact   </td></tr>\n",
       "\t<tr><td>audi      </td><td>a4        </td><td>2.0       </td><td>2008      </td><td>4         </td><td>manual(m6)</td><td>f         </td><td>20        </td><td>31        </td><td>p         </td><td>compact   </td></tr>\n",
       "\t<tr><td>audi      </td><td>a4        </td><td>2.0       </td><td>2008      </td><td>4         </td><td>auto(av)  </td><td>f         </td><td>21        </td><td>30        </td><td>p         </td><td>compact   </td></tr>\n",
       "\t<tr><td>audi      </td><td>a4        </td><td>2.8       </td><td>1999      </td><td>6         </td><td>auto(l5)  </td><td>f         </td><td>16        </td><td>26        </td><td>p         </td><td>compact   </td></tr>\n",
       "\t<tr><td>audi      </td><td>a4        </td><td>2.8       </td><td>1999      </td><td>6         </td><td>manual(m5)</td><td>f         </td><td>18        </td><td>26        </td><td>p         </td><td>compact   </td></tr>\n",
       "</tbody>\n",
       "</table>\n"
      ],
      "text/latex": [
       "\\begin{tabular}{r|lllllllllll}\n",
       " manufacturer & model & displ & year & cyl & trans & drv & cty & hwy & fl & class\\\\\n",
       "\\hline\n",
       "\t audi       & a4         & 1.8        & 1999       & 4          & auto(l5)   & f          & 18         & 29         & p          & compact   \\\\\n",
       "\t audi       & a4         & 1.8        & 1999       & 4          & manual(m5) & f          & 21         & 29         & p          & compact   \\\\\n",
       "\t audi       & a4         & 2.0        & 2008       & 4          & manual(m6) & f          & 20         & 31         & p          & compact   \\\\\n",
       "\t audi       & a4         & 2.0        & 2008       & 4          & auto(av)   & f          & 21         & 30         & p          & compact   \\\\\n",
       "\t audi       & a4         & 2.8        & 1999       & 6          & auto(l5)   & f          & 16         & 26         & p          & compact   \\\\\n",
       "\t audi       & a4         & 2.8        & 1999       & 6          & manual(m5) & f          & 18         & 26         & p          & compact   \\\\\n",
       "\\end{tabular}\n"
      ],
      "text/markdown": [
       "\n",
       "manufacturer | model | displ | year | cyl | trans | drv | cty | hwy | fl | class | \n",
       "|---|---|---|---|---|---|\n",
       "| audi       | a4         | 1.8        | 1999       | 4          | auto(l5)   | f          | 18         | 29         | p          | compact    | \n",
       "| audi       | a4         | 1.8        | 1999       | 4          | manual(m5) | f          | 21         | 29         | p          | compact    | \n",
       "| audi       | a4         | 2.0        | 2008       | 4          | manual(m6) | f          | 20         | 31         | p          | compact    | \n",
       "| audi       | a4         | 2.0        | 2008       | 4          | auto(av)   | f          | 21         | 30         | p          | compact    | \n",
       "| audi       | a4         | 2.8        | 1999       | 6          | auto(l5)   | f          | 16         | 26         | p          | compact    | \n",
       "| audi       | a4         | 2.8        | 1999       | 6          | manual(m5) | f          | 18         | 26         | p          | compact    | \n",
       "\n",
       "\n"
      ],
      "text/plain": [
       "  manufacturer model displ year cyl trans      drv cty hwy fl class  \n",
       "1 audi         a4    1.8   1999 4   auto(l5)   f   18  29  p  compact\n",
       "2 audi         a4    1.8   1999 4   manual(m5) f   21  29  p  compact\n",
       "3 audi         a4    2.0   2008 4   manual(m6) f   20  31  p  compact\n",
       "4 audi         a4    2.0   2008 4   auto(av)   f   21  30  p  compact\n",
       "5 audi         a4    2.8   1999 6   auto(l5)   f   16  26  p  compact\n",
       "6 audi         a4    2.8   1999 6   manual(m5) f   18  26  p  compact"
      ]
     },
     "metadata": {},
     "output_type": "display_data"
    },
    {
     "data": {
      "text/html": [
       "<table>\n",
       "<thead><tr><th scope=col>manufacturer</th><th scope=col>model</th><th scope=col>displ</th><th scope=col>year</th><th scope=col>cyl</th><th scope=col>trans</th><th scope=col>drv</th><th scope=col>cty</th><th scope=col>hwy</th><th scope=col>fl</th><th scope=col>class</th></tr></thead>\n",
       "<tbody>\n",
       "\t<tr><td>audi      </td><td>a4        </td><td>1.8       </td><td>1999      </td><td>4         </td><td>auto(l5)  </td><td>f         </td><td>18        </td><td>29        </td><td>p         </td><td>compact   </td></tr>\n",
       "\t<tr><td>audi      </td><td>a4        </td><td>1.8       </td><td>1999      </td><td>4         </td><td>manual(m5)</td><td>f         </td><td>21        </td><td>29        </td><td>p         </td><td>compact   </td></tr>\n",
       "\t<tr><td>audi      </td><td>a4        </td><td>2.0       </td><td>2008      </td><td>4         </td><td>manual(m6)</td><td>f         </td><td>20        </td><td>31        </td><td>p         </td><td>compact   </td></tr>\n",
       "\t<tr><td>audi      </td><td>a4        </td><td>2.0       </td><td>2008      </td><td>4         </td><td>auto(av)  </td><td>f         </td><td>21        </td><td>30        </td><td>p         </td><td>compact   </td></tr>\n",
       "\t<tr><td>audi      </td><td>a4        </td><td>2.8       </td><td>1999      </td><td>6         </td><td>auto(l5)  </td><td>f         </td><td>16        </td><td>26        </td><td>p         </td><td>compact   </td></tr>\n",
       "\t<tr><td>audi      </td><td>a4        </td><td>2.8       </td><td>1999      </td><td>6         </td><td>manual(m5)</td><td>f         </td><td>18        </td><td>26        </td><td>p         </td><td>compact   </td></tr>\n",
       "</tbody>\n",
       "</table>\n"
      ],
      "text/latex": [
       "\\begin{tabular}{r|lllllllllll}\n",
       " manufacturer & model & displ & year & cyl & trans & drv & cty & hwy & fl & class\\\\\n",
       "\\hline\n",
       "\t audi       & a4         & 1.8        & 1999       & 4          & auto(l5)   & f          & 18         & 29         & p          & compact   \\\\\n",
       "\t audi       & a4         & 1.8        & 1999       & 4          & manual(m5) & f          & 21         & 29         & p          & compact   \\\\\n",
       "\t audi       & a4         & 2.0        & 2008       & 4          & manual(m6) & f          & 20         & 31         & p          & compact   \\\\\n",
       "\t audi       & a4         & 2.0        & 2008       & 4          & auto(av)   & f          & 21         & 30         & p          & compact   \\\\\n",
       "\t audi       & a4         & 2.8        & 1999       & 6          & auto(l5)   & f          & 16         & 26         & p          & compact   \\\\\n",
       "\t audi       & a4         & 2.8        & 1999       & 6          & manual(m5) & f          & 18         & 26         & p          & compact   \\\\\n",
       "\\end{tabular}\n"
      ],
      "text/markdown": [
       "\n",
       "manufacturer | model | displ | year | cyl | trans | drv | cty | hwy | fl | class | \n",
       "|---|---|---|---|---|---|\n",
       "| audi       | a4         | 1.8        | 1999       | 4          | auto(l5)   | f          | 18         | 29         | p          | compact    | \n",
       "| audi       | a4         | 1.8        | 1999       | 4          | manual(m5) | f          | 21         | 29         | p          | compact    | \n",
       "| audi       | a4         | 2.0        | 2008       | 4          | manual(m6) | f          | 20         | 31         | p          | compact    | \n",
       "| audi       | a4         | 2.0        | 2008       | 4          | auto(av)   | f          | 21         | 30         | p          | compact    | \n",
       "| audi       | a4         | 2.8        | 1999       | 6          | auto(l5)   | f          | 16         | 26         | p          | compact    | \n",
       "| audi       | a4         | 2.8        | 1999       | 6          | manual(m5) | f          | 18         | 26         | p          | compact    | \n",
       "\n",
       "\n"
      ],
      "text/plain": [
       "  manufacturer model displ year cyl trans      drv cty hwy fl class  \n",
       "1 audi         a4    1.8   1999 4   auto(l5)   f   18  29  p  compact\n",
       "2 audi         a4    1.8   1999 4   manual(m5) f   21  29  p  compact\n",
       "3 audi         a4    2.0   2008 4   manual(m6) f   20  31  p  compact\n",
       "4 audi         a4    2.0   2008 4   auto(av)   f   21  30  p  compact\n",
       "5 audi         a4    2.8   1999 6   auto(l5)   f   16  26  p  compact\n",
       "6 audi         a4    2.8   1999 6   manual(m5) f   18  26  p  compact"
      ]
     },
     "metadata": {},
     "output_type": "display_data"
    },
    {
     "data": {},
     "metadata": {},
     "output_type": "display_data"
    },
    {
     "data": {
      "image/png": "[encoded data removed]",
      "text/plain": [
       "plot without title"
      ]
     },
     "metadata": {},
     "output_type": "display_data"
    }
   ],
   "source": [
    "# parsing text\n",
    "mpg3<-mpg\n",
    "head(mpg3)\n",
    "levels(mpg3$drv)[levels(mpg3$drv)==\"4\"]<- \"4^{wd}\"\n",
    "levels(mpg3$drv)[levels(mpg3$drv)==\"f\"]<-\"- Front %.% e^{pi*i}\"\n",
    "levels(mpg3$drv)[levels(mpg3$drv)==\"r\"]<-\"4^{wd} - Front\"\n",
    "head(mpg3)\n",
    "ggplot(mpg3,aes(x=displ,y=hwy))+geom_point()+facet_grid(drv~.,labeller=label_parsed)\n"
   ]
  },
  {
   "cell_type": "code",
   "execution_count": 89,
   "metadata": {},
   "outputs": [
    {
     "data": {
      "text/html": [
       "<table>\n",
       "<thead><tr><th></th><th scope=col>low</th><th scope=col>age</th><th scope=col>lwt</th><th scope=col>race</th><th scope=col>smoke</th><th scope=col>ptl</th><th scope=col>ht</th><th scope=col>ui</th><th scope=col>ftv</th><th scope=col>bwt</th></tr></thead>\n",
       "<tbody>\n",
       "\t<tr><th scope=row>85</th><td>0   </td><td>19  </td><td>182 </td><td>2   </td><td>0   </td><td>0   </td><td>0   </td><td>1   </td><td>0   </td><td>2523</td></tr>\n",
       "\t<tr><th scope=row>86</th><td>0   </td><td>33  </td><td>155 </td><td>3   </td><td>0   </td><td>0   </td><td>0   </td><td>0   </td><td>3   </td><td>2551</td></tr>\n",
       "\t<tr><th scope=row>87</th><td>0   </td><td>20  </td><td>105 </td><td>1   </td><td>1   </td><td>0   </td><td>0   </td><td>0   </td><td>1   </td><td>2557</td></tr>\n",
       "\t<tr><th scope=row>88</th><td>0   </td><td>21  </td><td>108 </td><td>1   </td><td>1   </td><td>0   </td><td>0   </td><td>1   </td><td>2   </td><td>2594</td></tr>\n",
       "\t<tr><th scope=row>89</th><td>0   </td><td>18  </td><td>107 </td><td>1   </td><td>1   </td><td>0   </td><td>0   </td><td>1   </td><td>0   </td><td>2600</td></tr>\n",
       "\t<tr><th scope=row>91</th><td>0   </td><td>21  </td><td>124 </td><td>3   </td><td>0   </td><td>0   </td><td>0   </td><td>0   </td><td>0   </td><td>2622</td></tr>\n",
       "</tbody>\n",
       "</table>\n"
      ],
      "text/latex": [
       "\\begin{tabular}{r|llllllllll}\n",
       "  & low & age & lwt & race & smoke & ptl & ht & ui & ftv & bwt\\\\\n",
       "\\hline\n",
       "\t85 & 0    & 19   & 182  & 2    & 0    & 0    & 0    & 1    & 0    & 2523\\\\\n",
       "\t86 & 0    & 33   & 155  & 3    & 0    & 0    & 0    & 0    & 3    & 2551\\\\\n",
       "\t87 & 0    & 20   & 105  & 1    & 1    & 0    & 0    & 0    & 1    & 2557\\\\\n",
       "\t88 & 0    & 21   & 108  & 1    & 1    & 0    & 0    & 1    & 2    & 2594\\\\\n",
       "\t89 & 0    & 18   & 107  & 1    & 1    & 0    & 0    & 1    & 0    & 2600\\\\\n",
       "\t91 & 0    & 21   & 124  & 3    & 0    & 0    & 0    & 0    & 0    & 2622\\\\\n",
       "\\end{tabular}\n"
      ],
      "text/markdown": [
       "\n",
       "| <!--/--> | low | age | lwt | race | smoke | ptl | ht | ui | ftv | bwt | \n",
       "|---|---|---|---|---|---|\n",
       "| 85 | 0    | 19   | 182  | 2    | 0    | 0    | 0    | 1    | 0    | 2523 | \n",
       "| 86 | 0    | 33   | 155  | 3    | 0    | 0    | 0    | 0    | 3    | 2551 | \n",
       "| 87 | 0    | 20   | 105  | 1    | 1    | 0    | 0    | 0    | 1    | 2557 | \n",
       "| 88 | 0    | 21   | 108  | 1    | 1    | 0    | 0    | 1    | 2    | 2594 | \n",
       "| 89 | 0    | 18   | 107  | 1    | 1    | 0    | 0    | 1    | 0    | 2600 | \n",
       "| 91 | 0    | 21   | 124  | 3    | 0    | 0    | 0    | 0    | 0    | 2622 | \n",
       "\n",
       "\n"
      ],
      "text/plain": [
       "   low age lwt race smoke ptl ht ui ftv bwt \n",
       "85 0   19  182 2    0     0   0  1  0   2523\n",
       "86 0   33  155 3    0     0   0  0  3   2551\n",
       "87 0   20  105 1    1     0   0  0  1   2557\n",
       "88 0   21  108 1    1     0   0  1  2   2594\n",
       "89 0   18  107 1    1     0   0  1  0   2600\n",
       "91 0   21  124 3    0     0   0  0  0   2622"
      ]
     },
     "metadata": {},
     "output_type": "display_data"
    },
    {
     "data": {},
     "metadata": {},
     "output_type": "display_data"
    },
    {
     "data": {
      "image/png": "[encoded data removed]",
      "text/plain": [
       "plot without title"
      ]
     },
     "metadata": {},
     "output_type": "display_data"
    }
   ],
   "source": [
    "# making multiple density curve\n",
    "library(MASS)\n",
    "birthwt1<-birthwt\n",
    "head(birthwt1)\n",
    "birthwt1$smoke<-factor(birthwt1$smoke)\n",
    "ggplot(birthwt1,aes(bwt,colour=smoke))+geom_density()"
   ]
  },
  {
   "cell_type": "code",
   "execution_count": null,
   "metadata": {},
   "outputs": [],
   "source": []
  },
  {
   "cell_type": "code",
   "execution_count": 90,
   "metadata": {},
   "outputs": [
    {
     "data": {},
     "metadata": {},
     "output_type": "display_data"
    },
    {
     "data": {
      "image/png": "[encoded data removed]",
      "text/plain": [
       "plot without title"
      ]
     },
     "metadata": {},
     "output_type": "display_data"
    }
   ],
   "source": [
    "ggplot(birthwt1,aes(bwt,fill=smoke))+geom_density(alpha=.2)"
   ]
  },
  {
   "cell_type": "code",
   "execution_count": 91,
   "metadata": {},
   "outputs": [
    {
     "data": {},
     "metadata": {},
     "output_type": "display_data"
    },
    {
     "data": {
      "image/png": "[encoded data removed]",
      "text/plain": [
       "plot without title"
      ]
     },
     "metadata": {},
     "output_type": "display_data"
    }
   ],
   "source": [
    "ggplot(birthwt1,aes(bwt,fill=smoke))+geom_density(alpha=.2)+facet_grid(smoke~.)"
   ]
  },
  {
   "cell_type": "code",
   "execution_count": 96,
   "metadata": {},
   "outputs": [
    {
     "name": "stderr",
     "output_type": "stream",
     "text": [
      "The following `from` values were not present in `x`: 0, 1\n",
      "`stat_bin()` using `bins = 30`. Pick better value with `binwidth`.\n"
     ]
    },
    {
     "data": {},
     "metadata": {},
     "output_type": "display_data"
    },
    {
     "data": {
      "image/png": "[encoded data removed]",
      "text/plain": [
       "plot without title"
      ]
     },
     "metadata": {},
     "output_type": "display_data"
    }
   ],
   "source": [
    "library(plyr)\n",
    "birthwt1$smoke<-revalue(birthwt1$smoke,c(\"0\"=\"No Smoke\",\"1\"=\"Smoke\"))\n",
    "ggplot(birthwt1,aes(bwt))+geom_density(alpha=.2)+facet_grid(smoke~.)+geom_histogram(aes(y=..density..))"
   ]
  },
  {
   "cell_type": "code",
   "execution_count": 99,
   "metadata": {},
   "outputs": [
    {
     "name": "stderr",
     "output_type": "stream",
     "text": [
      "`stat_bin()` using `bins = 30`. Pick better value with `binwidth`.\n"
     ]
    },
    {
     "data": {},
     "metadata": {},
     "output_type": "display_data"
    },
    {
     "data": {
      "image/png": "[encoded data removed]",
      "text/plain": [
       "plot without title"
      ]
     },
     "metadata": {},
     "output_type": "display_data"
    }
   ],
   "source": [
    "ggplot(faithful,aes(waiting))+geom_freqpoly()"
   ]
  },
  {
   "cell_type": "code",
   "execution_count": 100,
   "metadata": {},
   "outputs": [
    {
     "data": {},
     "metadata": {},
     "output_type": "display_data"
    },
    {
     "data": {
      "image/png": "[encoded data removed]",
      "text/plain": [
       "plot without title"
      ]
     },
     "metadata": {},
     "output_type": "display_data"
    }
   ],
   "source": [
    "ggplot(birthwt,aes(factor(race),bwt))+geom_boxplot()"
   ]
  },
  {
   "cell_type": "code",
   "execution_count": 102,
   "metadata": {},
   "outputs": [
    {
     "data": {},
     "metadata": {},
     "output_type": "display_data"
    },
    {
     "data": {
      "image/png": "[encoded data removed]",
      "text/plain": [
       "plot without title"
      ]
     },
     "metadata": {},
     "output_type": "display_data"
    }
   ],
   "source": [
    "# boxplot with narrower size\n",
    "ggplot(birthwt,aes(factor(race),bwt))+geom_boxplot(width=.5)"
   ]
  },
  {
   "cell_type": "code",
   "execution_count": 103,
   "metadata": {},
   "outputs": [
    {
     "data": {},
     "metadata": {},
     "output_type": "display_data"
    },
    {
     "data": {
      "image/png": "[encoded data removed]",
      "text/plain": [
       "plot without title"
      ]
     },
     "metadata": {},
     "output_type": "display_data"
    }
   ],
   "source": [
    "ggplot(birthwt,aes(factor(race),bwt))+geom_boxplot(width=.5,outlier.size=3,outlier.shape=21)"
   ]
  },
  {
   "cell_type": "code",
   "execution_count": 104,
   "metadata": {},
   "outputs": [
    {
     "data": {},
     "metadata": {},
     "output_type": "display_data"
    },
    {
     "data": {
      "image/png": "[encoded data removed]",
      "text/plain": [
       "plot without title"
      ]
     },
     "metadata": {},
     "output_type": "display_data"
    }
   ],
   "source": [
    "ggplot(birthwt,aes(factor(race),bwt))+geom_boxplot(width=.5,outlier.size=3,outlier.shape=21)+stat_summary(fun.y=\"mean\",geom=\"point\")"
   ]
  },
  {
   "cell_type": "code",
   "execution_count": 113,
   "metadata": {},
   "outputs": [
    {
     "name": "stderr",
     "output_type": "stream",
     "text": [
      "`stat_bindot()` using `bins = 30`. Pick better value with `binwidth`.\n"
     ]
    },
    {
     "data": {},
     "metadata": {},
     "output_type": "display_data"
    },
    {
     "data": {
      "image/png": "[encoded data removed]",
      "text/plain": [
       "plot without title"
      ]
     },
     "metadata": {},
     "output_type": "display_data"
    }
   ],
   "source": [
    "# overlaid dot plot with boxplot\n",
    "ggplot(heightweight,aes(sex,heightIn))+geom_boxplot()+geom_dotplot(binaxis=\"y\",stackdir=\"center\",fill=NA)"
   ]
  },
  {
   "cell_type": "code",
   "execution_count": 114,
   "metadata": {},
   "outputs": [
    {
     "data": {},
     "metadata": {},
     "output_type": "display_data"
    },
    {
     "data": {
      "image/png": "[encoded data removed]",
      "text/plain": [
       "plot without title"
      ]
     },
     "metadata": {},
     "output_type": "display_data"
    }
   ],
   "source": [
    "# two dimensional density plot\n",
    "p<-ggplot(faithful,aes(x=eruptions,y=waiting))\n",
    "p+geom_density2d()"
   ]
  },
  {
   "cell_type": "code",
   "execution_count": 118,
   "metadata": {},
   "outputs": [
    {
     "name": "stderr",
     "output_type": "stream",
     "text": [
      "Don't know how to automatically pick scale for object of type data.frame. Defaulting to continuous.\n"
     ]
    },
    {
     "data": {},
     "metadata": {},
     "output_type": "display_data"
    },
    {
     "data": {
      "image/png": "[encoded data removed]",
      "text/plain": [
       "plot without title"
      ]
     },
     "metadata": {},
     "output_type": "display_data"
    }
   ],
   "source": [
    "#text annotation\n",
    "x<-data.frame(c(-3,3))\n",
    "ggplot(x,aes(x=x))+stat_function(fun=dnorm)+annotate(\"text\",x=2,y=.3,parse=TRUE,label=\"frac(1,sqrt(2*pi))*e^{-x^2/2}\")"
   ]
  },
  {
   "cell_type": "code",
   "execution_count": 121,
   "metadata": {},
   "outputs": [
    {
     "name": "stderr",
     "output_type": "stream",
     "text": [
      "Don't know how to automatically pick scale for object of type data.frame. Defaulting to continuous.\n"
     ]
    },
    {
     "data": {},
     "metadata": {},
     "output_type": "display_data"
    },
    {
     "data": {
      "image/png": "[encoded data removed]",
      "text/plain": [
       "plot without title"
      ]
     },
     "metadata": {},
     "output_type": "display_data"
    }
   ],
   "source": [
    "ggplot(x,aes(x=x))+stat_function(fun=dnorm)+annotate(\"text\",x=0,y=.05,parse=TRUE,label=\"'Function: '* y==frac(1,sqrt(2*pi))*e^{-x^2/2}\")"
   ]
  },
  {
   "cell_type": "code",
   "execution_count": null,
   "metadata": {},
   "outputs": [],
   "source": [
    "\n",
    "\n"
   ]
  }
 ],
 "metadata": {
  "kernelspec": {
   "display_name": "R",
   "language": "R",
   "name": "ir"
  },
  "language_info": {
   "codemirror_mode": "r",
   "file_extension": ".r",
   "mimetype": "text/x-r-source",
   "name": "R",
   "pygments_lexer": "r",
   "version": "3.4.3"
  }
 },
 "nbformat": 4,
 "nbformat_minor": 2
}
